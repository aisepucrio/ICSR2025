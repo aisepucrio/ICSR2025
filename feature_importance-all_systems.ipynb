{
 "cells": [
  {
   "cell_type": "code",
   "execution_count": 14,
   "id": "cfae42be",
   "metadata": {},
   "outputs": [],
   "source": [
    "import pandas as pd \n",
    "from sklearn.ensemble import RandomForestRegressor, GradientBoostingRegressor\n",
    "from sklearn.tree import DecisionTreeRegressor\n",
    "import numpy as np\n",
    "import warnings\n",
    "from sklearn import tree\n",
    "from sklearn.linear_model import LinearRegression\n",
    "from sklearn.feature_selection import RFE\n",
    "warnings.filterwarnings('ignore')"
   ]
  },
  {
   "cell_type": "code",
   "execution_count": 5,
   "id": "b68fa69c",
   "metadata": {},
   "outputs": [],
   "source": [
    "# df"
   ]
  },
  {
   "cell_type": "code",
   "execution_count": 15,
   "id": "1109ad48",
   "metadata": {},
   "outputs": [],
   "source": [
    "def run_features_engine_yes(df):\n",
    "    if not df.columns.isin(['#yes']).any():\n",
    "        engine_values = []\n",
    "        for i, j in df.iterrows():\n",
    "            num1s = 0\n",
    "            num1s = j.value_counts()[1]\n",
    "            engine_values.append(num1s)\n",
    "        df['#yes'] = engine_values\n",
    "    \n",
    "    return df"
   ]
  },
  {
   "cell_type": "code",
   "execution_count": 16,
   "id": "7aa2211f",
   "metadata": {},
   "outputs": [],
   "source": [
    "def run_feature_encoding(df):\n",
    "    \n",
    "    encoding_colunms = []\n",
    "    rows_count = len(df.axes[0])\n",
    "    \n",
    "    df_encode = df.copy()\n",
    "    \n",
    "    for column in df_encode.columns:\n",
    "        num1s = (df_encode[column]==1).sum()\n",
    "        num0s= (df_encode[column]==0).sum()\n",
    "        if ((num1s == rows_count) | (num0s == rows_count)): \n",
    "            encoding_colunms.append(column)\n",
    "                \n",
    "    print(\"Deleted columns: \")\n",
    "    display(encoding_colunms)\n",
    "    for index in encoding_colunms:\n",
    "        df_encode = df_encode.drop(index,axis=1)\n",
    "    return df_encode\n",
    "    \n",
    "        "
   ]
  },
  {
   "cell_type": "code",
   "execution_count": 8,
   "id": "907bb2d5",
   "metadata": {},
   "outputs": [],
   "source": [
    "# samples_config = ['distBased', 'divDistBased','henard', 'random', 'solverBased', 'twise']\n",
    "\n",
    "# # for config_name in samples_config:\n",
    "# #     for t in [1,2,3]:\n",
    "# path = r\"sampledConfigurations_distBased_t1.csv\"\n",
    "# path_name = \"engine_distBased_t1\"\n",
    "# df = pd.read_csv(path, sep=';')\n",
    "\n",
    "# features_engine_yes(df)\n",
    "# print(\"DF AFTER FEATURE ENGINE\")\n",
    "# display (df)\n",
    "\n",
    "# df = feature_encoding(df)\n",
    "# print(\"DF AFTER FEATURE ENCODING\")\n",
    "# display (df)\n",
    "\n",
    "\n",
    "# run_featureSelection(df, None, path_name)\n",
    "# run_featureSelection(df, hyperparams_RF, path_name)"
   ]
  },
  {
   "cell_type": "markdown",
   "id": "96c9fa24",
   "metadata": {},
   "source": [
    "### Geração de feature importance com a utilização de hiperparâmetros"
   ]
  },
  {
   "cell_type": "code",
   "execution_count": 17,
   "id": "b28aee7e",
   "metadata": {},
   "outputs": [],
   "source": [
    "hyperparams_RF = {\n",
    "    \"max_depth\": 25,\n",
    "    \"n_estimators\": 10,\n",
    "    \"n_jobs\" : -1\n",
    "}\n",
    "\n",
    "# run_featureSelection(df, hyperparams_RF)"
   ]
  },
  {
   "cell_type": "markdown",
   "id": "027c0fac",
   "metadata": {},
   "source": [
    "### Geração de feature importance sem a utilização de hiperparâmetros"
   ]
  },
  {
   "cell_type": "code",
   "execution_count": null,
   "id": "fbd30992",
   "metadata": {},
   "outputs": [
    {
     "name": "stdout",
     "output_type": "stream",
     "text": [
      "> \u001b[0;32m/tmp/ipykernel_14044/186043981.py\u001b[0m(23)\u001b[0;36mrun_featureSelection\u001b[0;34m()\u001b[0m\n",
      "\u001b[0;32m     21 \u001b[0;31m\u001b[0;34m\u001b[0m\u001b[0m\n",
      "\u001b[0m\u001b[0;32m     22 \u001b[0;31m\u001b[0;34m\u001b[0m\u001b[0m\n",
      "\u001b[0m\u001b[0;32m---> 23 \u001b[0;31m    \u001b[0;32mif\u001b[0m \u001b[0mhyperparameters\u001b[0m \u001b[0;32mis\u001b[0m \u001b[0;32mNone\u001b[0m\u001b[0;34m:\u001b[0m\u001b[0;34m\u001b[0m\u001b[0;34m\u001b[0m\u001b[0m\n",
      "\u001b[0m\u001b[0;32m     24 \u001b[0;31m        \u001b[0;32mif\u001b[0m \u001b[0mpath\u001b[0m \u001b[0;32mis\u001b[0m \u001b[0;32mNone\u001b[0m\u001b[0;34m:\u001b[0m\u001b[0;34m\u001b[0m\u001b[0;34m\u001b[0m\u001b[0m\n",
      "\u001b[0m\u001b[0;32m     25 \u001b[0;31m            \u001b[0;32mif\u001b[0m \u001b[0;34m(\u001b[0m\u001b[0msystem\u001b[0m \u001b[0;32mis\u001b[0m \u001b[0;32mNone\u001b[0m\u001b[0;34m)\u001b[0m\u001b[0;34m:\u001b[0m\u001b[0;34m\u001b[0m\u001b[0;34m\u001b[0m\u001b[0m\n",
      "\u001b[0m\n"
     ]
    },
    {
     "name": "stdin",
     "output_type": "stream",
     "text": [
      "ipdb>  feature_importances\n"
     ]
    },
    {
     "name": "stdout",
     "output_type": "stream",
     "text": [
      "                       Coeficiente\n",
      "x_4                   1.600975e+16\n",
      "x_2                   1.600975e+16\n",
      "x_0                   1.600975e+16\n",
      "x_6                   1.600975e+16\n",
      "x_8                   1.600975e+16\n",
      "x_10                  1.600975e+16\n",
      "BlockSize_1           1.581283e+16\n",
      "BlockSize_4           1.581283e+16\n",
      "BlockSize_2048        1.581283e+16\n",
      "BlockSize_2           1.581283e+16\n",
      "BlockSize_4096        1.581283e+16\n",
      "BlockSize_32          1.581283e+16\n",
      "BlockSize_8           1.581283e+16\n",
      "BlockSize_1024        1.581283e+16\n",
      "BlockSize_64          1.581283e+16\n",
      "BlockSize_128         1.581283e+16\n",
      "BlockSize_256         1.581283e+16\n",
      "BlockSize_512         1.581283e+16\n",
      "BlockSize_16          1.581283e+16\n",
      "Files_30              5.912642e+15\n",
      "Files_0               5.912642e+15\n",
      "Files_100             5.912642e+15\n",
      "Files_20              5.912642e+15\n",
      "Files_90              5.912642e+15\n",
      "Files_10              5.912642e+15\n",
      "Files_80              5.912642e+15\n",
      "Files_40              5.912642e+15\n",
      "Files_50              5.912642e+15\n",
      "Files_70              5.912642e+15\n",
      "Files_60              5.912642e+15\n",
      "Files                 4.834607e+15\n",
      "CompressionMethod     2.886564e+15\n",
      "BZip2                 2.109461e+15\n",
      "Deflate               2.109461e+15\n",
      "LZMA2                 2.109461e+15\n",
      "LZMA                  2.109461e+15\n",
      "PPMd                  2.109461e+15\n",
      "BlockSize             4.683161e+14\n",
      "root                  6.010996e+11\n",
      "tmOff                 1.351823e+03\n",
      "filterOff             5.951927e+02\n",
      "HeaderCompressionOff  3.105644e+02\n",
      "mtOff                 1.433000e+01\n",
      "x                     4.000000e+00\n"
     ]
    },
    {
     "name": "stdin",
     "output_type": "stream",
     "text": [
      "ipdb>  feature_importances.columns\n"
     ]
    },
    {
     "name": "stdout",
     "output_type": "stream",
     "text": [
      "Index(['Coeficiente'], dtype='object')\n"
     ]
    },
    {
     "name": "stdin",
     "output_type": "stream",
     "text": [
      "ipdb>  feature_importances[0]\n"
     ]
    },
    {
     "name": "stdout",
     "output_type": "stream",
     "text": [
      "*** KeyError: 0\n"
     ]
    },
    {
     "name": "stdin",
     "output_type": "stream",
     "text": [
      "ipdb>  display(feature_importances)\n"
     ]
    },
    {
     "name": "stdout",
     "output_type": "stream",
     "text": [
      "display (feature_importances):                        Coeficiente\n",
      "x_4                   1.600975e+16\n",
      "x_2                   1.600975e+16\n",
      "x_0                   1.600975e+16\n",
      "x_6                   1.600975e+16\n",
      "x_8                   1.600975e+16\n",
      "x_10                  1.600975e+16\n",
      "BlockSize_1           1.581283e+16\n",
      "BlockSize_4           1.581283e+16\n",
      "BlockSize_2048        1.581283e+16\n",
      "BlockSize_2           1.581283e+16\n",
      "BlockSize_4096        1.581283e+16\n",
      "BlockSize_32          1.581283e+16\n",
      "BlockSize_8           1.581283e+16\n",
      "BlockSize_1024        1.581283e+16\n",
      "BlockSize_64          1.581283e+16\n",
      "BlockSize_128         1.581283e+16\n",
      "BlockSize_256         1.581283e+16\n",
      "BlockSize_512         1.581283e+16\n",
      "BlockSize_16          1.581283e+16\n",
      "Files_30              5.912642e+15\n",
      "Files_0               5.912642e+15\n",
      "Files_100             5.912642e+15\n",
      "Files_20              5.912642e+15\n",
      "Files_90              5.912642e+15\n",
      "Files_10              5.912642e+15\n",
      "Files_80              5.912642e+15\n",
      "Files_40              5.912642e+15\n",
      "Files_50              5.912642e+15\n",
      "Files_70              5.912642e+15\n",
      "Files_60              5.912642e+15\n",
      "Files                 4.834607e+15\n",
      "CompressionMethod     2.886564e+15\n",
      "BZip2                 2.109461e+15\n",
      "Deflate               2.109461e+15\n",
      "LZMA2                 2.109461e+15\n",
      "LZMA                  2.109461e+15\n",
      "PPMd                  2.109461e+15\n",
      "BlockSize             4.683161e+14\n",
      "root                  6.010996e+11\n",
      "tmOff                 1.351823e+03\n",
      "filterOff             5.951927e+02\n",
      "HeaderCompressionOff  3.105644e+02\n",
      "mtOff                 1.433000e+01\n",
      "x                     4.000000e+00\n"
     ]
    }
   ],
   "source": [
    "from IPython.core.debugger import set_trace\n",
    "\n",
    "def run_featureSelection(df, system=None, hyperparameters=None, path=None, technique=None):\n",
    "    X = df.drop('Performance', axis=1)\n",
    "    y = df['Performance']\n",
    "\n",
    "    if technique == \"RandomForest\":\n",
    "        alg = \"RF\"\n",
    "        rf = ensemble.RandomForestRegressor(random_state=42)\n",
    "        rf.fit(X, y)\n",
    "        importances = rf.feature_importances_\n",
    "        feature_importances = pd.DataFrame(importances, index = X.columns, columns=['importance']).sort_values('importance', ascending=False)\n",
    "    elif technique == \"DecisionTree\":\n",
    "        alg = \"DT\"\n",
    "        dt = tree.DecisionTreeRegressor(random_state=42)\n",
    "        dt.fit(X, y)\n",
    "        importances = dt.feature_importances_\n",
    "        feature_importances = pd.DataFrame(importances, index = X.columns, columns=['importance']).sort_values('importance', ascending=False)\n",
    "    elif technique == \"GradientBoostingTree\":\n",
    "        alg = \"GB\"\n",
    "        gb = ensemble.GradientBoostingRegressor(random_state=42)\n",
    "        gb.fit(X, y)\n",
    "        importances = gb.feature_importances_\n",
    "        feature_importances = pd.DataFrame(importances, index = X.columns, columns=['importance']).sort_values('importance', ascending=False)\n",
    "    else:\n",
    "        alg = \"RL\"\n",
    "        model = LinearRegression()\n",
    "        model.fit(X, y)\n",
    "        \n",
    "        coeficientes = pd.DataFrame(model.coef_, X.columns, columns=['importance'])\n",
    "        \n",
    "        feature_importances = coeficientes.abs().sort_values(by='importance', ascending=False)\n",
    "\n",
    "    feature_importances.to_csv(system+f\"/feature_importance_{path}_{alg}.csv\", header=True)\n",
    "\n",
    "# run_featureSelection(df)"
   ]
  },
  {
   "cell_type": "code",
   "execution_count": 28,
   "id": "ec4d1e22",
   "metadata": {},
   "outputs": [],
   "source": [
    "# samples_config = ['distBased', 'divDistBased','henard', 'random', 'solverBased', 'twise']\n",
    "# samples_config = [z'twise']\n",
    "#     for t in [1,2,3]:\n",
    "#         path = r\"sampledConfigurations_\"+config_name+\"_t\"+str(t)+\".csv\"\n",
    "#         path_name = config_name+\"_t\"+str(t)\n",
    "#         df = pd.read_csv(path, sep=';')\n",
    "        \n",
    "#         run_featureSelection(df, None, path_name)\n",
    "#         run_featureSelection(df, hyperparams_RF, path_name)"
   ]
  },
  {
   "cell_type": "code",
   "execution_count": 32,
   "id": "85048ae0",
   "metadata": {},
   "outputs": [],
   "source": []
  },
  {
   "cell_type": "code",
   "execution_count": null,
   "id": "b716bf3e",
   "metadata": {},
   "outputs": [],
   "source": []
  },
  {
   "cell_type": "code",
   "execution_count": 11,
   "id": "200ac573-5d68-4561-8632-558b1b659140",
   "metadata": {},
   "outputs": [],
   "source": []
  },
  {
   "cell_type": "code",
   "execution_count": null,
   "id": "6d96f836-fb89-48f9-823e-9d6021394d71",
   "metadata": {},
   "outputs": [],
   "source": []
  }
 ],
 "metadata": {
  "kernelspec": {
   "display_name": "Python 3 (ipykernel)",
   "language": "python",
   "name": "python3"
  },
  "language_info": {
   "codemirror_mode": {
    "name": "ipython",
    "version": 3
   },
   "file_extension": ".py",
   "mimetype": "text/x-python",
   "name": "python",
   "nbconvert_exporter": "python",
   "pygments_lexer": "ipython3",
   "version": "3.10.12"
  }
 },
 "nbformat": 4,
 "nbformat_minor": 5
}
