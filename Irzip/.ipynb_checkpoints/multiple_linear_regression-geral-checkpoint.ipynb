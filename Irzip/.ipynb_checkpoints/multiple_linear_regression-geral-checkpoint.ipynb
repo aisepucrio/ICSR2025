{
 "cells": [
  {
   "cell_type": "code",
   "execution_count": 37,
   "metadata": {},
   "outputs": [],
   "source": [
    "#import tuxml\n",
    "import pandas as pd \n",
    "import warnings\n",
    "warnings.filterwarnings('ignore')\n",
    "\n",
    "#definitions\n",
    "samples_config = ['distBased', 'divDistBased','henard', 'random', 'solverBased', 'twise']\n",
    "size_methods = [\"Performance\"]\n"
   ]
  },
  {
   "cell_type": "code",
   "execution_count": 38,
   "metadata": {},
   "outputs": [],
   "source": [
    "#learning a model by using linear regression\n",
    "import numpy as np\n",
    "from sklearn.linear_model import LinearRegression\n",
    "from sklearn.model_selection import train_test_split\n",
    "from sklearn import linear_model\n",
    "from sklearn.linear_model import ElasticNet\n",
    "\n",
    "def run_regressorML(reg, test_size, size_target, x_train, x_test, y_train, y_test):\n",
    "    assert(size_target in size_methods)\n",
    "    reg.fit(x_train, y_train)\n",
    "    y_pred = reg.predict(x_test)\n",
    "    #y_pred = reg.intercept_ + np.sum(reg.coef_ * x_test.values, axis=1)\n",
    "    dfErrors = pd.DataFrame({'Actual':y_test, 'Predicted':y_pred, \"error\":(y_pred - y_test).abs(), \"% error\":((y_pred - y_test)/y_test).abs()*100})\n",
    "    return dfErrors[\"% error\"].describe()"
   ]
  },
  {
   "cell_type": "code",
   "execution_count": 39,
   "metadata": {},
   "outputs": [],
   "source": [
    "def ft_importances(coef_, col):\n",
    "    importanceSeries = pd.Series(coef_, index=col.values)\n",
    "    return importanceSeries[importanceSeries != 0].abs().sort_values(ascending = False)"
   ]
  },
  {
   "cell_type": "code",
   "execution_count": 40,
   "metadata": {},
   "outputs": [
    {
     "data": {
      "text/html": [
       "<div>\n",
       "<style scoped>\n",
       "    .dataframe tbody tr th:only-of-type {\n",
       "        vertical-align: middle;\n",
       "    }\n",
       "\n",
       "    .dataframe tbody tr th {\n",
       "        vertical-align: top;\n",
       "    }\n",
       "\n",
       "    .dataframe thead th {\n",
       "        text-align: right;\n",
       "    }\n",
       "</style>\n",
       "<table border=\"1\" class=\"dataframe\">\n",
       "  <thead>\n",
       "    <tr style=\"text-align: right;\">\n",
       "      <th></th>\n",
       "      <th>algorithm_name</th>\n",
       "      <th>ft_dummyfication</th>\n",
       "      <th>origin_ft_selection</th>\n",
       "      <th>ft_selection</th>\n",
       "      <th>hyperparameters</th>\n",
       "      <th>size_target</th>\n",
       "      <th>test_size</th>\n",
       "      <th>coef_order</th>\n",
       "      <th>accuracy</th>\n",
       "    </tr>\n",
       "  </thead>\n",
       "  <tbody>\n",
       "  </tbody>\n",
       "</table>\n",
       "</div>"
      ],
      "text/plain": [
       "Empty DataFrame\n",
       "Columns: [algorithm_name, ft_dummyfication, origin_ft_selection, ft_selection, hyperparameters, size_target, test_size, coef_order, accuracy]\n",
       "Index: []"
      ]
     },
     "execution_count": 40,
     "metadata": {},
     "output_type": "execute_result"
    }
   ],
   "source": [
    "df_result  = pd.DataFrame(columns = ['algorithm_name', 'ft_dummyfication', 'origin_ft_selection', 'ft_selection', 'hyperparameters', 'size_target', 'test_size', 'coef_order', 'accuracy'])\n",
    "df_result"
   ]
  },
  {
   "cell_type": "code",
   "execution_count": 41,
   "metadata": {},
   "outputs": [],
   "source": [
    "from sklearn.model_selection import GridSearchCV\n",
    "from sklearn.linear_model import LinearRegression\n",
    "from sklearn.preprocessing import PolynomialFeatures\n",
    "from sklearn.linear_model import ElasticNet\n",
    "from sklearn import linear_model\n",
    "from sklearn import metrics\n",
    "\n",
    "%run feature_importance.ipynb\n",
    "\n",
    "\n",
    "\n",
    "def run_Algorithms(df, ft_importance_enable, system=None): \n",
    "    \n",
    "    for config_name in samples_config:\n",
    "        path_name = config_name+\"_t3\"\n",
    "        if(system==None):\n",
    "            path = r\"sampledConfigurations_\"+path_name+\".csv\"\n",
    "        else:\n",
    "            path = r+system+\"/sampledConfigurations_\"+path_name+\".csv\"\n",
    "\n",
    "        df = pd.read_csv(path, sep=';')\n",
    "                \n",
    "        for samplePerc in [0.3,0.4,0.5,0.6]:\n",
    "                \n",
    "                #Run fetures engines: #yes and encoding\n",
    "                df = run_features_engine_yes(df)\n",
    "                df = run_feature_encoding(df)\n",
    "                \n",
    "                #number of features after features engine execution\n",
    "                num_features = round(samplePerc*len(df.columns))\n",
    "                \n",
    "                path_name = config_name+\"_t3_features_engine\"\n",
    "                \n",
    "                #Run feature selection with and without hyperparams (after features engine execution)\n",
    "                run_featureSelection(df, None, path_name)\n",
    "                run_featureSelection(df, hyperparams_RF, path_name)\n",
    "                \n",
    "\n",
    "                if(system==None):\n",
    "                    df_importance = pd.read_csv(\"feature_importance_\"+path_name+\".csv\")\n",
    "                else:\n",
    "                    df_importance = pd.read_csv(system+\"/feature_importance_\"+path_name+\".csv\")\n",
    "\n",
    "                df_importance = df[df_importance[:num_features][\"Unnamed: 0\"].values]\n",
    "                df_importance.head()\n",
    "\n",
    "                print(\"Sample features number: \"+ str(num_features))\n",
    "#                 display(df_importance)\n",
    "                df_importance.head()\n",
    "\n",
    "                target = \"Performance\"\n",
    "                paramsLasso = {'alpha': [25,10,4,2,1.0,0.8,0.5,0.3,0.2,0.1,0.05,0.02,0.01],\n",
    "                               'max_iter': [1, 5, 10, 100, 1000],}\n",
    "                paramsRidge = {'alpha': [25,10,4,2,1.0,0.8,0.5,0.3,0.2,0.1,0.05,0.02,0.01]}\n",
    "                paramsENet = {'alpha': [25,10,4,2,1.0,0.8,0.5,0.3,0.2,0.1,0.05,0.02,0.01],\n",
    "                              'l1_ratio': [0.0, 0.5, 1.0, 0.1],\n",
    "                              'max_iter': [1, 5, 10, 100, 1000],}\n",
    "\n",
    "                for ft_dummyfication in [False, True]:\n",
    "                    if ft_dummyfication:\n",
    "                        #Creating dummy variables in pandas\n",
    "                        df = pd.get_dummies(df, columns=list(df.drop(columns=size_methods).columns.values))\n",
    "    #                     df_importance = pd.get_dummies(df_importance, columns=list(df_importance.drop(columns=size_methods).columns.values))\n",
    "                        df_importance = pd.get_dummies(df_importance, columns=list(df_importance.columns.values))\n",
    "\n",
    "                    if ft_importance_enable:\n",
    "                        ft_selection =  {'None': df.drop(columns=size_methods).columns,\n",
    "                                    'RandomForest': df_importance.columns[:num_features],}\n",
    "\n",
    "                    else:\n",
    "                        ft_selection =  {'None': df.drop(columns=size_methods).columns,\n",
    "                                         'RandomForest': df.columns[:num_features],}\n",
    "\n",
    "                    for origin_ft_selection in ft_selection:\n",
    "                        for size in [0.1,0.2,0.3,0.4,0.5,0.6,0.7,0.8,0.9]:\n",
    "                            # size = number of configurations\n",
    "                            x_train, x_test, y_train, y_test = train_test_split(df[ft_selection[origin_ft_selection]], df[target], test_size=size, random_state=42)  \n",
    "                            x_train, y_train = np.array(x_train.values), np.array(y_train.values)\n",
    "\n",
    "#                             print(x_train)\n",
    "#                             print(y_train)\n",
    "\n",
    "                            if len(x_train) > 3:\n",
    "\n",
    "                                model = {'LinearRegression': LinearRegression(),\n",
    "                                         'Lasso': GridSearchCV(linear_model.Lasso(), param_grid=paramsLasso, cv=3).fit(x_train, y_train).best_estimator_,\n",
    "                                         'Ridge': GridSearchCV(linear_model.Ridge(), param_grid=paramsRidge, cv=3).fit(x_train, y_train).best_estimator_,\n",
    "                                         'ElasticNet': GridSearchCV(ElasticNet(), param_grid=paramsENet, scoring='r2', cv=3).fit(x_train, y_train).best_estimator_,\n",
    "                                         'PolynomialRegression': LinearRegression()}\n",
    "                            else:\n",
    "                                if len(x_train) >= 2:\n",
    "                                    model = {'LinearRegression': LinearRegression(),\n",
    "                                             'Lasso': GridSearchCV(linear_model.Lasso(), param_grid=paramsLasso, cv=2).fit(x_train, y_train).best_estimator_,\n",
    "                                             'Ridge': GridSearchCV(linear_model.Ridge(), param_grid=paramsRidge, cv=2).fit(x_train, y_train).best_estimator_,\n",
    "                                             'ElasticNet': GridSearchCV(ElasticNet(), param_grid=paramsENet, scoring='r2', cv=2).fit(x_train, y_train).best_estimator_,\n",
    "                                             'PolynomialRegression': LinearRegression()}\n",
    "                            for key in model:\n",
    "                                if (key == 'PolynomialRegression') and (origin_ft_selection == 'None'):\n",
    "                                    print(\"It doesn't scale\")\n",
    "                                else:\n",
    "                                    if (key == 'PolynomialRegression'):\n",
    "                                        #for 2 options we have: 𝑓(𝑥₁, 𝑥₂) = 𝑏₀ + 𝑏₁𝑥₁ + 𝑏₂𝑥₂ + 𝑏₃𝑥₁² + 𝑏₄𝑥₁𝑥₂ + 𝑏₅𝑥₂²\n",
    "                                        x_train = PolynomialFeatures(degree=2, include_bias=False).fit_transform(x_train)\n",
    "                                        x_test = PolynomialFeatures(degree=2, include_bias=False).fit_transform(x_test)\n",
    "\n",
    "                                    res_model = run_regressorML(model[key], test_size=size, size_target=target, x_train=x_train, x_test=x_test, y_train=y_train, y_test=y_test)\n",
    "\n",
    "                                    if (key == 'PolynomialRegression'):\n",
    "                                        model[key].coef_ = model[key].coef_[:num_features]\n",
    "\n",
    "    #                                 print(model[key].coef_)\n",
    "                                    coef_order = ft_importances(model[key].coef_, col=ft_selection[origin_ft_selection])\n",
    "                                    df_result.loc[len(df_result)] = [key, ft_dummyfication, origin_ft_selection, ft_selection[origin_ft_selection], model[key], target, size, coef_order, res_model]\n",
    "                display(df_result)\n",
    "                if ft_importance_enable:\n",
    "                    df_result.to_csv(\"results_with_feature_importance_\"+path_name+\"_\"+str(num_features)+\".csv\", header=True)\n",
    "                else:\n",
    "                    df_result.to_csv(\"results_\"+path_name+\"_\"+str(num_features)+\".csv\", header=True)\n",
    "                display(df_result)\n",
    "    return df_result"
   ]
  },
  {
   "cell_type": "code",
   "execution_count": 42,
   "metadata": {},
   "outputs": [
    {
     "data": {
      "text/html": [
       "<div>\n",
       "<style scoped>\n",
       "    .dataframe tbody tr th:only-of-type {\n",
       "        vertical-align: middle;\n",
       "    }\n",
       "\n",
       "    .dataframe tbody tr th {\n",
       "        vertical-align: top;\n",
       "    }\n",
       "\n",
       "    .dataframe thead th {\n",
       "        text-align: right;\n",
       "    }\n",
       "</style>\n",
       "<table border=\"1\" class=\"dataframe\">\n",
       "  <thead>\n",
       "    <tr style=\"text-align: right;\">\n",
       "      <th></th>\n",
       "      <th>root</th>\n",
       "      <th>encryption</th>\n",
       "      <th>compression</th>\n",
       "      <th>compressionBzip2</th>\n",
       "      <th>compressionGzip</th>\n",
       "      <th>compressionLzo</th>\n",
       "      <th>compressionZpaq</th>\n",
       "      <th>compressionLrzip</th>\n",
       "      <th>level</th>\n",
       "      <th>level1</th>\n",
       "      <th>...</th>\n",
       "      <th>level4</th>\n",
       "      <th>level5</th>\n",
       "      <th>level6</th>\n",
       "      <th>level7</th>\n",
       "      <th>level8</th>\n",
       "      <th>level9</th>\n",
       "      <th>unlimitedWindowSize</th>\n",
       "      <th>disableCompressibilityTesting</th>\n",
       "      <th>Performance</th>\n",
       "      <th>#yes</th>\n",
       "    </tr>\n",
       "  </thead>\n",
       "  <tbody>\n",
       "    <tr>\n",
       "      <th>0</th>\n",
       "      <td>1</td>\n",
       "      <td>0</td>\n",
       "      <td>1</td>\n",
       "      <td>0</td>\n",
       "      <td>0</td>\n",
       "      <td>0</td>\n",
       "      <td>0</td>\n",
       "      <td>1</td>\n",
       "      <td>1</td>\n",
       "      <td>1</td>\n",
       "      <td>...</td>\n",
       "      <td>0</td>\n",
       "      <td>0</td>\n",
       "      <td>0</td>\n",
       "      <td>0</td>\n",
       "      <td>0</td>\n",
       "      <td>0</td>\n",
       "      <td>0</td>\n",
       "      <td>0</td>\n",
       "      <td>208900</td>\n",
       "      <td>5</td>\n",
       "    </tr>\n",
       "    <tr>\n",
       "      <th>1</th>\n",
       "      <td>1</td>\n",
       "      <td>0</td>\n",
       "      <td>1</td>\n",
       "      <td>0</td>\n",
       "      <td>0</td>\n",
       "      <td>0</td>\n",
       "      <td>0</td>\n",
       "      <td>1</td>\n",
       "      <td>1</td>\n",
       "      <td>0</td>\n",
       "      <td>...</td>\n",
       "      <td>0</td>\n",
       "      <td>0</td>\n",
       "      <td>0</td>\n",
       "      <td>0</td>\n",
       "      <td>0</td>\n",
       "      <td>0</td>\n",
       "      <td>0</td>\n",
       "      <td>0</td>\n",
       "      <td>210450</td>\n",
       "      <td>5</td>\n",
       "    </tr>\n",
       "    <tr>\n",
       "      <th>2</th>\n",
       "      <td>1</td>\n",
       "      <td>0</td>\n",
       "      <td>1</td>\n",
       "      <td>0</td>\n",
       "      <td>0</td>\n",
       "      <td>0</td>\n",
       "      <td>0</td>\n",
       "      <td>1</td>\n",
       "      <td>1</td>\n",
       "      <td>0</td>\n",
       "      <td>...</td>\n",
       "      <td>0</td>\n",
       "      <td>0</td>\n",
       "      <td>0</td>\n",
       "      <td>0</td>\n",
       "      <td>0</td>\n",
       "      <td>0</td>\n",
       "      <td>0</td>\n",
       "      <td>0</td>\n",
       "      <td>283750</td>\n",
       "      <td>5</td>\n",
       "    </tr>\n",
       "    <tr>\n",
       "      <th>3</th>\n",
       "      <td>1</td>\n",
       "      <td>0</td>\n",
       "      <td>1</td>\n",
       "      <td>0</td>\n",
       "      <td>0</td>\n",
       "      <td>0</td>\n",
       "      <td>0</td>\n",
       "      <td>1</td>\n",
       "      <td>1</td>\n",
       "      <td>0</td>\n",
       "      <td>...</td>\n",
       "      <td>1</td>\n",
       "      <td>0</td>\n",
       "      <td>0</td>\n",
       "      <td>0</td>\n",
       "      <td>0</td>\n",
       "      <td>0</td>\n",
       "      <td>0</td>\n",
       "      <td>0</td>\n",
       "      <td>339780</td>\n",
       "      <td>5</td>\n",
       "    </tr>\n",
       "    <tr>\n",
       "      <th>4</th>\n",
       "      <td>1</td>\n",
       "      <td>0</td>\n",
       "      <td>1</td>\n",
       "      <td>0</td>\n",
       "      <td>0</td>\n",
       "      <td>0</td>\n",
       "      <td>0</td>\n",
       "      <td>1</td>\n",
       "      <td>1</td>\n",
       "      <td>0</td>\n",
       "      <td>...</td>\n",
       "      <td>0</td>\n",
       "      <td>1</td>\n",
       "      <td>0</td>\n",
       "      <td>0</td>\n",
       "      <td>0</td>\n",
       "      <td>0</td>\n",
       "      <td>0</td>\n",
       "      <td>0</td>\n",
       "      <td>340590</td>\n",
       "      <td>5</td>\n",
       "    </tr>\n",
       "    <tr>\n",
       "      <th>...</th>\n",
       "      <td>...</td>\n",
       "      <td>...</td>\n",
       "      <td>...</td>\n",
       "      <td>...</td>\n",
       "      <td>...</td>\n",
       "      <td>...</td>\n",
       "      <td>...</td>\n",
       "      <td>...</td>\n",
       "      <td>...</td>\n",
       "      <td>...</td>\n",
       "      <td>...</td>\n",
       "      <td>...</td>\n",
       "      <td>...</td>\n",
       "      <td>...</td>\n",
       "      <td>...</td>\n",
       "      <td>...</td>\n",
       "      <td>...</td>\n",
       "      <td>...</td>\n",
       "      <td>...</td>\n",
       "      <td>...</td>\n",
       "      <td>...</td>\n",
       "    </tr>\n",
       "    <tr>\n",
       "      <th>245</th>\n",
       "      <td>1</td>\n",
       "      <td>1</td>\n",
       "      <td>1</td>\n",
       "      <td>0</td>\n",
       "      <td>0</td>\n",
       "      <td>0</td>\n",
       "      <td>1</td>\n",
       "      <td>0</td>\n",
       "      <td>1</td>\n",
       "      <td>0</td>\n",
       "      <td>...</td>\n",
       "      <td>0</td>\n",
       "      <td>0</td>\n",
       "      <td>0</td>\n",
       "      <td>0</td>\n",
       "      <td>0</td>\n",
       "      <td>1</td>\n",
       "      <td>1</td>\n",
       "      <td>1</td>\n",
       "      <td>5765570</td>\n",
       "      <td>8</td>\n",
       "    </tr>\n",
       "    <tr>\n",
       "      <th>246</th>\n",
       "      <td>1</td>\n",
       "      <td>1</td>\n",
       "      <td>0</td>\n",
       "      <td>0</td>\n",
       "      <td>0</td>\n",
       "      <td>0</td>\n",
       "      <td>0</td>\n",
       "      <td>0</td>\n",
       "      <td>1</td>\n",
       "      <td>0</td>\n",
       "      <td>...</td>\n",
       "      <td>0</td>\n",
       "      <td>0</td>\n",
       "      <td>0</td>\n",
       "      <td>0</td>\n",
       "      <td>0</td>\n",
       "      <td>0</td>\n",
       "      <td>1</td>\n",
       "      <td>1</td>\n",
       "      <td>55520</td>\n",
       "      <td>6</td>\n",
       "    </tr>\n",
       "    <tr>\n",
       "      <th>247</th>\n",
       "      <td>1</td>\n",
       "      <td>1</td>\n",
       "      <td>0</td>\n",
       "      <td>0</td>\n",
       "      <td>0</td>\n",
       "      <td>0</td>\n",
       "      <td>0</td>\n",
       "      <td>0</td>\n",
       "      <td>1</td>\n",
       "      <td>0</td>\n",
       "      <td>...</td>\n",
       "      <td>0</td>\n",
       "      <td>0</td>\n",
       "      <td>1</td>\n",
       "      <td>0</td>\n",
       "      <td>0</td>\n",
       "      <td>0</td>\n",
       "      <td>1</td>\n",
       "      <td>1</td>\n",
       "      <td>57860</td>\n",
       "      <td>6</td>\n",
       "    </tr>\n",
       "    <tr>\n",
       "      <th>248</th>\n",
       "      <td>1</td>\n",
       "      <td>1</td>\n",
       "      <td>0</td>\n",
       "      <td>0</td>\n",
       "      <td>0</td>\n",
       "      <td>0</td>\n",
       "      <td>0</td>\n",
       "      <td>0</td>\n",
       "      <td>1</td>\n",
       "      <td>0</td>\n",
       "      <td>...</td>\n",
       "      <td>0</td>\n",
       "      <td>0</td>\n",
       "      <td>0</td>\n",
       "      <td>1</td>\n",
       "      <td>0</td>\n",
       "      <td>0</td>\n",
       "      <td>1</td>\n",
       "      <td>1</td>\n",
       "      <td>58700</td>\n",
       "      <td>6</td>\n",
       "    </tr>\n",
       "    <tr>\n",
       "      <th>249</th>\n",
       "      <td>1</td>\n",
       "      <td>1</td>\n",
       "      <td>0</td>\n",
       "      <td>0</td>\n",
       "      <td>0</td>\n",
       "      <td>0</td>\n",
       "      <td>0</td>\n",
       "      <td>0</td>\n",
       "      <td>1</td>\n",
       "      <td>0</td>\n",
       "      <td>...</td>\n",
       "      <td>0</td>\n",
       "      <td>0</td>\n",
       "      <td>0</td>\n",
       "      <td>0</td>\n",
       "      <td>1</td>\n",
       "      <td>0</td>\n",
       "      <td>1</td>\n",
       "      <td>1</td>\n",
       "      <td>57320</td>\n",
       "      <td>6</td>\n",
       "    </tr>\n",
       "  </tbody>\n",
       "</table>\n",
       "<p>250 rows × 22 columns</p>\n",
       "</div>"
      ],
      "text/plain": [
       "     root  encryption  compression  compressionBzip2  compressionGzip  \\\n",
       "0       1           0            1                 0                0   \n",
       "1       1           0            1                 0                0   \n",
       "2       1           0            1                 0                0   \n",
       "3       1           0            1                 0                0   \n",
       "4       1           0            1                 0                0   \n",
       "..    ...         ...          ...               ...              ...   \n",
       "245     1           1            1                 0                0   \n",
       "246     1           1            0                 0                0   \n",
       "247     1           1            0                 0                0   \n",
       "248     1           1            0                 0                0   \n",
       "249     1           1            0                 0                0   \n",
       "\n",
       "     compressionLzo  compressionZpaq  compressionLrzip  level  level1  ...  \\\n",
       "0                 0                0                 1      1       1  ...   \n",
       "1                 0                0                 1      1       0  ...   \n",
       "2                 0                0                 1      1       0  ...   \n",
       "3                 0                0                 1      1       0  ...   \n",
       "4                 0                0                 1      1       0  ...   \n",
       "..              ...              ...               ...    ...     ...  ...   \n",
       "245               0                1                 0      1       0  ...   \n",
       "246               0                0                 0      1       0  ...   \n",
       "247               0                0                 0      1       0  ...   \n",
       "248               0                0                 0      1       0  ...   \n",
       "249               0                0                 0      1       0  ...   \n",
       "\n",
       "     level4  level5  level6  level7  level8  level9  unlimitedWindowSize  \\\n",
       "0         0       0       0       0       0       0                    0   \n",
       "1         0       0       0       0       0       0                    0   \n",
       "2         0       0       0       0       0       0                    0   \n",
       "3         1       0       0       0       0       0                    0   \n",
       "4         0       1       0       0       0       0                    0   \n",
       "..      ...     ...     ...     ...     ...     ...                  ...   \n",
       "245       0       0       0       0       0       1                    1   \n",
       "246       0       0       0       0       0       0                    1   \n",
       "247       0       0       1       0       0       0                    1   \n",
       "248       0       0       0       1       0       0                    1   \n",
       "249       0       0       0       0       1       0                    1   \n",
       "\n",
       "     disableCompressibilityTesting  Performance  #yes  \n",
       "0                                0       208900     5  \n",
       "1                                0       210450     5  \n",
       "2                                0       283750     5  \n",
       "3                                0       339780     5  \n",
       "4                                0       340590     5  \n",
       "..                             ...          ...   ...  \n",
       "245                              1      5765570     8  \n",
       "246                              1        55520     6  \n",
       "247                              1        57860     6  \n",
       "248                              1        58700     6  \n",
       "249                              1        57320     6  \n",
       "\n",
       "[250 rows x 22 columns]"
      ]
     },
     "metadata": {},
     "output_type": "display_data"
    },
    {
     "data": {
      "text/plain": [
       "'root'"
      ]
     },
     "metadata": {},
     "output_type": "display_data"
    },
    {
     "data": {
      "text/plain": [
       "'Num 1s: 250'"
      ]
     },
     "metadata": {},
     "output_type": "display_data"
    },
    {
     "data": {
      "text/plain": [
       "'Num 0s: 0'"
      ]
     },
     "metadata": {},
     "output_type": "display_data"
    },
    {
     "data": {
      "text/plain": [
       "'encryption'"
      ]
     },
     "metadata": {},
     "output_type": "display_data"
    },
    {
     "data": {
      "text/plain": [
       "'Num 1s: 141'"
      ]
     },
     "metadata": {},
     "output_type": "display_data"
    },
    {
     "data": {
      "text/plain": [
       "'Num 0s: 109'"
      ]
     },
     "metadata": {},
     "output_type": "display_data"
    },
    {
     "data": {
      "text/plain": [
       "'compression'"
      ]
     },
     "metadata": {},
     "output_type": "display_data"
    },
    {
     "data": {
      "text/plain": [
       "'Num 1s: 183'"
      ]
     },
     "metadata": {},
     "output_type": "display_data"
    },
    {
     "data": {
      "text/plain": [
       "'Num 0s: 67'"
      ]
     },
     "metadata": {},
     "output_type": "display_data"
    },
    {
     "data": {
      "text/plain": [
       "'compressionBzip2'"
      ]
     },
     "metadata": {},
     "output_type": "display_data"
    },
    {
     "data": {
      "text/plain": [
       "'Num 1s: 41'"
      ]
     },
     "metadata": {},
     "output_type": "display_data"
    },
    {
     "data": {
      "text/plain": [
       "'Num 0s: 209'"
      ]
     },
     "metadata": {},
     "output_type": "display_data"
    },
    {
     "data": {
      "text/plain": [
       "'compressionGzip'"
      ]
     },
     "metadata": {},
     "output_type": "display_data"
    },
    {
     "data": {
      "text/plain": [
       "'Num 1s: 36'"
      ]
     },
     "metadata": {},
     "output_type": "display_data"
    },
    {
     "data": {
      "text/plain": [
       "'Num 0s: 214'"
      ]
     },
     "metadata": {},
     "output_type": "display_data"
    },
    {
     "data": {
      "text/plain": [
       "'compressionLzo'"
      ]
     },
     "metadata": {},
     "output_type": "display_data"
    },
    {
     "data": {
      "text/plain": [
       "'Num 1s: 38'"
      ]
     },
     "metadata": {},
     "output_type": "display_data"
    },
    {
     "data": {
      "text/plain": [
       "'Num 0s: 212'"
      ]
     },
     "metadata": {},
     "output_type": "display_data"
    },
    {
     "data": {
      "text/plain": [
       "'compressionZpaq'"
      ]
     },
     "metadata": {},
     "output_type": "display_data"
    },
    {
     "data": {
      "text/plain": [
       "'Num 1s: 32'"
      ]
     },
     "metadata": {},
     "output_type": "display_data"
    },
    {
     "data": {
      "text/plain": [
       "'Num 0s: 218'"
      ]
     },
     "metadata": {},
     "output_type": "display_data"
    },
    {
     "data": {
      "text/plain": [
       "'compressionLrzip'"
      ]
     },
     "metadata": {},
     "output_type": "display_data"
    },
    {
     "data": {
      "text/plain": [
       "'Num 1s: 36'"
      ]
     },
     "metadata": {},
     "output_type": "display_data"
    },
    {
     "data": {
      "text/plain": [
       "'Num 0s: 214'"
      ]
     },
     "metadata": {},
     "output_type": "display_data"
    },
    {
     "data": {
      "text/plain": [
       "'level'"
      ]
     },
     "metadata": {},
     "output_type": "display_data"
    },
    {
     "data": {
      "text/plain": [
       "'Num 1s: 250'"
      ]
     },
     "metadata": {},
     "output_type": "display_data"
    },
    {
     "data": {
      "text/plain": [
       "'Num 0s: 0'"
      ]
     },
     "metadata": {},
     "output_type": "display_data"
    },
    {
     "data": {
      "text/plain": [
       "'level1'"
      ]
     },
     "metadata": {},
     "output_type": "display_data"
    },
    {
     "data": {
      "text/plain": [
       "'Num 1s: 22'"
      ]
     },
     "metadata": {},
     "output_type": "display_data"
    },
    {
     "data": {
      "text/plain": [
       "'Num 0s: 228'"
      ]
     },
     "metadata": {},
     "output_type": "display_data"
    },
    {
     "data": {
      "text/plain": [
       "'level2'"
      ]
     },
     "metadata": {},
     "output_type": "display_data"
    },
    {
     "data": {
      "text/plain": [
       "'Num 1s: 22'"
      ]
     },
     "metadata": {},
     "output_type": "display_data"
    },
    {
     "data": {
      "text/plain": [
       "'Num 0s: 228'"
      ]
     },
     "metadata": {},
     "output_type": "display_data"
    },
    {
     "data": {
      "text/plain": [
       "'level3'"
      ]
     },
     "metadata": {},
     "output_type": "display_data"
    },
    {
     "data": {
      "text/plain": [
       "'Num 1s: 37'"
      ]
     },
     "metadata": {},
     "output_type": "display_data"
    },
    {
     "data": {
      "text/plain": [
       "'Num 0s: 213'"
      ]
     },
     "metadata": {},
     "output_type": "display_data"
    },
    {
     "data": {
      "text/plain": [
       "'level4'"
      ]
     },
     "metadata": {},
     "output_type": "display_data"
    },
    {
     "data": {
      "text/plain": [
       "'Num 1s: 20'"
      ]
     },
     "metadata": {},
     "output_type": "display_data"
    },
    {
     "data": {
      "text/plain": [
       "'Num 0s: 230'"
      ]
     },
     "metadata": {},
     "output_type": "display_data"
    },
    {
     "data": {
      "text/plain": [
       "'level5'"
      ]
     },
     "metadata": {},
     "output_type": "display_data"
    },
    {
     "data": {
      "text/plain": [
       "'Num 1s: 22'"
      ]
     },
     "metadata": {},
     "output_type": "display_data"
    },
    {
     "data": {
      "text/plain": [
       "'Num 0s: 228'"
      ]
     },
     "metadata": {},
     "output_type": "display_data"
    },
    {
     "data": {
      "text/plain": [
       "'level6'"
      ]
     },
     "metadata": {},
     "output_type": "display_data"
    },
    {
     "data": {
      "text/plain": [
       "'Num 1s: 43'"
      ]
     },
     "metadata": {},
     "output_type": "display_data"
    },
    {
     "data": {
      "text/plain": [
       "'Num 0s: 207'"
      ]
     },
     "metadata": {},
     "output_type": "display_data"
    },
    {
     "data": {
      "text/plain": [
       "'level7'"
      ]
     },
     "metadata": {},
     "output_type": "display_data"
    },
    {
     "data": {
      "text/plain": [
       "'Num 1s: 28'"
      ]
     },
     "metadata": {},
     "output_type": "display_data"
    },
    {
     "data": {
      "text/plain": [
       "'Num 0s: 222'"
      ]
     },
     "metadata": {},
     "output_type": "display_data"
    },
    {
     "data": {
      "text/plain": [
       "'level8'"
      ]
     },
     "metadata": {},
     "output_type": "display_data"
    },
    {
     "data": {
      "text/plain": [
       "'Num 1s: 33'"
      ]
     },
     "metadata": {},
     "output_type": "display_data"
    },
    {
     "data": {
      "text/plain": [
       "'Num 0s: 217'"
      ]
     },
     "metadata": {},
     "output_type": "display_data"
    },
    {
     "data": {
      "text/plain": [
       "'level9'"
      ]
     },
     "metadata": {},
     "output_type": "display_data"
    },
    {
     "data": {
      "text/plain": [
       "'Num 1s: 23'"
      ]
     },
     "metadata": {},
     "output_type": "display_data"
    },
    {
     "data": {
      "text/plain": [
       "'Num 0s: 227'"
      ]
     },
     "metadata": {},
     "output_type": "display_data"
    },
    {
     "data": {
      "text/plain": [
       "'unlimitedWindowSize'"
      ]
     },
     "metadata": {},
     "output_type": "display_data"
    },
    {
     "data": {
      "text/plain": [
       "'Num 1s: 137'"
      ]
     },
     "metadata": {},
     "output_type": "display_data"
    },
    {
     "data": {
      "text/plain": [
       "'Num 0s: 113'"
      ]
     },
     "metadata": {},
     "output_type": "display_data"
    },
    {
     "data": {
      "text/plain": [
       "'disableCompressibilityTesting'"
      ]
     },
     "metadata": {},
     "output_type": "display_data"
    },
    {
     "data": {
      "text/plain": [
       "'Num 1s: 101'"
      ]
     },
     "metadata": {},
     "output_type": "display_data"
    },
    {
     "data": {
      "text/plain": [
       "'Num 0s: 149'"
      ]
     },
     "metadata": {},
     "output_type": "display_data"
    },
    {
     "data": {
      "text/plain": [
       "'Performance'"
      ]
     },
     "metadata": {},
     "output_type": "display_data"
    },
    {
     "data": {
      "text/plain": [
       "'Num 1s: 0'"
      ]
     },
     "metadata": {},
     "output_type": "display_data"
    },
    {
     "data": {
      "text/plain": [
       "'Num 0s: 0'"
      ]
     },
     "metadata": {},
     "output_type": "display_data"
    },
    {
     "data": {
      "text/plain": [
       "'#yes'"
      ]
     },
     "metadata": {},
     "output_type": "display_data"
    },
    {
     "data": {
      "text/plain": [
       "'Num 1s: 0'"
      ]
     },
     "metadata": {},
     "output_type": "display_data"
    },
    {
     "data": {
      "text/plain": [
       "'Num 0s: 0'"
      ]
     },
     "metadata": {},
     "output_type": "display_data"
    },
    {
     "data": {
      "text/plain": [
       "['root', 'level']"
      ]
     },
     "metadata": {},
     "output_type": "display_data"
    },
    {
     "name": "stdout",
     "output_type": "stream",
     "text": [
      "                               importance\n",
      "compressionZpaq                  0.592367\n",
      "level8                           0.171426\n",
      "level9                           0.143899\n",
      "level3                           0.025236\n",
      "compressionLrzip                 0.023354\n",
      "level1                           0.012969\n",
      "level2                           0.012923\n",
      "level7                           0.007215\n",
      "compressionBzip2                 0.003966\n",
      "level6                           0.002546\n",
      "#yes                             0.001654\n",
      "level5                           0.001247\n",
      "compressionGzip                  0.000703\n",
      "level4                           0.000183\n",
      "unlimitedWindowSize              0.000183\n",
      "disableCompressibilityTesting    0.000099\n",
      "encryption                       0.000028\n",
      "compressionLzo                   0.000002\n",
      "compression                      0.000002\n",
      "                               importance\n",
      "compressionZpaq                  0.605393\n",
      "level8                           0.189336\n",
      "level9                           0.111398\n",
      "compressionLrzip                 0.025261\n",
      "level3                           0.024422\n",
      "level2                           0.012883\n",
      "level7                           0.008910\n",
      "level1                           0.008180\n",
      "#yes                             0.005714\n",
      "compressionBzip2                 0.003957\n",
      "level6                           0.003616\n",
      "compressionGzip                  0.000752\n",
      "disableCompressibilityTesting    0.000096\n",
      "level5                           0.000032\n",
      "encryption                       0.000031\n",
      "level4                           0.000015\n",
      "compression                      0.000003\n",
      "compressionLzo                   0.000002\n",
      "unlimitedWindowSize              0.000001\n",
      "Sample features number: 6\n",
      "It doesn't scale\n",
      "It doesn't scale\n",
      "It doesn't scale\n",
      "It doesn't scale\n",
      "It doesn't scale\n",
      "It doesn't scale\n",
      "It doesn't scale\n",
      "It doesn't scale\n",
      "It doesn't scale\n",
      "It doesn't scale\n",
      "It doesn't scale\n",
      "It doesn't scale\n",
      "It doesn't scale\n",
      "It doesn't scale\n",
      "It doesn't scale\n",
      "It doesn't scale\n",
      "It doesn't scale\n",
      "It doesn't scale\n"
     ]
    },
    {
     "data": {
      "text/html": [
       "<div>\n",
       "<style scoped>\n",
       "    .dataframe tbody tr th:only-of-type {\n",
       "        vertical-align: middle;\n",
       "    }\n",
       "\n",
       "    .dataframe tbody tr th {\n",
       "        vertical-align: top;\n",
       "    }\n",
       "\n",
       "    .dataframe thead th {\n",
       "        text-align: right;\n",
       "    }\n",
       "</style>\n",
       "<table border=\"1\" class=\"dataframe\">\n",
       "  <thead>\n",
       "    <tr style=\"text-align: right;\">\n",
       "      <th></th>\n",
       "      <th>algorithm_name</th>\n",
       "      <th>ft_dummyfication</th>\n",
       "      <th>origin_ft_selection</th>\n",
       "      <th>ft_selection</th>\n",
       "      <th>hyperparameters</th>\n",
       "      <th>size_target</th>\n",
       "      <th>test_size</th>\n",
       "      <th>coef_order</th>\n",
       "      <th>accuracy</th>\n",
       "    </tr>\n",
       "  </thead>\n",
       "  <tbody>\n",
       "    <tr>\n",
       "      <th>0</th>\n",
       "      <td>LinearRegression</td>\n",
       "      <td>False</td>\n",
       "      <td>None</td>\n",
       "      <td>Index(['encryption', 'compression', 'compressi...</td>\n",
       "      <td>LinearRegression()</td>\n",
       "      <td>Performance</td>\n",
       "      <td>0.1</td>\n",
       "      <td>compression                      2.058711e+19\n",
       "...</td>\n",
       "      <td>count      25.000000\n",
       "mean      295.603633\n",
       "std ...</td>\n",
       "    </tr>\n",
       "    <tr>\n",
       "      <th>1</th>\n",
       "      <td>Lasso</td>\n",
       "      <td>False</td>\n",
       "      <td>None</td>\n",
       "      <td>Index(['encryption', 'compression', 'compressi...</td>\n",
       "      <td>Lasso(alpha=25, max_iter=5)</td>\n",
       "      <td>Performance</td>\n",
       "      <td>0.1</td>\n",
       "      <td>compressionZpaq                  1.763871e+06\n",
       "...</td>\n",
       "      <td>count      25.000000\n",
       "mean      286.640185\n",
       "std ...</td>\n",
       "    </tr>\n",
       "    <tr>\n",
       "      <th>2</th>\n",
       "      <td>Ridge</td>\n",
       "      <td>False</td>\n",
       "      <td>None</td>\n",
       "      <td>Index(['encryption', 'compression', 'compressi...</td>\n",
       "      <td>Ridge(alpha=2)</td>\n",
       "      <td>Performance</td>\n",
       "      <td>0.1</td>\n",
       "      <td>compressionZpaq                  1.819683e+06\n",
       "...</td>\n",
       "      <td>count      25.000000\n",
       "mean      249.435121\n",
       "std ...</td>\n",
       "    </tr>\n",
       "    <tr>\n",
       "      <th>3</th>\n",
       "      <td>ElasticNet</td>\n",
       "      <td>False</td>\n",
       "      <td>None</td>\n",
       "      <td>Index(['encryption', 'compression', 'compressi...</td>\n",
       "      <td>ElasticNet(alpha=0.02, l1_ratio=0.1, max_iter=5)</td>\n",
       "      <td>Performance</td>\n",
       "      <td>0.1</td>\n",
       "      <td>compressionZpaq                  1.689284e+06\n",
       "...</td>\n",
       "      <td>count      25.000000\n",
       "mean      226.158701\n",
       "std ...</td>\n",
       "    </tr>\n",
       "    <tr>\n",
       "      <th>4</th>\n",
       "      <td>LinearRegression</td>\n",
       "      <td>False</td>\n",
       "      <td>None</td>\n",
       "      <td>Index(['encryption', 'compression', 'compressi...</td>\n",
       "      <td>LinearRegression()</td>\n",
       "      <td>Performance</td>\n",
       "      <td>0.2</td>\n",
       "      <td>compression                      4.035688e+19\n",
       "...</td>\n",
       "      <td>count      50.000000\n",
       "mean      269.164575\n",
       "std ...</td>\n",
       "    </tr>\n",
       "    <tr>\n",
       "      <th>...</th>\n",
       "      <td>...</td>\n",
       "      <td>...</td>\n",
       "      <td>...</td>\n",
       "      <td>...</td>\n",
       "      <td>...</td>\n",
       "      <td>...</td>\n",
       "      <td>...</td>\n",
       "      <td>...</td>\n",
       "      <td>...</td>\n",
       "    </tr>\n",
       "    <tr>\n",
       "      <th>157</th>\n",
       "      <td>LinearRegression</td>\n",
       "      <td>True</td>\n",
       "      <td>RandomForest</td>\n",
       "      <td>Index(['compressionZpaq_0', 'compressionZpaq_1...</td>\n",
       "      <td>LinearRegression()</td>\n",
       "      <td>Performance</td>\n",
       "      <td>0.9</td>\n",
       "      <td>level9_0             6.189306e+04\n",
       "level9_1    ...</td>\n",
       "      <td>count    225.000000\n",
       "mean     139.970211\n",
       "std   ...</td>\n",
       "    </tr>\n",
       "    <tr>\n",
       "      <th>158</th>\n",
       "      <td>Lasso</td>\n",
       "      <td>True</td>\n",
       "      <td>RandomForest</td>\n",
       "      <td>Index(['compressionZpaq_0', 'compressionZpaq_1...</td>\n",
       "      <td>Lasso(alpha=25, max_iter=1)</td>\n",
       "      <td>Performance</td>\n",
       "      <td>0.9</td>\n",
       "      <td>level9_0    1.215406e+05\n",
       "level8_0    8.692855e...</td>\n",
       "      <td>count    225.000000\n",
       "mean     139.296586\n",
       "std   ...</td>\n",
       "    </tr>\n",
       "    <tr>\n",
       "      <th>159</th>\n",
       "      <td>Ridge</td>\n",
       "      <td>True</td>\n",
       "      <td>RandomForest</td>\n",
       "      <td>Index(['compressionZpaq_0', 'compressionZpaq_1...</td>\n",
       "      <td>Ridge(alpha=25)</td>\n",
       "      <td>Performance</td>\n",
       "      <td>0.9</td>\n",
       "      <td>level8_1    11566.664634\n",
       "level8_0    11566.664...</td>\n",
       "      <td>count    225.000000\n",
       "mean     149.823539\n",
       "std   ...</td>\n",
       "    </tr>\n",
       "    <tr>\n",
       "      <th>160</th>\n",
       "      <td>ElasticNet</td>\n",
       "      <td>True</td>\n",
       "      <td>RandomForest</td>\n",
       "      <td>Index(['compressionZpaq_0', 'compressionZpaq_1...</td>\n",
       "      <td>ElasticNet(alpha=25, l1_ratio=0.0, max_iter=5)</td>\n",
       "      <td>Performance</td>\n",
       "      <td>0.9</td>\n",
       "      <td>level8_0    625.928283\n",
       "level8_1    625.928283\n",
       "...</td>\n",
       "      <td>count    225.000000\n",
       "mean     152.679354\n",
       "std   ...</td>\n",
       "    </tr>\n",
       "    <tr>\n",
       "      <th>161</th>\n",
       "      <td>PolynomialRegression</td>\n",
       "      <td>True</td>\n",
       "      <td>RandomForest</td>\n",
       "      <td>Index(['compressionZpaq_0', 'compressionZpaq_1...</td>\n",
       "      <td>LinearRegression()</td>\n",
       "      <td>Performance</td>\n",
       "      <td>0.9</td>\n",
       "      <td>level9_0             1.699745e+04\n",
       "level9_1    ...</td>\n",
       "      <td>count    225.000000\n",
       "mean     140.015922\n",
       "std   ...</td>\n",
       "    </tr>\n",
       "  </tbody>\n",
       "</table>\n",
       "<p>162 rows × 9 columns</p>\n",
       "</div>"
      ],
      "text/plain": [
       "           algorithm_name  ft_dummyfication origin_ft_selection  \\\n",
       "0        LinearRegression             False                None   \n",
       "1                   Lasso             False                None   \n",
       "2                   Ridge             False                None   \n",
       "3              ElasticNet             False                None   \n",
       "4        LinearRegression             False                None   \n",
       "..                    ...               ...                 ...   \n",
       "157      LinearRegression              True        RandomForest   \n",
       "158                 Lasso              True        RandomForest   \n",
       "159                 Ridge              True        RandomForest   \n",
       "160            ElasticNet              True        RandomForest   \n",
       "161  PolynomialRegression              True        RandomForest   \n",
       "\n",
       "                                          ft_selection  \\\n",
       "0    Index(['encryption', 'compression', 'compressi...   \n",
       "1    Index(['encryption', 'compression', 'compressi...   \n",
       "2    Index(['encryption', 'compression', 'compressi...   \n",
       "3    Index(['encryption', 'compression', 'compressi...   \n",
       "4    Index(['encryption', 'compression', 'compressi...   \n",
       "..                                                 ...   \n",
       "157  Index(['compressionZpaq_0', 'compressionZpaq_1...   \n",
       "158  Index(['compressionZpaq_0', 'compressionZpaq_1...   \n",
       "159  Index(['compressionZpaq_0', 'compressionZpaq_1...   \n",
       "160  Index(['compressionZpaq_0', 'compressionZpaq_1...   \n",
       "161  Index(['compressionZpaq_0', 'compressionZpaq_1...   \n",
       "\n",
       "                                      hyperparameters  size_target  test_size  \\\n",
       "0                                  LinearRegression()  Performance        0.1   \n",
       "1                         Lasso(alpha=25, max_iter=5)  Performance        0.1   \n",
       "2                                      Ridge(alpha=2)  Performance        0.1   \n",
       "3    ElasticNet(alpha=0.02, l1_ratio=0.1, max_iter=5)  Performance        0.1   \n",
       "4                                  LinearRegression()  Performance        0.2   \n",
       "..                                                ...          ...        ...   \n",
       "157                                LinearRegression()  Performance        0.9   \n",
       "158                       Lasso(alpha=25, max_iter=1)  Performance        0.9   \n",
       "159                                   Ridge(alpha=25)  Performance        0.9   \n",
       "160    ElasticNet(alpha=25, l1_ratio=0.0, max_iter=5)  Performance        0.9   \n",
       "161                                LinearRegression()  Performance        0.9   \n",
       "\n",
       "                                            coef_order  \\\n",
       "0    compression                      2.058711e+19\n",
       "...   \n",
       "1    compressionZpaq                  1.763871e+06\n",
       "...   \n",
       "2    compressionZpaq                  1.819683e+06\n",
       "...   \n",
       "3    compressionZpaq                  1.689284e+06\n",
       "...   \n",
       "4    compression                      4.035688e+19\n",
       "...   \n",
       "..                                                 ...   \n",
       "157  level9_0             6.189306e+04\n",
       "level9_1    ...   \n",
       "158  level9_0    1.215406e+05\n",
       "level8_0    8.692855e...   \n",
       "159  level8_1    11566.664634\n",
       "level8_0    11566.664...   \n",
       "160  level8_0    625.928283\n",
       "level8_1    625.928283\n",
       "...   \n",
       "161  level9_0             1.699745e+04\n",
       "level9_1    ...   \n",
       "\n",
       "                                              accuracy  \n",
       "0    count      25.000000\n",
       "mean      295.603633\n",
       "std ...  \n",
       "1    count      25.000000\n",
       "mean      286.640185\n",
       "std ...  \n",
       "2    count      25.000000\n",
       "mean      249.435121\n",
       "std ...  \n",
       "3    count      25.000000\n",
       "mean      226.158701\n",
       "std ...  \n",
       "4    count      50.000000\n",
       "mean      269.164575\n",
       "std ...  \n",
       "..                                                 ...  \n",
       "157  count    225.000000\n",
       "mean     139.970211\n",
       "std   ...  \n",
       "158  count    225.000000\n",
       "mean     139.296586\n",
       "std   ...  \n",
       "159  count    225.000000\n",
       "mean     149.823539\n",
       "std   ...  \n",
       "160  count    225.000000\n",
       "mean     152.679354\n",
       "std   ...  \n",
       "161  count    225.000000\n",
       "mean     140.015922\n",
       "std   ...  \n",
       "\n",
       "[162 rows x 9 columns]"
      ]
     },
     "metadata": {},
     "output_type": "display_data"
    },
    {
     "data": {
      "text/html": [
       "<div>\n",
       "<style scoped>\n",
       "    .dataframe tbody tr th:only-of-type {\n",
       "        vertical-align: middle;\n",
       "    }\n",
       "\n",
       "    .dataframe tbody tr th {\n",
       "        vertical-align: top;\n",
       "    }\n",
       "\n",
       "    .dataframe thead th {\n",
       "        text-align: right;\n",
       "    }\n",
       "</style>\n",
       "<table border=\"1\" class=\"dataframe\">\n",
       "  <thead>\n",
       "    <tr style=\"text-align: right;\">\n",
       "      <th></th>\n",
       "      <th>algorithm_name</th>\n",
       "      <th>ft_dummyfication</th>\n",
       "      <th>origin_ft_selection</th>\n",
       "      <th>ft_selection</th>\n",
       "      <th>hyperparameters</th>\n",
       "      <th>size_target</th>\n",
       "      <th>test_size</th>\n",
       "      <th>coef_order</th>\n",
       "      <th>accuracy</th>\n",
       "    </tr>\n",
       "  </thead>\n",
       "  <tbody>\n",
       "    <tr>\n",
       "      <th>0</th>\n",
       "      <td>LinearRegression</td>\n",
       "      <td>False</td>\n",
       "      <td>None</td>\n",
       "      <td>Index(['encryption', 'compression', 'compressi...</td>\n",
       "      <td>LinearRegression()</td>\n",
       "      <td>Performance</td>\n",
       "      <td>0.1</td>\n",
       "      <td>compression                      2.058711e+19\n",
       "...</td>\n",
       "      <td>count      25.000000\n",
       "mean      295.603633\n",
       "std ...</td>\n",
       "    </tr>\n",
       "    <tr>\n",
       "      <th>1</th>\n",
       "      <td>Lasso</td>\n",
       "      <td>False</td>\n",
       "      <td>None</td>\n",
       "      <td>Index(['encryption', 'compression', 'compressi...</td>\n",
       "      <td>Lasso(alpha=25, max_iter=5)</td>\n",
       "      <td>Performance</td>\n",
       "      <td>0.1</td>\n",
       "      <td>compressionZpaq                  1.763871e+06\n",
       "...</td>\n",
       "      <td>count      25.000000\n",
       "mean      286.640185\n",
       "std ...</td>\n",
       "    </tr>\n",
       "    <tr>\n",
       "      <th>2</th>\n",
       "      <td>Ridge</td>\n",
       "      <td>False</td>\n",
       "      <td>None</td>\n",
       "      <td>Index(['encryption', 'compression', 'compressi...</td>\n",
       "      <td>Ridge(alpha=2)</td>\n",
       "      <td>Performance</td>\n",
       "      <td>0.1</td>\n",
       "      <td>compressionZpaq                  1.819683e+06\n",
       "...</td>\n",
       "      <td>count      25.000000\n",
       "mean      249.435121\n",
       "std ...</td>\n",
       "    </tr>\n",
       "    <tr>\n",
       "      <th>3</th>\n",
       "      <td>ElasticNet</td>\n",
       "      <td>False</td>\n",
       "      <td>None</td>\n",
       "      <td>Index(['encryption', 'compression', 'compressi...</td>\n",
       "      <td>ElasticNet(alpha=0.02, l1_ratio=0.1, max_iter=5)</td>\n",
       "      <td>Performance</td>\n",
       "      <td>0.1</td>\n",
       "      <td>compressionZpaq                  1.689284e+06\n",
       "...</td>\n",
       "      <td>count      25.000000\n",
       "mean      226.158701\n",
       "std ...</td>\n",
       "    </tr>\n",
       "    <tr>\n",
       "      <th>4</th>\n",
       "      <td>LinearRegression</td>\n",
       "      <td>False</td>\n",
       "      <td>None</td>\n",
       "      <td>Index(['encryption', 'compression', 'compressi...</td>\n",
       "      <td>LinearRegression()</td>\n",
       "      <td>Performance</td>\n",
       "      <td>0.2</td>\n",
       "      <td>compression                      4.035688e+19\n",
       "...</td>\n",
       "      <td>count      50.000000\n",
       "mean      269.164575\n",
       "std ...</td>\n",
       "    </tr>\n",
       "    <tr>\n",
       "      <th>...</th>\n",
       "      <td>...</td>\n",
       "      <td>...</td>\n",
       "      <td>...</td>\n",
       "      <td>...</td>\n",
       "      <td>...</td>\n",
       "      <td>...</td>\n",
       "      <td>...</td>\n",
       "      <td>...</td>\n",
       "      <td>...</td>\n",
       "    </tr>\n",
       "    <tr>\n",
       "      <th>157</th>\n",
       "      <td>LinearRegression</td>\n",
       "      <td>True</td>\n",
       "      <td>RandomForest</td>\n",
       "      <td>Index(['compressionZpaq_0', 'compressionZpaq_1...</td>\n",
       "      <td>LinearRegression()</td>\n",
       "      <td>Performance</td>\n",
       "      <td>0.9</td>\n",
       "      <td>level9_0             6.189306e+04\n",
       "level9_1    ...</td>\n",
       "      <td>count    225.000000\n",
       "mean     139.970211\n",
       "std   ...</td>\n",
       "    </tr>\n",
       "    <tr>\n",
       "      <th>158</th>\n",
       "      <td>Lasso</td>\n",
       "      <td>True</td>\n",
       "      <td>RandomForest</td>\n",
       "      <td>Index(['compressionZpaq_0', 'compressionZpaq_1...</td>\n",
       "      <td>Lasso(alpha=25, max_iter=1)</td>\n",
       "      <td>Performance</td>\n",
       "      <td>0.9</td>\n",
       "      <td>level9_0    1.215406e+05\n",
       "level8_0    8.692855e...</td>\n",
       "      <td>count    225.000000\n",
       "mean     139.296586\n",
       "std   ...</td>\n",
       "    </tr>\n",
       "    <tr>\n",
       "      <th>159</th>\n",
       "      <td>Ridge</td>\n",
       "      <td>True</td>\n",
       "      <td>RandomForest</td>\n",
       "      <td>Index(['compressionZpaq_0', 'compressionZpaq_1...</td>\n",
       "      <td>Ridge(alpha=25)</td>\n",
       "      <td>Performance</td>\n",
       "      <td>0.9</td>\n",
       "      <td>level8_1    11566.664634\n",
       "level8_0    11566.664...</td>\n",
       "      <td>count    225.000000\n",
       "mean     149.823539\n",
       "std   ...</td>\n",
       "    </tr>\n",
       "    <tr>\n",
       "      <th>160</th>\n",
       "      <td>ElasticNet</td>\n",
       "      <td>True</td>\n",
       "      <td>RandomForest</td>\n",
       "      <td>Index(['compressionZpaq_0', 'compressionZpaq_1...</td>\n",
       "      <td>ElasticNet(alpha=25, l1_ratio=0.0, max_iter=5)</td>\n",
       "      <td>Performance</td>\n",
       "      <td>0.9</td>\n",
       "      <td>level8_0    625.928283\n",
       "level8_1    625.928283\n",
       "...</td>\n",
       "      <td>count    225.000000\n",
       "mean     152.679354\n",
       "std   ...</td>\n",
       "    </tr>\n",
       "    <tr>\n",
       "      <th>161</th>\n",
       "      <td>PolynomialRegression</td>\n",
       "      <td>True</td>\n",
       "      <td>RandomForest</td>\n",
       "      <td>Index(['compressionZpaq_0', 'compressionZpaq_1...</td>\n",
       "      <td>LinearRegression()</td>\n",
       "      <td>Performance</td>\n",
       "      <td>0.9</td>\n",
       "      <td>level9_0             1.699745e+04\n",
       "level9_1    ...</td>\n",
       "      <td>count    225.000000\n",
       "mean     140.015922\n",
       "std   ...</td>\n",
       "    </tr>\n",
       "  </tbody>\n",
       "</table>\n",
       "<p>162 rows × 9 columns</p>\n",
       "</div>"
      ],
      "text/plain": [
       "           algorithm_name  ft_dummyfication origin_ft_selection  \\\n",
       "0        LinearRegression             False                None   \n",
       "1                   Lasso             False                None   \n",
       "2                   Ridge             False                None   \n",
       "3              ElasticNet             False                None   \n",
       "4        LinearRegression             False                None   \n",
       "..                    ...               ...                 ...   \n",
       "157      LinearRegression              True        RandomForest   \n",
       "158                 Lasso              True        RandomForest   \n",
       "159                 Ridge              True        RandomForest   \n",
       "160            ElasticNet              True        RandomForest   \n",
       "161  PolynomialRegression              True        RandomForest   \n",
       "\n",
       "                                          ft_selection  \\\n",
       "0    Index(['encryption', 'compression', 'compressi...   \n",
       "1    Index(['encryption', 'compression', 'compressi...   \n",
       "2    Index(['encryption', 'compression', 'compressi...   \n",
       "3    Index(['encryption', 'compression', 'compressi...   \n",
       "4    Index(['encryption', 'compression', 'compressi...   \n",
       "..                                                 ...   \n",
       "157  Index(['compressionZpaq_0', 'compressionZpaq_1...   \n",
       "158  Index(['compressionZpaq_0', 'compressionZpaq_1...   \n",
       "159  Index(['compressionZpaq_0', 'compressionZpaq_1...   \n",
       "160  Index(['compressionZpaq_0', 'compressionZpaq_1...   \n",
       "161  Index(['compressionZpaq_0', 'compressionZpaq_1...   \n",
       "\n",
       "                                      hyperparameters  size_target  test_size  \\\n",
       "0                                  LinearRegression()  Performance        0.1   \n",
       "1                         Lasso(alpha=25, max_iter=5)  Performance        0.1   \n",
       "2                                      Ridge(alpha=2)  Performance        0.1   \n",
       "3    ElasticNet(alpha=0.02, l1_ratio=0.1, max_iter=5)  Performance        0.1   \n",
       "4                                  LinearRegression()  Performance        0.2   \n",
       "..                                                ...          ...        ...   \n",
       "157                                LinearRegression()  Performance        0.9   \n",
       "158                       Lasso(alpha=25, max_iter=1)  Performance        0.9   \n",
       "159                                   Ridge(alpha=25)  Performance        0.9   \n",
       "160    ElasticNet(alpha=25, l1_ratio=0.0, max_iter=5)  Performance        0.9   \n",
       "161                                LinearRegression()  Performance        0.9   \n",
       "\n",
       "                                            coef_order  \\\n",
       "0    compression                      2.058711e+19\n",
       "...   \n",
       "1    compressionZpaq                  1.763871e+06\n",
       "...   \n",
       "2    compressionZpaq                  1.819683e+06\n",
       "...   \n",
       "3    compressionZpaq                  1.689284e+06\n",
       "...   \n",
       "4    compression                      4.035688e+19\n",
       "...   \n",
       "..                                                 ...   \n",
       "157  level9_0             6.189306e+04\n",
       "level9_1    ...   \n",
       "158  level9_0    1.215406e+05\n",
       "level8_0    8.692855e...   \n",
       "159  level8_1    11566.664634\n",
       "level8_0    11566.664...   \n",
       "160  level8_0    625.928283\n",
       "level8_1    625.928283\n",
       "...   \n",
       "161  level9_0             1.699745e+04\n",
       "level9_1    ...   \n",
       "\n",
       "                                              accuracy  \n",
       "0    count      25.000000\n",
       "mean      295.603633\n",
       "std ...  \n",
       "1    count      25.000000\n",
       "mean      286.640185\n",
       "std ...  \n",
       "2    count      25.000000\n",
       "mean      249.435121\n",
       "std ...  \n",
       "3    count      25.000000\n",
       "mean      226.158701\n",
       "std ...  \n",
       "4    count      50.000000\n",
       "mean      269.164575\n",
       "std ...  \n",
       "..                                                 ...  \n",
       "157  count    225.000000\n",
       "mean     139.970211\n",
       "std   ...  \n",
       "158  count    225.000000\n",
       "mean     139.296586\n",
       "std   ...  \n",
       "159  count    225.000000\n",
       "mean     149.823539\n",
       "std   ...  \n",
       "160  count    225.000000\n",
       "mean     152.679354\n",
       "std   ...  \n",
       "161  count    225.000000\n",
       "mean     140.015922\n",
       "std   ...  \n",
       "\n",
       "[162 rows x 9 columns]"
      ]
     },
     "metadata": {},
     "output_type": "display_data"
    },
    {
     "data": {
      "text/html": [
       "<div>\n",
       "<style scoped>\n",
       "    .dataframe tbody tr th:only-of-type {\n",
       "        vertical-align: middle;\n",
       "    }\n",
       "\n",
       "    .dataframe tbody tr th {\n",
       "        vertical-align: top;\n",
       "    }\n",
       "\n",
       "    .dataframe thead th {\n",
       "        text-align: right;\n",
       "    }\n",
       "</style>\n",
       "<table border=\"1\" class=\"dataframe\">\n",
       "  <thead>\n",
       "    <tr style=\"text-align: right;\">\n",
       "      <th></th>\n",
       "      <th>Performance</th>\n",
       "      <th>encryption_0</th>\n",
       "      <th>encryption_1</th>\n",
       "      <th>compression_0</th>\n",
       "      <th>compression_1</th>\n",
       "      <th>compressionBzip2_0</th>\n",
       "      <th>compressionBzip2_1</th>\n",
       "      <th>compressionGzip_0</th>\n",
       "      <th>compressionGzip_1</th>\n",
       "      <th>compressionLzo_0</th>\n",
       "      <th>...</th>\n",
       "      <th>unlimitedWindowSize_1</th>\n",
       "      <th>disableCompressibilityTesting_0</th>\n",
       "      <th>disableCompressibilityTesting_1</th>\n",
       "      <th>#yes_3</th>\n",
       "      <th>#yes_4</th>\n",
       "      <th>#yes_5</th>\n",
       "      <th>#yes_6</th>\n",
       "      <th>#yes_7</th>\n",
       "      <th>#yes_8</th>\n",
       "      <th>#yes</th>\n",
       "    </tr>\n",
       "  </thead>\n",
       "  <tbody>\n",
       "    <tr>\n",
       "      <th>0</th>\n",
       "      <td>208900</td>\n",
       "      <td>1</td>\n",
       "      <td>0</td>\n",
       "      <td>0</td>\n",
       "      <td>1</td>\n",
       "      <td>1</td>\n",
       "      <td>0</td>\n",
       "      <td>1</td>\n",
       "      <td>0</td>\n",
       "      <td>1</td>\n",
       "      <td>...</td>\n",
       "      <td>0</td>\n",
       "      <td>1</td>\n",
       "      <td>0</td>\n",
       "      <td>0</td>\n",
       "      <td>0</td>\n",
       "      <td>1</td>\n",
       "      <td>0</td>\n",
       "      <td>0</td>\n",
       "      <td>0</td>\n",
       "      <td>19</td>\n",
       "    </tr>\n",
       "    <tr>\n",
       "      <th>1</th>\n",
       "      <td>210450</td>\n",
       "      <td>1</td>\n",
       "      <td>0</td>\n",
       "      <td>0</td>\n",
       "      <td>1</td>\n",
       "      <td>1</td>\n",
       "      <td>0</td>\n",
       "      <td>1</td>\n",
       "      <td>0</td>\n",
       "      <td>1</td>\n",
       "      <td>...</td>\n",
       "      <td>0</td>\n",
       "      <td>1</td>\n",
       "      <td>0</td>\n",
       "      <td>0</td>\n",
       "      <td>0</td>\n",
       "      <td>1</td>\n",
       "      <td>0</td>\n",
       "      <td>0</td>\n",
       "      <td>0</td>\n",
       "      <td>19</td>\n",
       "    </tr>\n",
       "    <tr>\n",
       "      <th>2</th>\n",
       "      <td>283750</td>\n",
       "      <td>1</td>\n",
       "      <td>0</td>\n",
       "      <td>0</td>\n",
       "      <td>1</td>\n",
       "      <td>1</td>\n",
       "      <td>0</td>\n",
       "      <td>1</td>\n",
       "      <td>0</td>\n",
       "      <td>1</td>\n",
       "      <td>...</td>\n",
       "      <td>0</td>\n",
       "      <td>1</td>\n",
       "      <td>0</td>\n",
       "      <td>0</td>\n",
       "      <td>0</td>\n",
       "      <td>1</td>\n",
       "      <td>0</td>\n",
       "      <td>0</td>\n",
       "      <td>0</td>\n",
       "      <td>19</td>\n",
       "    </tr>\n",
       "    <tr>\n",
       "      <th>3</th>\n",
       "      <td>339780</td>\n",
       "      <td>1</td>\n",
       "      <td>0</td>\n",
       "      <td>0</td>\n",
       "      <td>1</td>\n",
       "      <td>1</td>\n",
       "      <td>0</td>\n",
       "      <td>1</td>\n",
       "      <td>0</td>\n",
       "      <td>1</td>\n",
       "      <td>...</td>\n",
       "      <td>0</td>\n",
       "      <td>1</td>\n",
       "      <td>0</td>\n",
       "      <td>0</td>\n",
       "      <td>0</td>\n",
       "      <td>1</td>\n",
       "      <td>0</td>\n",
       "      <td>0</td>\n",
       "      <td>0</td>\n",
       "      <td>19</td>\n",
       "    </tr>\n",
       "    <tr>\n",
       "      <th>4</th>\n",
       "      <td>340590</td>\n",
       "      <td>1</td>\n",
       "      <td>0</td>\n",
       "      <td>0</td>\n",
       "      <td>1</td>\n",
       "      <td>1</td>\n",
       "      <td>0</td>\n",
       "      <td>1</td>\n",
       "      <td>0</td>\n",
       "      <td>1</td>\n",
       "      <td>...</td>\n",
       "      <td>0</td>\n",
       "      <td>1</td>\n",
       "      <td>0</td>\n",
       "      <td>0</td>\n",
       "      <td>0</td>\n",
       "      <td>1</td>\n",
       "      <td>0</td>\n",
       "      <td>0</td>\n",
       "      <td>0</td>\n",
       "      <td>19</td>\n",
       "    </tr>\n",
       "    <tr>\n",
       "      <th>...</th>\n",
       "      <td>...</td>\n",
       "      <td>...</td>\n",
       "      <td>...</td>\n",
       "      <td>...</td>\n",
       "      <td>...</td>\n",
       "      <td>...</td>\n",
       "      <td>...</td>\n",
       "      <td>...</td>\n",
       "      <td>...</td>\n",
       "      <td>...</td>\n",
       "      <td>...</td>\n",
       "      <td>...</td>\n",
       "      <td>...</td>\n",
       "      <td>...</td>\n",
       "      <td>...</td>\n",
       "      <td>...</td>\n",
       "      <td>...</td>\n",
       "      <td>...</td>\n",
       "      <td>...</td>\n",
       "      <td>...</td>\n",
       "      <td>...</td>\n",
       "    </tr>\n",
       "    <tr>\n",
       "      <th>245</th>\n",
       "      <td>5765570</td>\n",
       "      <td>0</td>\n",
       "      <td>1</td>\n",
       "      <td>0</td>\n",
       "      <td>1</td>\n",
       "      <td>1</td>\n",
       "      <td>0</td>\n",
       "      <td>1</td>\n",
       "      <td>0</td>\n",
       "      <td>1</td>\n",
       "      <td>...</td>\n",
       "      <td>1</td>\n",
       "      <td>0</td>\n",
       "      <td>1</td>\n",
       "      <td>0</td>\n",
       "      <td>0</td>\n",
       "      <td>0</td>\n",
       "      <td>0</td>\n",
       "      <td>0</td>\n",
       "      <td>1</td>\n",
       "      <td>19</td>\n",
       "    </tr>\n",
       "    <tr>\n",
       "      <th>246</th>\n",
       "      <td>55520</td>\n",
       "      <td>0</td>\n",
       "      <td>1</td>\n",
       "      <td>1</td>\n",
       "      <td>0</td>\n",
       "      <td>1</td>\n",
       "      <td>0</td>\n",
       "      <td>1</td>\n",
       "      <td>0</td>\n",
       "      <td>1</td>\n",
       "      <td>...</td>\n",
       "      <td>1</td>\n",
       "      <td>0</td>\n",
       "      <td>1</td>\n",
       "      <td>0</td>\n",
       "      <td>0</td>\n",
       "      <td>0</td>\n",
       "      <td>1</td>\n",
       "      <td>0</td>\n",
       "      <td>0</td>\n",
       "      <td>19</td>\n",
       "    </tr>\n",
       "    <tr>\n",
       "      <th>247</th>\n",
       "      <td>57860</td>\n",
       "      <td>0</td>\n",
       "      <td>1</td>\n",
       "      <td>1</td>\n",
       "      <td>0</td>\n",
       "      <td>1</td>\n",
       "      <td>0</td>\n",
       "      <td>1</td>\n",
       "      <td>0</td>\n",
       "      <td>1</td>\n",
       "      <td>...</td>\n",
       "      <td>1</td>\n",
       "      <td>0</td>\n",
       "      <td>1</td>\n",
       "      <td>0</td>\n",
       "      <td>0</td>\n",
       "      <td>0</td>\n",
       "      <td>1</td>\n",
       "      <td>0</td>\n",
       "      <td>0</td>\n",
       "      <td>19</td>\n",
       "    </tr>\n",
       "    <tr>\n",
       "      <th>248</th>\n",
       "      <td>58700</td>\n",
       "      <td>0</td>\n",
       "      <td>1</td>\n",
       "      <td>1</td>\n",
       "      <td>0</td>\n",
       "      <td>1</td>\n",
       "      <td>0</td>\n",
       "      <td>1</td>\n",
       "      <td>0</td>\n",
       "      <td>1</td>\n",
       "      <td>...</td>\n",
       "      <td>1</td>\n",
       "      <td>0</td>\n",
       "      <td>1</td>\n",
       "      <td>0</td>\n",
       "      <td>0</td>\n",
       "      <td>0</td>\n",
       "      <td>1</td>\n",
       "      <td>0</td>\n",
       "      <td>0</td>\n",
       "      <td>19</td>\n",
       "    </tr>\n",
       "    <tr>\n",
       "      <th>249</th>\n",
       "      <td>57320</td>\n",
       "      <td>0</td>\n",
       "      <td>1</td>\n",
       "      <td>1</td>\n",
       "      <td>0</td>\n",
       "      <td>1</td>\n",
       "      <td>0</td>\n",
       "      <td>1</td>\n",
       "      <td>0</td>\n",
       "      <td>1</td>\n",
       "      <td>...</td>\n",
       "      <td>1</td>\n",
       "      <td>0</td>\n",
       "      <td>1</td>\n",
       "      <td>0</td>\n",
       "      <td>0</td>\n",
       "      <td>0</td>\n",
       "      <td>1</td>\n",
       "      <td>0</td>\n",
       "      <td>0</td>\n",
       "      <td>19</td>\n",
       "    </tr>\n",
       "  </tbody>\n",
       "</table>\n",
       "<p>250 rows × 44 columns</p>\n",
       "</div>"
      ],
      "text/plain": [
       "     Performance  encryption_0  encryption_1  compression_0  compression_1  \\\n",
       "0         208900             1             0              0              1   \n",
       "1         210450             1             0              0              1   \n",
       "2         283750             1             0              0              1   \n",
       "3         339780             1             0              0              1   \n",
       "4         340590             1             0              0              1   \n",
       "..           ...           ...           ...            ...            ...   \n",
       "245      5765570             0             1              0              1   \n",
       "246        55520             0             1              1              0   \n",
       "247        57860             0             1              1              0   \n",
       "248        58700             0             1              1              0   \n",
       "249        57320             0             1              1              0   \n",
       "\n",
       "     compressionBzip2_0  compressionBzip2_1  compressionGzip_0  \\\n",
       "0                     1                   0                  1   \n",
       "1                     1                   0                  1   \n",
       "2                     1                   0                  1   \n",
       "3                     1                   0                  1   \n",
       "4                     1                   0                  1   \n",
       "..                  ...                 ...                ...   \n",
       "245                   1                   0                  1   \n",
       "246                   1                   0                  1   \n",
       "247                   1                   0                  1   \n",
       "248                   1                   0                  1   \n",
       "249                   1                   0                  1   \n",
       "\n",
       "     compressionGzip_1  compressionLzo_0  ...  unlimitedWindowSize_1  \\\n",
       "0                    0                 1  ...                      0   \n",
       "1                    0                 1  ...                      0   \n",
       "2                    0                 1  ...                      0   \n",
       "3                    0                 1  ...                      0   \n",
       "4                    0                 1  ...                      0   \n",
       "..                 ...               ...  ...                    ...   \n",
       "245                  0                 1  ...                      1   \n",
       "246                  0                 1  ...                      1   \n",
       "247                  0                 1  ...                      1   \n",
       "248                  0                 1  ...                      1   \n",
       "249                  0                 1  ...                      1   \n",
       "\n",
       "     disableCompressibilityTesting_0  disableCompressibilityTesting_1  #yes_3  \\\n",
       "0                                  1                                0       0   \n",
       "1                                  1                                0       0   \n",
       "2                                  1                                0       0   \n",
       "3                                  1                                0       0   \n",
       "4                                  1                                0       0   \n",
       "..                               ...                              ...     ...   \n",
       "245                                0                                1       0   \n",
       "246                                0                                1       0   \n",
       "247                                0                                1       0   \n",
       "248                                0                                1       0   \n",
       "249                                0                                1       0   \n",
       "\n",
       "     #yes_4  #yes_5  #yes_6  #yes_7  #yes_8  #yes  \n",
       "0         0       1       0       0       0    19  \n",
       "1         0       1       0       0       0    19  \n",
       "2         0       1       0       0       0    19  \n",
       "3         0       1       0       0       0    19  \n",
       "4         0       1       0       0       0    19  \n",
       "..      ...     ...     ...     ...     ...   ...  \n",
       "245       0       0       0       0       1    19  \n",
       "246       0       0       1       0       0    19  \n",
       "247       0       0       1       0       0    19  \n",
       "248       0       0       1       0       0    19  \n",
       "249       0       0       1       0       0    19  \n",
       "\n",
       "[250 rows x 44 columns]"
      ]
     },
     "metadata": {},
     "output_type": "display_data"
    },
    {
     "data": {
      "text/plain": [
       "'Performance'"
      ]
     },
     "metadata": {},
     "output_type": "display_data"
    },
    {
     "data": {
      "text/plain": [
       "'Num 1s: 0'"
      ]
     },
     "metadata": {},
     "output_type": "display_data"
    },
    {
     "data": {
      "text/plain": [
       "'Num 0s: 0'"
      ]
     },
     "metadata": {},
     "output_type": "display_data"
    },
    {
     "data": {
      "text/plain": [
       "'encryption_0'"
      ]
     },
     "metadata": {},
     "output_type": "display_data"
    },
    {
     "data": {
      "text/plain": [
       "'Num 1s: 109'"
      ]
     },
     "metadata": {},
     "output_type": "display_data"
    },
    {
     "data": {
      "text/plain": [
       "'Num 0s: 141'"
      ]
     },
     "metadata": {},
     "output_type": "display_data"
    },
    {
     "data": {
      "text/plain": [
       "'encryption_1'"
      ]
     },
     "metadata": {},
     "output_type": "display_data"
    },
    {
     "data": {
      "text/plain": [
       "'Num 1s: 141'"
      ]
     },
     "metadata": {},
     "output_type": "display_data"
    },
    {
     "data": {
      "text/plain": [
       "'Num 0s: 109'"
      ]
     },
     "metadata": {},
     "output_type": "display_data"
    },
    {
     "data": {
      "text/plain": [
       "'compression_0'"
      ]
     },
     "metadata": {},
     "output_type": "display_data"
    },
    {
     "data": {
      "text/plain": [
       "'Num 1s: 67'"
      ]
     },
     "metadata": {},
     "output_type": "display_data"
    },
    {
     "data": {
      "text/plain": [
       "'Num 0s: 183'"
      ]
     },
     "metadata": {},
     "output_type": "display_data"
    },
    {
     "data": {
      "text/plain": [
       "'compression_1'"
      ]
     },
     "metadata": {},
     "output_type": "display_data"
    },
    {
     "data": {
      "text/plain": [
       "'Num 1s: 183'"
      ]
     },
     "metadata": {},
     "output_type": "display_data"
    },
    {
     "data": {
      "text/plain": [
       "'Num 0s: 67'"
      ]
     },
     "metadata": {},
     "output_type": "display_data"
    },
    {
     "data": {
      "text/plain": [
       "'compressionBzip2_0'"
      ]
     },
     "metadata": {},
     "output_type": "display_data"
    },
    {
     "data": {
      "text/plain": [
       "'Num 1s: 209'"
      ]
     },
     "metadata": {},
     "output_type": "display_data"
    },
    {
     "data": {
      "text/plain": [
       "'Num 0s: 41'"
      ]
     },
     "metadata": {},
     "output_type": "display_data"
    },
    {
     "data": {
      "text/plain": [
       "'compressionBzip2_1'"
      ]
     },
     "metadata": {},
     "output_type": "display_data"
    },
    {
     "data": {
      "text/plain": [
       "'Num 1s: 41'"
      ]
     },
     "metadata": {},
     "output_type": "display_data"
    },
    {
     "data": {
      "text/plain": [
       "'Num 0s: 209'"
      ]
     },
     "metadata": {},
     "output_type": "display_data"
    },
    {
     "data": {
      "text/plain": [
       "'compressionGzip_0'"
      ]
     },
     "metadata": {},
     "output_type": "display_data"
    },
    {
     "data": {
      "text/plain": [
       "'Num 1s: 214'"
      ]
     },
     "metadata": {},
     "output_type": "display_data"
    },
    {
     "data": {
      "text/plain": [
       "'Num 0s: 36'"
      ]
     },
     "metadata": {},
     "output_type": "display_data"
    },
    {
     "data": {
      "text/plain": [
       "'compressionGzip_1'"
      ]
     },
     "metadata": {},
     "output_type": "display_data"
    },
    {
     "data": {
      "text/plain": [
       "'Num 1s: 36'"
      ]
     },
     "metadata": {},
     "output_type": "display_data"
    },
    {
     "data": {
      "text/plain": [
       "'Num 0s: 214'"
      ]
     },
     "metadata": {},
     "output_type": "display_data"
    },
    {
     "data": {
      "text/plain": [
       "'compressionLzo_0'"
      ]
     },
     "metadata": {},
     "output_type": "display_data"
    },
    {
     "data": {
      "text/plain": [
       "'Num 1s: 212'"
      ]
     },
     "metadata": {},
     "output_type": "display_data"
    },
    {
     "data": {
      "text/plain": [
       "'Num 0s: 38'"
      ]
     },
     "metadata": {},
     "output_type": "display_data"
    },
    {
     "data": {
      "text/plain": [
       "'compressionLzo_1'"
      ]
     },
     "metadata": {},
     "output_type": "display_data"
    },
    {
     "data": {
      "text/plain": [
       "'Num 1s: 38'"
      ]
     },
     "metadata": {},
     "output_type": "display_data"
    },
    {
     "data": {
      "text/plain": [
       "'Num 0s: 212'"
      ]
     },
     "metadata": {},
     "output_type": "display_data"
    },
    {
     "data": {
      "text/plain": [
       "'compressionZpaq_0'"
      ]
     },
     "metadata": {},
     "output_type": "display_data"
    },
    {
     "data": {
      "text/plain": [
       "'Num 1s: 218'"
      ]
     },
     "metadata": {},
     "output_type": "display_data"
    },
    {
     "data": {
      "text/plain": [
       "'Num 0s: 32'"
      ]
     },
     "metadata": {},
     "output_type": "display_data"
    },
    {
     "data": {
      "text/plain": [
       "'compressionZpaq_1'"
      ]
     },
     "metadata": {},
     "output_type": "display_data"
    },
    {
     "data": {
      "text/plain": [
       "'Num 1s: 32'"
      ]
     },
     "metadata": {},
     "output_type": "display_data"
    },
    {
     "data": {
      "text/plain": [
       "'Num 0s: 218'"
      ]
     },
     "metadata": {},
     "output_type": "display_data"
    },
    {
     "data": {
      "text/plain": [
       "'compressionLrzip_0'"
      ]
     },
     "metadata": {},
     "output_type": "display_data"
    },
    {
     "data": {
      "text/plain": [
       "'Num 1s: 214'"
      ]
     },
     "metadata": {},
     "output_type": "display_data"
    },
    {
     "data": {
      "text/plain": [
       "'Num 0s: 36'"
      ]
     },
     "metadata": {},
     "output_type": "display_data"
    },
    {
     "data": {
      "text/plain": [
       "'compressionLrzip_1'"
      ]
     },
     "metadata": {},
     "output_type": "display_data"
    },
    {
     "data": {
      "text/plain": [
       "'Num 1s: 36'"
      ]
     },
     "metadata": {},
     "output_type": "display_data"
    },
    {
     "data": {
      "text/plain": [
       "'Num 0s: 214'"
      ]
     },
     "metadata": {},
     "output_type": "display_data"
    },
    {
     "data": {
      "text/plain": [
       "'level1_0'"
      ]
     },
     "metadata": {},
     "output_type": "display_data"
    },
    {
     "data": {
      "text/plain": [
       "'Num 1s: 228'"
      ]
     },
     "metadata": {},
     "output_type": "display_data"
    },
    {
     "data": {
      "text/plain": [
       "'Num 0s: 22'"
      ]
     },
     "metadata": {},
     "output_type": "display_data"
    },
    {
     "data": {
      "text/plain": [
       "'level1_1'"
      ]
     },
     "metadata": {},
     "output_type": "display_data"
    },
    {
     "data": {
      "text/plain": [
       "'Num 1s: 22'"
      ]
     },
     "metadata": {},
     "output_type": "display_data"
    },
    {
     "data": {
      "text/plain": [
       "'Num 0s: 228'"
      ]
     },
     "metadata": {},
     "output_type": "display_data"
    },
    {
     "data": {
      "text/plain": [
       "'level2_0'"
      ]
     },
     "metadata": {},
     "output_type": "display_data"
    },
    {
     "data": {
      "text/plain": [
       "'Num 1s: 228'"
      ]
     },
     "metadata": {},
     "output_type": "display_data"
    },
    {
     "data": {
      "text/plain": [
       "'Num 0s: 22'"
      ]
     },
     "metadata": {},
     "output_type": "display_data"
    },
    {
     "data": {
      "text/plain": [
       "'level2_1'"
      ]
     },
     "metadata": {},
     "output_type": "display_data"
    },
    {
     "data": {
      "text/plain": [
       "'Num 1s: 22'"
      ]
     },
     "metadata": {},
     "output_type": "display_data"
    },
    {
     "data": {
      "text/plain": [
       "'Num 0s: 228'"
      ]
     },
     "metadata": {},
     "output_type": "display_data"
    },
    {
     "data": {
      "text/plain": [
       "'level3_0'"
      ]
     },
     "metadata": {},
     "output_type": "display_data"
    },
    {
     "data": {
      "text/plain": [
       "'Num 1s: 213'"
      ]
     },
     "metadata": {},
     "output_type": "display_data"
    },
    {
     "data": {
      "text/plain": [
       "'Num 0s: 37'"
      ]
     },
     "metadata": {},
     "output_type": "display_data"
    },
    {
     "data": {
      "text/plain": [
       "'level3_1'"
      ]
     },
     "metadata": {},
     "output_type": "display_data"
    },
    {
     "data": {
      "text/plain": [
       "'Num 1s: 37'"
      ]
     },
     "metadata": {},
     "output_type": "display_data"
    },
    {
     "data": {
      "text/plain": [
       "'Num 0s: 213'"
      ]
     },
     "metadata": {},
     "output_type": "display_data"
    },
    {
     "data": {
      "text/plain": [
       "'level4_0'"
      ]
     },
     "metadata": {},
     "output_type": "display_data"
    },
    {
     "data": {
      "text/plain": [
       "'Num 1s: 230'"
      ]
     },
     "metadata": {},
     "output_type": "display_data"
    },
    {
     "data": {
      "text/plain": [
       "'Num 0s: 20'"
      ]
     },
     "metadata": {},
     "output_type": "display_data"
    },
    {
     "data": {
      "text/plain": [
       "'level4_1'"
      ]
     },
     "metadata": {},
     "output_type": "display_data"
    },
    {
     "data": {
      "text/plain": [
       "'Num 1s: 20'"
      ]
     },
     "metadata": {},
     "output_type": "display_data"
    },
    {
     "data": {
      "text/plain": [
       "'Num 0s: 230'"
      ]
     },
     "metadata": {},
     "output_type": "display_data"
    },
    {
     "data": {
      "text/plain": [
       "'level5_0'"
      ]
     },
     "metadata": {},
     "output_type": "display_data"
    },
    {
     "data": {
      "text/plain": [
       "'Num 1s: 228'"
      ]
     },
     "metadata": {},
     "output_type": "display_data"
    },
    {
     "data": {
      "text/plain": [
       "'Num 0s: 22'"
      ]
     },
     "metadata": {},
     "output_type": "display_data"
    },
    {
     "data": {
      "text/plain": [
       "'level5_1'"
      ]
     },
     "metadata": {},
     "output_type": "display_data"
    },
    {
     "data": {
      "text/plain": [
       "'Num 1s: 22'"
      ]
     },
     "metadata": {},
     "output_type": "display_data"
    },
    {
     "data": {
      "text/plain": [
       "'Num 0s: 228'"
      ]
     },
     "metadata": {},
     "output_type": "display_data"
    },
    {
     "data": {
      "text/plain": [
       "'level6_0'"
      ]
     },
     "metadata": {},
     "output_type": "display_data"
    },
    {
     "data": {
      "text/plain": [
       "'Num 1s: 207'"
      ]
     },
     "metadata": {},
     "output_type": "display_data"
    },
    {
     "data": {
      "text/plain": [
       "'Num 0s: 43'"
      ]
     },
     "metadata": {},
     "output_type": "display_data"
    },
    {
     "data": {
      "text/plain": [
       "'level6_1'"
      ]
     },
     "metadata": {},
     "output_type": "display_data"
    },
    {
     "data": {
      "text/plain": [
       "'Num 1s: 43'"
      ]
     },
     "metadata": {},
     "output_type": "display_data"
    },
    {
     "data": {
      "text/plain": [
       "'Num 0s: 207'"
      ]
     },
     "metadata": {},
     "output_type": "display_data"
    },
    {
     "data": {
      "text/plain": [
       "'level7_0'"
      ]
     },
     "metadata": {},
     "output_type": "display_data"
    },
    {
     "data": {
      "text/plain": [
       "'Num 1s: 222'"
      ]
     },
     "metadata": {},
     "output_type": "display_data"
    },
    {
     "data": {
      "text/plain": [
       "'Num 0s: 28'"
      ]
     },
     "metadata": {},
     "output_type": "display_data"
    },
    {
     "data": {
      "text/plain": [
       "'level7_1'"
      ]
     },
     "metadata": {},
     "output_type": "display_data"
    },
    {
     "data": {
      "text/plain": [
       "'Num 1s: 28'"
      ]
     },
     "metadata": {},
     "output_type": "display_data"
    },
    {
     "data": {
      "text/plain": [
       "'Num 0s: 222'"
      ]
     },
     "metadata": {},
     "output_type": "display_data"
    },
    {
     "data": {
      "text/plain": [
       "'level8_0'"
      ]
     },
     "metadata": {},
     "output_type": "display_data"
    },
    {
     "data": {
      "text/plain": [
       "'Num 1s: 217'"
      ]
     },
     "metadata": {},
     "output_type": "display_data"
    },
    {
     "data": {
      "text/plain": [
       "'Num 0s: 33'"
      ]
     },
     "metadata": {},
     "output_type": "display_data"
    },
    {
     "data": {
      "text/plain": [
       "'level8_1'"
      ]
     },
     "metadata": {},
     "output_type": "display_data"
    },
    {
     "data": {
      "text/plain": [
       "'Num 1s: 33'"
      ]
     },
     "metadata": {},
     "output_type": "display_data"
    },
    {
     "data": {
      "text/plain": [
       "'Num 0s: 217'"
      ]
     },
     "metadata": {},
     "output_type": "display_data"
    },
    {
     "data": {
      "text/plain": [
       "'level9_0'"
      ]
     },
     "metadata": {},
     "output_type": "display_data"
    },
    {
     "data": {
      "text/plain": [
       "'Num 1s: 227'"
      ]
     },
     "metadata": {},
     "output_type": "display_data"
    },
    {
     "data": {
      "text/plain": [
       "'Num 0s: 23'"
      ]
     },
     "metadata": {},
     "output_type": "display_data"
    },
    {
     "data": {
      "text/plain": [
       "'level9_1'"
      ]
     },
     "metadata": {},
     "output_type": "display_data"
    },
    {
     "data": {
      "text/plain": [
       "'Num 1s: 23'"
      ]
     },
     "metadata": {},
     "output_type": "display_data"
    },
    {
     "data": {
      "text/plain": [
       "'Num 0s: 227'"
      ]
     },
     "metadata": {},
     "output_type": "display_data"
    },
    {
     "data": {
      "text/plain": [
       "'unlimitedWindowSize_0'"
      ]
     },
     "metadata": {},
     "output_type": "display_data"
    },
    {
     "data": {
      "text/plain": [
       "'Num 1s: 113'"
      ]
     },
     "metadata": {},
     "output_type": "display_data"
    },
    {
     "data": {
      "text/plain": [
       "'Num 0s: 137'"
      ]
     },
     "metadata": {},
     "output_type": "display_data"
    },
    {
     "data": {
      "text/plain": [
       "'unlimitedWindowSize_1'"
      ]
     },
     "metadata": {},
     "output_type": "display_data"
    },
    {
     "data": {
      "text/plain": [
       "'Num 1s: 137'"
      ]
     },
     "metadata": {},
     "output_type": "display_data"
    },
    {
     "data": {
      "text/plain": [
       "'Num 0s: 113'"
      ]
     },
     "metadata": {},
     "output_type": "display_data"
    },
    {
     "data": {
      "text/plain": [
       "'disableCompressibilityTesting_0'"
      ]
     },
     "metadata": {},
     "output_type": "display_data"
    },
    {
     "data": {
      "text/plain": [
       "'Num 1s: 149'"
      ]
     },
     "metadata": {},
     "output_type": "display_data"
    },
    {
     "data": {
      "text/plain": [
       "'Num 0s: 101'"
      ]
     },
     "metadata": {},
     "output_type": "display_data"
    },
    {
     "data": {
      "text/plain": [
       "'disableCompressibilityTesting_1'"
      ]
     },
     "metadata": {},
     "output_type": "display_data"
    },
    {
     "data": {
      "text/plain": [
       "'Num 1s: 101'"
      ]
     },
     "metadata": {},
     "output_type": "display_data"
    },
    {
     "data": {
      "text/plain": [
       "'Num 0s: 149'"
      ]
     },
     "metadata": {},
     "output_type": "display_data"
    },
    {
     "data": {
      "text/plain": [
       "'#yes_3'"
      ]
     },
     "metadata": {},
     "output_type": "display_data"
    },
    {
     "data": {
      "text/plain": [
       "'Num 1s: 9'"
      ]
     },
     "metadata": {},
     "output_type": "display_data"
    },
    {
     "data": {
      "text/plain": [
       "'Num 0s: 241'"
      ]
     },
     "metadata": {},
     "output_type": "display_data"
    },
    {
     "data": {
      "text/plain": [
       "'#yes_4'"
      ]
     },
     "metadata": {},
     "output_type": "display_data"
    },
    {
     "data": {
      "text/plain": [
       "'Num 1s: 27'"
      ]
     },
     "metadata": {},
     "output_type": "display_data"
    },
    {
     "data": {
      "text/plain": [
       "'Num 0s: 223'"
      ]
     },
     "metadata": {},
     "output_type": "display_data"
    },
    {
     "data": {
      "text/plain": [
       "'#yes_5'"
      ]
     },
     "metadata": {},
     "output_type": "display_data"
    },
    {
     "data": {
      "text/plain": [
       "'Num 1s: 62'"
      ]
     },
     "metadata": {},
     "output_type": "display_data"
    },
    {
     "data": {
      "text/plain": [
       "'Num 0s: 188'"
      ]
     },
     "metadata": {},
     "output_type": "display_data"
    },
    {
     "data": {
      "text/plain": [
       "'#yes_6'"
      ]
     },
     "metadata": {},
     "output_type": "display_data"
    },
    {
     "data": {
      "text/plain": [
       "'Num 1s: 59'"
      ]
     },
     "metadata": {},
     "output_type": "display_data"
    },
    {
     "data": {
      "text/plain": [
       "'Num 0s: 191'"
      ]
     },
     "metadata": {},
     "output_type": "display_data"
    },
    {
     "data": {
      "text/plain": [
       "'#yes_7'"
      ]
     },
     "metadata": {},
     "output_type": "display_data"
    },
    {
     "data": {
      "text/plain": [
       "'Num 1s: 48'"
      ]
     },
     "metadata": {},
     "output_type": "display_data"
    },
    {
     "data": {
      "text/plain": [
       "'Num 0s: 202'"
      ]
     },
     "metadata": {},
     "output_type": "display_data"
    },
    {
     "data": {
      "text/plain": [
       "'#yes_8'"
      ]
     },
     "metadata": {},
     "output_type": "display_data"
    },
    {
     "data": {
      "text/plain": [
       "'Num 1s: 45'"
      ]
     },
     "metadata": {},
     "output_type": "display_data"
    },
    {
     "data": {
      "text/plain": [
       "'Num 0s: 205'"
      ]
     },
     "metadata": {},
     "output_type": "display_data"
    },
    {
     "data": {
      "text/plain": [
       "'#yes'"
      ]
     },
     "metadata": {},
     "output_type": "display_data"
    },
    {
     "data": {
      "text/plain": [
       "'Num 1s: 0'"
      ]
     },
     "metadata": {},
     "output_type": "display_data"
    },
    {
     "data": {
      "text/plain": [
       "'Num 0s: 0'"
      ]
     },
     "metadata": {},
     "output_type": "display_data"
    },
    {
     "data": {
      "text/plain": [
       "[]"
      ]
     },
     "metadata": {},
     "output_type": "display_data"
    },
    {
     "name": "stdout",
     "output_type": "stream",
     "text": [
      "                                   importance\n",
      "compressionZpaq_0                3.357458e-01\n",
      "compressionZpaq_1                2.558949e-01\n",
      "level8_1                         8.864739e-02\n",
      "level8_0                         8.261626e-02\n",
      "level9_1                         8.219031e-02\n",
      "level9_0                         6.152557e-02\n",
      "level3_1                         1.503047e-02\n",
      "compressionLrzip_0               1.253469e-02\n",
      "compressionLrzip_1               1.087767e-02\n",
      "level3_0                         1.009571e-02\n",
      "level2_0                         7.091448e-03\n",
      "level1_1                         6.430112e-03\n",
      "level2_1                         5.464843e-03\n",
      "level7_1                         4.983441e-03\n",
      "level1_0                         4.977440e-03\n",
      "level7_0                         3.774402e-03\n",
      "compressionBzip2_0               2.145987e-03\n",
      "level6_1                         2.094676e-03\n",
      "compressionBzip2_1               1.756021e-03\n",
      "#yes_5                           1.655654e-03\n",
      "level6_0                         1.332624e-03\n",
      "level5_0                         1.084519e-03\n",
      "level5_1                         5.230843e-04\n",
      "compressionGzip_1                4.000102e-04\n",
      "level4_1                         3.460362e-04\n",
      "compressionGzip_0                2.870999e-04\n",
      "#yes_7                           1.913067e-04\n",
      "level4_0                         1.526813e-04\n",
      "disableCompressibilityTesting_1  4.658418e-05\n",
      "disableCompressibilityTesting_0  3.980927e-05\n",
      "encryption_0                     1.795507e-05\n",
      "encryption_1                     1.438182e-05\n",
      "unlimitedWindowSize_0            9.421170e-06\n",
      "#yes_6                           9.391755e-06\n",
      "#yes_8                           5.827001e-06\n",
      "unlimitedWindowSize_1            2.138902e-06\n",
      "compression_0                    1.100179e-06\n",
      "compressionLzo_0                 1.093297e-06\n",
      "compressionLzo_1                 1.041735e-06\n",
      "compression_1                    9.728351e-07\n",
      "#yes_4                           7.843100e-08\n",
      "#yes_3                           1.663400e-08\n",
      "#yes                             0.000000e+00\n",
      "                                   importance\n",
      "compressionZpaq_0                3.405637e-01\n",
      "compressionZpaq_1                2.256881e-01\n",
      "level9_1                         1.206951e-01\n",
      "level8_0                         8.637667e-02\n",
      "level8_1                         8.325649e-02\n",
      "level9_0                         4.614859e-02\n",
      "compressionLrzip_1               1.467920e-02\n",
      "level3_0                         1.390617e-02\n",
      "level3_1                         1.203838e-02\n",
      "level1_0                         9.449730e-03\n",
      "compressionLrzip_0               9.260560e-03\n",
      "level2_0                         7.492451e-03\n",
      "level7_1                         5.330623e-03\n",
      "level6_1                         5.288953e-03\n",
      "level1_1                         4.484765e-03\n",
      "compressionBzip2_1               3.474582e-03\n",
      "level5_0                         3.320362e-03\n",
      "level2_1                         2.793704e-03\n",
      "level7_0                         2.597912e-03\n",
      "#yes_5                           1.826957e-03\n",
      "compressionGzip_1                4.375960e-04\n",
      "compressionBzip2_0               3.880983e-04\n",
      "compressionGzip_0                1.971458e-04\n",
      "level6_0                         1.457644e-04\n",
      "disableCompressibilityTesting_1  4.526951e-05\n",
      "#yes_6                           3.065317e-05\n",
      "level4_1                         2.714737e-05\n",
      "disableCompressibilityTesting_0  1.655134e-05\n",
      "encryption_0                     1.306440e-05\n",
      "encryption_1                     1.160335e-05\n",
      "level5_1                         3.879238e-06\n",
      "#yes_7                           2.244521e-06\n",
      "compression_0                    1.486183e-06\n",
      "compressionLzo_1                 1.452340e-06\n",
      "unlimitedWindowSize_1            1.364677e-06\n",
      "#yes_8                           1.346472e-06\n",
      "level4_0                         8.244769e-07\n",
      "unlimitedWindowSize_0            6.648843e-07\n",
      "compressionLzo_0                 4.734046e-07\n",
      "compression_1                    3.162942e-07\n",
      "#yes_4                           5.553869e-08\n",
      "#yes_3                           3.897315e-09\n",
      "#yes                             0.000000e+00\n",
      "Sample features number: 18\n",
      "It doesn't scale\n",
      "It doesn't scale\n",
      "It doesn't scale\n",
      "It doesn't scale\n",
      "It doesn't scale\n",
      "It doesn't scale\n",
      "It doesn't scale\n",
      "It doesn't scale\n",
      "It doesn't scale\n",
      "It doesn't scale\n",
      "It doesn't scale\n",
      "It doesn't scale\n",
      "It doesn't scale\n",
      "It doesn't scale\n",
      "It doesn't scale\n",
      "It doesn't scale\n",
      "It doesn't scale\n",
      "It doesn't scale\n"
     ]
    },
    {
     "data": {
      "text/html": [
       "<div>\n",
       "<style scoped>\n",
       "    .dataframe tbody tr th:only-of-type {\n",
       "        vertical-align: middle;\n",
       "    }\n",
       "\n",
       "    .dataframe tbody tr th {\n",
       "        vertical-align: top;\n",
       "    }\n",
       "\n",
       "    .dataframe thead th {\n",
       "        text-align: right;\n",
       "    }\n",
       "</style>\n",
       "<table border=\"1\" class=\"dataframe\">\n",
       "  <thead>\n",
       "    <tr style=\"text-align: right;\">\n",
       "      <th></th>\n",
       "      <th>algorithm_name</th>\n",
       "      <th>ft_dummyfication</th>\n",
       "      <th>origin_ft_selection</th>\n",
       "      <th>ft_selection</th>\n",
       "      <th>hyperparameters</th>\n",
       "      <th>size_target</th>\n",
       "      <th>test_size</th>\n",
       "      <th>coef_order</th>\n",
       "      <th>accuracy</th>\n",
       "    </tr>\n",
       "  </thead>\n",
       "  <tbody>\n",
       "    <tr>\n",
       "      <th>0</th>\n",
       "      <td>LinearRegression</td>\n",
       "      <td>False</td>\n",
       "      <td>None</td>\n",
       "      <td>Index(['encryption', 'compression', 'compressi...</td>\n",
       "      <td>LinearRegression()</td>\n",
       "      <td>Performance</td>\n",
       "      <td>0.1</td>\n",
       "      <td>compression                      2.058711e+19\n",
       "...</td>\n",
       "      <td>count      25.000000\n",
       "mean      295.603633\n",
       "std ...</td>\n",
       "    </tr>\n",
       "    <tr>\n",
       "      <th>1</th>\n",
       "      <td>Lasso</td>\n",
       "      <td>False</td>\n",
       "      <td>None</td>\n",
       "      <td>Index(['encryption', 'compression', 'compressi...</td>\n",
       "      <td>Lasso(alpha=25, max_iter=5)</td>\n",
       "      <td>Performance</td>\n",
       "      <td>0.1</td>\n",
       "      <td>compressionZpaq                  1.763871e+06\n",
       "...</td>\n",
       "      <td>count      25.000000\n",
       "mean      286.640185\n",
       "std ...</td>\n",
       "    </tr>\n",
       "    <tr>\n",
       "      <th>2</th>\n",
       "      <td>Ridge</td>\n",
       "      <td>False</td>\n",
       "      <td>None</td>\n",
       "      <td>Index(['encryption', 'compression', 'compressi...</td>\n",
       "      <td>Ridge(alpha=2)</td>\n",
       "      <td>Performance</td>\n",
       "      <td>0.1</td>\n",
       "      <td>compressionZpaq                  1.819683e+06\n",
       "...</td>\n",
       "      <td>count      25.000000\n",
       "mean      249.435121\n",
       "std ...</td>\n",
       "    </tr>\n",
       "    <tr>\n",
       "      <th>3</th>\n",
       "      <td>ElasticNet</td>\n",
       "      <td>False</td>\n",
       "      <td>None</td>\n",
       "      <td>Index(['encryption', 'compression', 'compressi...</td>\n",
       "      <td>ElasticNet(alpha=0.02, l1_ratio=0.1, max_iter=5)</td>\n",
       "      <td>Performance</td>\n",
       "      <td>0.1</td>\n",
       "      <td>compressionZpaq                  1.689284e+06\n",
       "...</td>\n",
       "      <td>count      25.000000\n",
       "mean      226.158701\n",
       "std ...</td>\n",
       "    </tr>\n",
       "    <tr>\n",
       "      <th>4</th>\n",
       "      <td>LinearRegression</td>\n",
       "      <td>False</td>\n",
       "      <td>None</td>\n",
       "      <td>Index(['encryption', 'compression', 'compressi...</td>\n",
       "      <td>LinearRegression()</td>\n",
       "      <td>Performance</td>\n",
       "      <td>0.2</td>\n",
       "      <td>compression                      4.035688e+19\n",
       "...</td>\n",
       "      <td>count      50.000000\n",
       "mean      269.164575\n",
       "std ...</td>\n",
       "    </tr>\n",
       "    <tr>\n",
       "      <th>...</th>\n",
       "      <td>...</td>\n",
       "      <td>...</td>\n",
       "      <td>...</td>\n",
       "      <td>...</td>\n",
       "      <td>...</td>\n",
       "      <td>...</td>\n",
       "      <td>...</td>\n",
       "      <td>...</td>\n",
       "      <td>...</td>\n",
       "    </tr>\n",
       "    <tr>\n",
       "      <th>319</th>\n",
       "      <td>LinearRegression</td>\n",
       "      <td>True</td>\n",
       "      <td>RandomForest</td>\n",
       "      <td>Index(['compressionZpaq_0_0', 'compressionZpaq...</td>\n",
       "      <td>LinearRegression()</td>\n",
       "      <td>Performance</td>\n",
       "      <td>0.9</td>\n",
       "      <td>compressionLrzip_0_0    7.616717e+04\n",
       "compressi...</td>\n",
       "      <td>count    225.000000\n",
       "mean      72.716377\n",
       "std   ...</td>\n",
       "    </tr>\n",
       "    <tr>\n",
       "      <th>320</th>\n",
       "      <td>Lasso</td>\n",
       "      <td>True</td>\n",
       "      <td>RandomForest</td>\n",
       "      <td>Index(['compressionZpaq_0_0', 'compressionZpaq...</td>\n",
       "      <td>Lasso(alpha=25, max_iter=1)</td>\n",
       "      <td>Performance</td>\n",
       "      <td>0.9</td>\n",
       "      <td>compressionLrzip_0_0    2.840609e+05\n",
       "level9_1_...</td>\n",
       "      <td>count    225.000000\n",
       "mean      82.183124\n",
       "std   ...</td>\n",
       "    </tr>\n",
       "    <tr>\n",
       "      <th>321</th>\n",
       "      <td>Ridge</td>\n",
       "      <td>True</td>\n",
       "      <td>RandomForest</td>\n",
       "      <td>Index(['compressionZpaq_0_0', 'compressionZpaq...</td>\n",
       "      <td>Ridge(alpha=25)</td>\n",
       "      <td>Performance</td>\n",
       "      <td>0.9</td>\n",
       "      <td>compressionLrzip_0_0    31950.715237\n",
       "compressi...</td>\n",
       "      <td>count    225.000000\n",
       "mean     114.618088\n",
       "std   ...</td>\n",
       "    </tr>\n",
       "    <tr>\n",
       "      <th>322</th>\n",
       "      <td>ElasticNet</td>\n",
       "      <td>True</td>\n",
       "      <td>RandomForest</td>\n",
       "      <td>Index(['compressionZpaq_0_0', 'compressionZpaq...</td>\n",
       "      <td>ElasticNet(alpha=2, l1_ratio=0.1, max_iter=1)</td>\n",
       "      <td>Performance</td>\n",
       "      <td>0.9</td>\n",
       "      <td>compressionLrzip_0_0    28509.266351\n",
       "compressi...</td>\n",
       "      <td>count    225.000000\n",
       "mean     124.123399\n",
       "std   ...</td>\n",
       "    </tr>\n",
       "    <tr>\n",
       "      <th>323</th>\n",
       "      <td>PolynomialRegression</td>\n",
       "      <td>True</td>\n",
       "      <td>RandomForest</td>\n",
       "      <td>Index(['compressionZpaq_0_0', 'compressionZpaq...</td>\n",
       "      <td>LinearRegression()</td>\n",
       "      <td>Performance</td>\n",
       "      <td>0.9</td>\n",
       "      <td>compressionZpaq_0_0     8.846288e+18\n",
       "compressi...</td>\n",
       "      <td>count    2.250000e+02\n",
       "mean     8.322350e+13\n",
       "st...</td>\n",
       "    </tr>\n",
       "  </tbody>\n",
       "</table>\n",
       "<p>324 rows × 9 columns</p>\n",
       "</div>"
      ],
      "text/plain": [
       "           algorithm_name  ft_dummyfication origin_ft_selection  \\\n",
       "0        LinearRegression             False                None   \n",
       "1                   Lasso             False                None   \n",
       "2                   Ridge             False                None   \n",
       "3              ElasticNet             False                None   \n",
       "4        LinearRegression             False                None   \n",
       "..                    ...               ...                 ...   \n",
       "319      LinearRegression              True        RandomForest   \n",
       "320                 Lasso              True        RandomForest   \n",
       "321                 Ridge              True        RandomForest   \n",
       "322            ElasticNet              True        RandomForest   \n",
       "323  PolynomialRegression              True        RandomForest   \n",
       "\n",
       "                                          ft_selection  \\\n",
       "0    Index(['encryption', 'compression', 'compressi...   \n",
       "1    Index(['encryption', 'compression', 'compressi...   \n",
       "2    Index(['encryption', 'compression', 'compressi...   \n",
       "3    Index(['encryption', 'compression', 'compressi...   \n",
       "4    Index(['encryption', 'compression', 'compressi...   \n",
       "..                                                 ...   \n",
       "319  Index(['compressionZpaq_0_0', 'compressionZpaq...   \n",
       "320  Index(['compressionZpaq_0_0', 'compressionZpaq...   \n",
       "321  Index(['compressionZpaq_0_0', 'compressionZpaq...   \n",
       "322  Index(['compressionZpaq_0_0', 'compressionZpaq...   \n",
       "323  Index(['compressionZpaq_0_0', 'compressionZpaq...   \n",
       "\n",
       "                                      hyperparameters  size_target  test_size  \\\n",
       "0                                  LinearRegression()  Performance        0.1   \n",
       "1                         Lasso(alpha=25, max_iter=5)  Performance        0.1   \n",
       "2                                      Ridge(alpha=2)  Performance        0.1   \n",
       "3    ElasticNet(alpha=0.02, l1_ratio=0.1, max_iter=5)  Performance        0.1   \n",
       "4                                  LinearRegression()  Performance        0.2   \n",
       "..                                                ...          ...        ...   \n",
       "319                                LinearRegression()  Performance        0.9   \n",
       "320                       Lasso(alpha=25, max_iter=1)  Performance        0.9   \n",
       "321                                   Ridge(alpha=25)  Performance        0.9   \n",
       "322     ElasticNet(alpha=2, l1_ratio=0.1, max_iter=1)  Performance        0.9   \n",
       "323                                LinearRegression()  Performance        0.9   \n",
       "\n",
       "                                            coef_order  \\\n",
       "0    compression                      2.058711e+19\n",
       "...   \n",
       "1    compressionZpaq                  1.763871e+06\n",
       "...   \n",
       "2    compressionZpaq                  1.819683e+06\n",
       "...   \n",
       "3    compressionZpaq                  1.689284e+06\n",
       "...   \n",
       "4    compression                      4.035688e+19\n",
       "...   \n",
       "..                                                 ...   \n",
       "319  compressionLrzip_0_0    7.616717e+04\n",
       "compressi...   \n",
       "320  compressionLrzip_0_0    2.840609e+05\n",
       "level9_1_...   \n",
       "321  compressionLrzip_0_0    31950.715237\n",
       "compressi...   \n",
       "322  compressionLrzip_0_0    28509.266351\n",
       "compressi...   \n",
       "323  compressionZpaq_0_0     8.846288e+18\n",
       "compressi...   \n",
       "\n",
       "                                              accuracy  \n",
       "0    count      25.000000\n",
       "mean      295.603633\n",
       "std ...  \n",
       "1    count      25.000000\n",
       "mean      286.640185\n",
       "std ...  \n",
       "2    count      25.000000\n",
       "mean      249.435121\n",
       "std ...  \n",
       "3    count      25.000000\n",
       "mean      226.158701\n",
       "std ...  \n",
       "4    count      50.000000\n",
       "mean      269.164575\n",
       "std ...  \n",
       "..                                                 ...  \n",
       "319  count    225.000000\n",
       "mean      72.716377\n",
       "std   ...  \n",
       "320  count    225.000000\n",
       "mean      82.183124\n",
       "std   ...  \n",
       "321  count    225.000000\n",
       "mean     114.618088\n",
       "std   ...  \n",
       "322  count    225.000000\n",
       "mean     124.123399\n",
       "std   ...  \n",
       "323  count    2.250000e+02\n",
       "mean     8.322350e+13\n",
       "st...  \n",
       "\n",
       "[324 rows x 9 columns]"
      ]
     },
     "metadata": {},
     "output_type": "display_data"
    },
    {
     "data": {
      "text/html": [
       "<div>\n",
       "<style scoped>\n",
       "    .dataframe tbody tr th:only-of-type {\n",
       "        vertical-align: middle;\n",
       "    }\n",
       "\n",
       "    .dataframe tbody tr th {\n",
       "        vertical-align: top;\n",
       "    }\n",
       "\n",
       "    .dataframe thead th {\n",
       "        text-align: right;\n",
       "    }\n",
       "</style>\n",
       "<table border=\"1\" class=\"dataframe\">\n",
       "  <thead>\n",
       "    <tr style=\"text-align: right;\">\n",
       "      <th></th>\n",
       "      <th>algorithm_name</th>\n",
       "      <th>ft_dummyfication</th>\n",
       "      <th>origin_ft_selection</th>\n",
       "      <th>ft_selection</th>\n",
       "      <th>hyperparameters</th>\n",
       "      <th>size_target</th>\n",
       "      <th>test_size</th>\n",
       "      <th>coef_order</th>\n",
       "      <th>accuracy</th>\n",
       "    </tr>\n",
       "  </thead>\n",
       "  <tbody>\n",
       "    <tr>\n",
       "      <th>0</th>\n",
       "      <td>LinearRegression</td>\n",
       "      <td>False</td>\n",
       "      <td>None</td>\n",
       "      <td>Index(['encryption', 'compression', 'compressi...</td>\n",
       "      <td>LinearRegression()</td>\n",
       "      <td>Performance</td>\n",
       "      <td>0.1</td>\n",
       "      <td>compression                      2.058711e+19\n",
       "...</td>\n",
       "      <td>count      25.000000\n",
       "mean      295.603633\n",
       "std ...</td>\n",
       "    </tr>\n",
       "    <tr>\n",
       "      <th>1</th>\n",
       "      <td>Lasso</td>\n",
       "      <td>False</td>\n",
       "      <td>None</td>\n",
       "      <td>Index(['encryption', 'compression', 'compressi...</td>\n",
       "      <td>Lasso(alpha=25, max_iter=5)</td>\n",
       "      <td>Performance</td>\n",
       "      <td>0.1</td>\n",
       "      <td>compressionZpaq                  1.763871e+06\n",
       "...</td>\n",
       "      <td>count      25.000000\n",
       "mean      286.640185\n",
       "std ...</td>\n",
       "    </tr>\n",
       "    <tr>\n",
       "      <th>2</th>\n",
       "      <td>Ridge</td>\n",
       "      <td>False</td>\n",
       "      <td>None</td>\n",
       "      <td>Index(['encryption', 'compression', 'compressi...</td>\n",
       "      <td>Ridge(alpha=2)</td>\n",
       "      <td>Performance</td>\n",
       "      <td>0.1</td>\n",
       "      <td>compressionZpaq                  1.819683e+06\n",
       "...</td>\n",
       "      <td>count      25.000000\n",
       "mean      249.435121\n",
       "std ...</td>\n",
       "    </tr>\n",
       "    <tr>\n",
       "      <th>3</th>\n",
       "      <td>ElasticNet</td>\n",
       "      <td>False</td>\n",
       "      <td>None</td>\n",
       "      <td>Index(['encryption', 'compression', 'compressi...</td>\n",
       "      <td>ElasticNet(alpha=0.02, l1_ratio=0.1, max_iter=5)</td>\n",
       "      <td>Performance</td>\n",
       "      <td>0.1</td>\n",
       "      <td>compressionZpaq                  1.689284e+06\n",
       "...</td>\n",
       "      <td>count      25.000000\n",
       "mean      226.158701\n",
       "std ...</td>\n",
       "    </tr>\n",
       "    <tr>\n",
       "      <th>4</th>\n",
       "      <td>LinearRegression</td>\n",
       "      <td>False</td>\n",
       "      <td>None</td>\n",
       "      <td>Index(['encryption', 'compression', 'compressi...</td>\n",
       "      <td>LinearRegression()</td>\n",
       "      <td>Performance</td>\n",
       "      <td>0.2</td>\n",
       "      <td>compression                      4.035688e+19\n",
       "...</td>\n",
       "      <td>count      50.000000\n",
       "mean      269.164575\n",
       "std ...</td>\n",
       "    </tr>\n",
       "    <tr>\n",
       "      <th>...</th>\n",
       "      <td>...</td>\n",
       "      <td>...</td>\n",
       "      <td>...</td>\n",
       "      <td>...</td>\n",
       "      <td>...</td>\n",
       "      <td>...</td>\n",
       "      <td>...</td>\n",
       "      <td>...</td>\n",
       "      <td>...</td>\n",
       "    </tr>\n",
       "    <tr>\n",
       "      <th>319</th>\n",
       "      <td>LinearRegression</td>\n",
       "      <td>True</td>\n",
       "      <td>RandomForest</td>\n",
       "      <td>Index(['compressionZpaq_0_0', 'compressionZpaq...</td>\n",
       "      <td>LinearRegression()</td>\n",
       "      <td>Performance</td>\n",
       "      <td>0.9</td>\n",
       "      <td>compressionLrzip_0_0    7.616717e+04\n",
       "compressi...</td>\n",
       "      <td>count    225.000000\n",
       "mean      72.716377\n",
       "std   ...</td>\n",
       "    </tr>\n",
       "    <tr>\n",
       "      <th>320</th>\n",
       "      <td>Lasso</td>\n",
       "      <td>True</td>\n",
       "      <td>RandomForest</td>\n",
       "      <td>Index(['compressionZpaq_0_0', 'compressionZpaq...</td>\n",
       "      <td>Lasso(alpha=25, max_iter=1)</td>\n",
       "      <td>Performance</td>\n",
       "      <td>0.9</td>\n",
       "      <td>compressionLrzip_0_0    2.840609e+05\n",
       "level9_1_...</td>\n",
       "      <td>count    225.000000\n",
       "mean      82.183124\n",
       "std   ...</td>\n",
       "    </tr>\n",
       "    <tr>\n",
       "      <th>321</th>\n",
       "      <td>Ridge</td>\n",
       "      <td>True</td>\n",
       "      <td>RandomForest</td>\n",
       "      <td>Index(['compressionZpaq_0_0', 'compressionZpaq...</td>\n",
       "      <td>Ridge(alpha=25)</td>\n",
       "      <td>Performance</td>\n",
       "      <td>0.9</td>\n",
       "      <td>compressionLrzip_0_0    31950.715237\n",
       "compressi...</td>\n",
       "      <td>count    225.000000\n",
       "mean     114.618088\n",
       "std   ...</td>\n",
       "    </tr>\n",
       "    <tr>\n",
       "      <th>322</th>\n",
       "      <td>ElasticNet</td>\n",
       "      <td>True</td>\n",
       "      <td>RandomForest</td>\n",
       "      <td>Index(['compressionZpaq_0_0', 'compressionZpaq...</td>\n",
       "      <td>ElasticNet(alpha=2, l1_ratio=0.1, max_iter=1)</td>\n",
       "      <td>Performance</td>\n",
       "      <td>0.9</td>\n",
       "      <td>compressionLrzip_0_0    28509.266351\n",
       "compressi...</td>\n",
       "      <td>count    225.000000\n",
       "mean     124.123399\n",
       "std   ...</td>\n",
       "    </tr>\n",
       "    <tr>\n",
       "      <th>323</th>\n",
       "      <td>PolynomialRegression</td>\n",
       "      <td>True</td>\n",
       "      <td>RandomForest</td>\n",
       "      <td>Index(['compressionZpaq_0_0', 'compressionZpaq...</td>\n",
       "      <td>LinearRegression()</td>\n",
       "      <td>Performance</td>\n",
       "      <td>0.9</td>\n",
       "      <td>compressionZpaq_0_0     8.846288e+18\n",
       "compressi...</td>\n",
       "      <td>count    2.250000e+02\n",
       "mean     8.322350e+13\n",
       "st...</td>\n",
       "    </tr>\n",
       "  </tbody>\n",
       "</table>\n",
       "<p>324 rows × 9 columns</p>\n",
       "</div>"
      ],
      "text/plain": [
       "           algorithm_name  ft_dummyfication origin_ft_selection  \\\n",
       "0        LinearRegression             False                None   \n",
       "1                   Lasso             False                None   \n",
       "2                   Ridge             False                None   \n",
       "3              ElasticNet             False                None   \n",
       "4        LinearRegression             False                None   \n",
       "..                    ...               ...                 ...   \n",
       "319      LinearRegression              True        RandomForest   \n",
       "320                 Lasso              True        RandomForest   \n",
       "321                 Ridge              True        RandomForest   \n",
       "322            ElasticNet              True        RandomForest   \n",
       "323  PolynomialRegression              True        RandomForest   \n",
       "\n",
       "                                          ft_selection  \\\n",
       "0    Index(['encryption', 'compression', 'compressi...   \n",
       "1    Index(['encryption', 'compression', 'compressi...   \n",
       "2    Index(['encryption', 'compression', 'compressi...   \n",
       "3    Index(['encryption', 'compression', 'compressi...   \n",
       "4    Index(['encryption', 'compression', 'compressi...   \n",
       "..                                                 ...   \n",
       "319  Index(['compressionZpaq_0_0', 'compressionZpaq...   \n",
       "320  Index(['compressionZpaq_0_0', 'compressionZpaq...   \n",
       "321  Index(['compressionZpaq_0_0', 'compressionZpaq...   \n",
       "322  Index(['compressionZpaq_0_0', 'compressionZpaq...   \n",
       "323  Index(['compressionZpaq_0_0', 'compressionZpaq...   \n",
       "\n",
       "                                      hyperparameters  size_target  test_size  \\\n",
       "0                                  LinearRegression()  Performance        0.1   \n",
       "1                         Lasso(alpha=25, max_iter=5)  Performance        0.1   \n",
       "2                                      Ridge(alpha=2)  Performance        0.1   \n",
       "3    ElasticNet(alpha=0.02, l1_ratio=0.1, max_iter=5)  Performance        0.1   \n",
       "4                                  LinearRegression()  Performance        0.2   \n",
       "..                                                ...          ...        ...   \n",
       "319                                LinearRegression()  Performance        0.9   \n",
       "320                       Lasso(alpha=25, max_iter=1)  Performance        0.9   \n",
       "321                                   Ridge(alpha=25)  Performance        0.9   \n",
       "322     ElasticNet(alpha=2, l1_ratio=0.1, max_iter=1)  Performance        0.9   \n",
       "323                                LinearRegression()  Performance        0.9   \n",
       "\n",
       "                                            coef_order  \\\n",
       "0    compression                      2.058711e+19\n",
       "...   \n",
       "1    compressionZpaq                  1.763871e+06\n",
       "...   \n",
       "2    compressionZpaq                  1.819683e+06\n",
       "...   \n",
       "3    compressionZpaq                  1.689284e+06\n",
       "...   \n",
       "4    compression                      4.035688e+19\n",
       "...   \n",
       "..                                                 ...   \n",
       "319  compressionLrzip_0_0    7.616717e+04\n",
       "compressi...   \n",
       "320  compressionLrzip_0_0    2.840609e+05\n",
       "level9_1_...   \n",
       "321  compressionLrzip_0_0    31950.715237\n",
       "compressi...   \n",
       "322  compressionLrzip_0_0    28509.266351\n",
       "compressi...   \n",
       "323  compressionZpaq_0_0     8.846288e+18\n",
       "compressi...   \n",
       "\n",
       "                                              accuracy  \n",
       "0    count      25.000000\n",
       "mean      295.603633\n",
       "std ...  \n",
       "1    count      25.000000\n",
       "mean      286.640185\n",
       "std ...  \n",
       "2    count      25.000000\n",
       "mean      249.435121\n",
       "std ...  \n",
       "3    count      25.000000\n",
       "mean      226.158701\n",
       "std ...  \n",
       "4    count      50.000000\n",
       "mean      269.164575\n",
       "std ...  \n",
       "..                                                 ...  \n",
       "319  count    225.000000\n",
       "mean      72.716377\n",
       "std   ...  \n",
       "320  count    225.000000\n",
       "mean      82.183124\n",
       "std   ...  \n",
       "321  count    225.000000\n",
       "mean     114.618088\n",
       "std   ...  \n",
       "322  count    225.000000\n",
       "mean     124.123399\n",
       "std   ...  \n",
       "323  count    2.250000e+02\n",
       "mean     8.322350e+13\n",
       "st...  \n",
       "\n",
       "[324 rows x 9 columns]"
      ]
     },
     "metadata": {},
     "output_type": "display_data"
    },
    {
     "data": {
      "text/html": [
       "<div>\n",
       "<style scoped>\n",
       "    .dataframe tbody tr th:only-of-type {\n",
       "        vertical-align: middle;\n",
       "    }\n",
       "\n",
       "    .dataframe tbody tr th {\n",
       "        vertical-align: top;\n",
       "    }\n",
       "\n",
       "    .dataframe thead th {\n",
       "        text-align: right;\n",
       "    }\n",
       "</style>\n",
       "<table border=\"1\" class=\"dataframe\">\n",
       "  <thead>\n",
       "    <tr style=\"text-align: right;\">\n",
       "      <th></th>\n",
       "      <th>Performance</th>\n",
       "      <th>encryption_0_0</th>\n",
       "      <th>encryption_0_1</th>\n",
       "      <th>encryption_1_0</th>\n",
       "      <th>encryption_1_1</th>\n",
       "      <th>compression_0_0</th>\n",
       "      <th>compression_0_1</th>\n",
       "      <th>compression_1_0</th>\n",
       "      <th>compression_1_1</th>\n",
       "      <th>compressionBzip2_0_0</th>\n",
       "      <th>...</th>\n",
       "      <th>#yes_5_0</th>\n",
       "      <th>#yes_5_1</th>\n",
       "      <th>#yes_6_0</th>\n",
       "      <th>#yes_6_1</th>\n",
       "      <th>#yes_7_0</th>\n",
       "      <th>#yes_7_1</th>\n",
       "      <th>#yes_8_0</th>\n",
       "      <th>#yes_8_1</th>\n",
       "      <th>#yes_19</th>\n",
       "      <th>#yes</th>\n",
       "    </tr>\n",
       "  </thead>\n",
       "  <tbody>\n",
       "    <tr>\n",
       "      <th>0</th>\n",
       "      <td>208900</td>\n",
       "      <td>0</td>\n",
       "      <td>1</td>\n",
       "      <td>1</td>\n",
       "      <td>0</td>\n",
       "      <td>1</td>\n",
       "      <td>0</td>\n",
       "      <td>0</td>\n",
       "      <td>1</td>\n",
       "      <td>0</td>\n",
       "      <td>...</td>\n",
       "      <td>0</td>\n",
       "      <td>1</td>\n",
       "      <td>1</td>\n",
       "      <td>0</td>\n",
       "      <td>1</td>\n",
       "      <td>0</td>\n",
       "      <td>1</td>\n",
       "      <td>0</td>\n",
       "      <td>1</td>\n",
       "      <td>43</td>\n",
       "    </tr>\n",
       "    <tr>\n",
       "      <th>1</th>\n",
       "      <td>210450</td>\n",
       "      <td>0</td>\n",
       "      <td>1</td>\n",
       "      <td>1</td>\n",
       "      <td>0</td>\n",
       "      <td>1</td>\n",
       "      <td>0</td>\n",
       "      <td>0</td>\n",
       "      <td>1</td>\n",
       "      <td>0</td>\n",
       "      <td>...</td>\n",
       "      <td>0</td>\n",
       "      <td>1</td>\n",
       "      <td>1</td>\n",
       "      <td>0</td>\n",
       "      <td>1</td>\n",
       "      <td>0</td>\n",
       "      <td>1</td>\n",
       "      <td>0</td>\n",
       "      <td>1</td>\n",
       "      <td>43</td>\n",
       "    </tr>\n",
       "    <tr>\n",
       "      <th>2</th>\n",
       "      <td>283750</td>\n",
       "      <td>0</td>\n",
       "      <td>1</td>\n",
       "      <td>1</td>\n",
       "      <td>0</td>\n",
       "      <td>1</td>\n",
       "      <td>0</td>\n",
       "      <td>0</td>\n",
       "      <td>1</td>\n",
       "      <td>0</td>\n",
       "      <td>...</td>\n",
       "      <td>0</td>\n",
       "      <td>1</td>\n",
       "      <td>1</td>\n",
       "      <td>0</td>\n",
       "      <td>1</td>\n",
       "      <td>0</td>\n",
       "      <td>1</td>\n",
       "      <td>0</td>\n",
       "      <td>1</td>\n",
       "      <td>43</td>\n",
       "    </tr>\n",
       "    <tr>\n",
       "      <th>3</th>\n",
       "      <td>339780</td>\n",
       "      <td>0</td>\n",
       "      <td>1</td>\n",
       "      <td>1</td>\n",
       "      <td>0</td>\n",
       "      <td>1</td>\n",
       "      <td>0</td>\n",
       "      <td>0</td>\n",
       "      <td>1</td>\n",
       "      <td>0</td>\n",
       "      <td>...</td>\n",
       "      <td>0</td>\n",
       "      <td>1</td>\n",
       "      <td>1</td>\n",
       "      <td>0</td>\n",
       "      <td>1</td>\n",
       "      <td>0</td>\n",
       "      <td>1</td>\n",
       "      <td>0</td>\n",
       "      <td>1</td>\n",
       "      <td>43</td>\n",
       "    </tr>\n",
       "    <tr>\n",
       "      <th>4</th>\n",
       "      <td>340590</td>\n",
       "      <td>0</td>\n",
       "      <td>1</td>\n",
       "      <td>1</td>\n",
       "      <td>0</td>\n",
       "      <td>1</td>\n",
       "      <td>0</td>\n",
       "      <td>0</td>\n",
       "      <td>1</td>\n",
       "      <td>0</td>\n",
       "      <td>...</td>\n",
       "      <td>0</td>\n",
       "      <td>1</td>\n",
       "      <td>1</td>\n",
       "      <td>0</td>\n",
       "      <td>1</td>\n",
       "      <td>0</td>\n",
       "      <td>1</td>\n",
       "      <td>0</td>\n",
       "      <td>1</td>\n",
       "      <td>43</td>\n",
       "    </tr>\n",
       "    <tr>\n",
       "      <th>...</th>\n",
       "      <td>...</td>\n",
       "      <td>...</td>\n",
       "      <td>...</td>\n",
       "      <td>...</td>\n",
       "      <td>...</td>\n",
       "      <td>...</td>\n",
       "      <td>...</td>\n",
       "      <td>...</td>\n",
       "      <td>...</td>\n",
       "      <td>...</td>\n",
       "      <td>...</td>\n",
       "      <td>...</td>\n",
       "      <td>...</td>\n",
       "      <td>...</td>\n",
       "      <td>...</td>\n",
       "      <td>...</td>\n",
       "      <td>...</td>\n",
       "      <td>...</td>\n",
       "      <td>...</td>\n",
       "      <td>...</td>\n",
       "      <td>...</td>\n",
       "    </tr>\n",
       "    <tr>\n",
       "      <th>245</th>\n",
       "      <td>5765570</td>\n",
       "      <td>1</td>\n",
       "      <td>0</td>\n",
       "      <td>0</td>\n",
       "      <td>1</td>\n",
       "      <td>1</td>\n",
       "      <td>0</td>\n",
       "      <td>0</td>\n",
       "      <td>1</td>\n",
       "      <td>0</td>\n",
       "      <td>...</td>\n",
       "      <td>1</td>\n",
       "      <td>0</td>\n",
       "      <td>1</td>\n",
       "      <td>0</td>\n",
       "      <td>1</td>\n",
       "      <td>0</td>\n",
       "      <td>0</td>\n",
       "      <td>1</td>\n",
       "      <td>1</td>\n",
       "      <td>43</td>\n",
       "    </tr>\n",
       "    <tr>\n",
       "      <th>246</th>\n",
       "      <td>55520</td>\n",
       "      <td>1</td>\n",
       "      <td>0</td>\n",
       "      <td>0</td>\n",
       "      <td>1</td>\n",
       "      <td>0</td>\n",
       "      <td>1</td>\n",
       "      <td>1</td>\n",
       "      <td>0</td>\n",
       "      <td>0</td>\n",
       "      <td>...</td>\n",
       "      <td>1</td>\n",
       "      <td>0</td>\n",
       "      <td>0</td>\n",
       "      <td>1</td>\n",
       "      <td>1</td>\n",
       "      <td>0</td>\n",
       "      <td>1</td>\n",
       "      <td>0</td>\n",
       "      <td>1</td>\n",
       "      <td>43</td>\n",
       "    </tr>\n",
       "    <tr>\n",
       "      <th>247</th>\n",
       "      <td>57860</td>\n",
       "      <td>1</td>\n",
       "      <td>0</td>\n",
       "      <td>0</td>\n",
       "      <td>1</td>\n",
       "      <td>0</td>\n",
       "      <td>1</td>\n",
       "      <td>1</td>\n",
       "      <td>0</td>\n",
       "      <td>0</td>\n",
       "      <td>...</td>\n",
       "      <td>1</td>\n",
       "      <td>0</td>\n",
       "      <td>0</td>\n",
       "      <td>1</td>\n",
       "      <td>1</td>\n",
       "      <td>0</td>\n",
       "      <td>1</td>\n",
       "      <td>0</td>\n",
       "      <td>1</td>\n",
       "      <td>43</td>\n",
       "    </tr>\n",
       "    <tr>\n",
       "      <th>248</th>\n",
       "      <td>58700</td>\n",
       "      <td>1</td>\n",
       "      <td>0</td>\n",
       "      <td>0</td>\n",
       "      <td>1</td>\n",
       "      <td>0</td>\n",
       "      <td>1</td>\n",
       "      <td>1</td>\n",
       "      <td>0</td>\n",
       "      <td>0</td>\n",
       "      <td>...</td>\n",
       "      <td>1</td>\n",
       "      <td>0</td>\n",
       "      <td>0</td>\n",
       "      <td>1</td>\n",
       "      <td>1</td>\n",
       "      <td>0</td>\n",
       "      <td>1</td>\n",
       "      <td>0</td>\n",
       "      <td>1</td>\n",
       "      <td>43</td>\n",
       "    </tr>\n",
       "    <tr>\n",
       "      <th>249</th>\n",
       "      <td>57320</td>\n",
       "      <td>1</td>\n",
       "      <td>0</td>\n",
       "      <td>0</td>\n",
       "      <td>1</td>\n",
       "      <td>0</td>\n",
       "      <td>1</td>\n",
       "      <td>1</td>\n",
       "      <td>0</td>\n",
       "      <td>0</td>\n",
       "      <td>...</td>\n",
       "      <td>1</td>\n",
       "      <td>0</td>\n",
       "      <td>0</td>\n",
       "      <td>1</td>\n",
       "      <td>1</td>\n",
       "      <td>0</td>\n",
       "      <td>1</td>\n",
       "      <td>0</td>\n",
       "      <td>1</td>\n",
       "      <td>43</td>\n",
       "    </tr>\n",
       "  </tbody>\n",
       "</table>\n",
       "<p>250 rows × 87 columns</p>\n",
       "</div>"
      ],
      "text/plain": [
       "     Performance  encryption_0_0  encryption_0_1  encryption_1_0  \\\n",
       "0         208900               0               1               1   \n",
       "1         210450               0               1               1   \n",
       "2         283750               0               1               1   \n",
       "3         339780               0               1               1   \n",
       "4         340590               0               1               1   \n",
       "..           ...             ...             ...             ...   \n",
       "245      5765570               1               0               0   \n",
       "246        55520               1               0               0   \n",
       "247        57860               1               0               0   \n",
       "248        58700               1               0               0   \n",
       "249        57320               1               0               0   \n",
       "\n",
       "     encryption_1_1  compression_0_0  compression_0_1  compression_1_0  \\\n",
       "0                 0                1                0                0   \n",
       "1                 0                1                0                0   \n",
       "2                 0                1                0                0   \n",
       "3                 0                1                0                0   \n",
       "4                 0                1                0                0   \n",
       "..              ...              ...              ...              ...   \n",
       "245               1                1                0                0   \n",
       "246               1                0                1                1   \n",
       "247               1                0                1                1   \n",
       "248               1                0                1                1   \n",
       "249               1                0                1                1   \n",
       "\n",
       "     compression_1_1  compressionBzip2_0_0  ...  #yes_5_0  #yes_5_1  #yes_6_0  \\\n",
       "0                  1                     0  ...         0         1         1   \n",
       "1                  1                     0  ...         0         1         1   \n",
       "2                  1                     0  ...         0         1         1   \n",
       "3                  1                     0  ...         0         1         1   \n",
       "4                  1                     0  ...         0         1         1   \n",
       "..               ...                   ...  ...       ...       ...       ...   \n",
       "245                1                     0  ...         1         0         1   \n",
       "246                0                     0  ...         1         0         0   \n",
       "247                0                     0  ...         1         0         0   \n",
       "248                0                     0  ...         1         0         0   \n",
       "249                0                     0  ...         1         0         0   \n",
       "\n",
       "     #yes_6_1  #yes_7_0  #yes_7_1  #yes_8_0  #yes_8_1  #yes_19  #yes  \n",
       "0           0         1         0         1         0        1    43  \n",
       "1           0         1         0         1         0        1    43  \n",
       "2           0         1         0         1         0        1    43  \n",
       "3           0         1         0         1         0        1    43  \n",
       "4           0         1         0         1         0        1    43  \n",
       "..        ...       ...       ...       ...       ...      ...   ...  \n",
       "245         0         1         0         0         1        1    43  \n",
       "246         1         1         0         1         0        1    43  \n",
       "247         1         1         0         1         0        1    43  \n",
       "248         1         1         0         1         0        1    43  \n",
       "249         1         1         0         1         0        1    43  \n",
       "\n",
       "[250 rows x 87 columns]"
      ]
     },
     "metadata": {},
     "output_type": "display_data"
    },
    {
     "data": {
      "text/plain": [
       "'Performance'"
      ]
     },
     "metadata": {},
     "output_type": "display_data"
    },
    {
     "data": {
      "text/plain": [
       "'Num 1s: 0'"
      ]
     },
     "metadata": {},
     "output_type": "display_data"
    },
    {
     "data": {
      "text/plain": [
       "'Num 0s: 0'"
      ]
     },
     "metadata": {},
     "output_type": "display_data"
    },
    {
     "data": {
      "text/plain": [
       "'encryption_0_0'"
      ]
     },
     "metadata": {},
     "output_type": "display_data"
    },
    {
     "data": {
      "text/plain": [
       "'Num 1s: 141'"
      ]
     },
     "metadata": {},
     "output_type": "display_data"
    },
    {
     "data": {
      "text/plain": [
       "'Num 0s: 109'"
      ]
     },
     "metadata": {},
     "output_type": "display_data"
    },
    {
     "data": {
      "text/plain": [
       "'encryption_0_1'"
      ]
     },
     "metadata": {},
     "output_type": "display_data"
    },
    {
     "data": {
      "text/plain": [
       "'Num 1s: 109'"
      ]
     },
     "metadata": {},
     "output_type": "display_data"
    },
    {
     "data": {
      "text/plain": [
       "'Num 0s: 141'"
      ]
     },
     "metadata": {},
     "output_type": "display_data"
    },
    {
     "data": {
      "text/plain": [
       "'encryption_1_0'"
      ]
     },
     "metadata": {},
     "output_type": "display_data"
    },
    {
     "data": {
      "text/plain": [
       "'Num 1s: 109'"
      ]
     },
     "metadata": {},
     "output_type": "display_data"
    },
    {
     "data": {
      "text/plain": [
       "'Num 0s: 141'"
      ]
     },
     "metadata": {},
     "output_type": "display_data"
    },
    {
     "data": {
      "text/plain": [
       "'encryption_1_1'"
      ]
     },
     "metadata": {},
     "output_type": "display_data"
    },
    {
     "data": {
      "text/plain": [
       "'Num 1s: 141'"
      ]
     },
     "metadata": {},
     "output_type": "display_data"
    },
    {
     "data": {
      "text/plain": [
       "'Num 0s: 109'"
      ]
     },
     "metadata": {},
     "output_type": "display_data"
    },
    {
     "data": {
      "text/plain": [
       "'compression_0_0'"
      ]
     },
     "metadata": {},
     "output_type": "display_data"
    },
    {
     "data": {
      "text/plain": [
       "'Num 1s: 183'"
      ]
     },
     "metadata": {},
     "output_type": "display_data"
    },
    {
     "data": {
      "text/plain": [
       "'Num 0s: 67'"
      ]
     },
     "metadata": {},
     "output_type": "display_data"
    },
    {
     "data": {
      "text/plain": [
       "'compression_0_1'"
      ]
     },
     "metadata": {},
     "output_type": "display_data"
    },
    {
     "data": {
      "text/plain": [
       "'Num 1s: 67'"
      ]
     },
     "metadata": {},
     "output_type": "display_data"
    },
    {
     "data": {
      "text/plain": [
       "'Num 0s: 183'"
      ]
     },
     "metadata": {},
     "output_type": "display_data"
    },
    {
     "data": {
      "text/plain": [
       "'compression_1_0'"
      ]
     },
     "metadata": {},
     "output_type": "display_data"
    },
    {
     "data": {
      "text/plain": [
       "'Num 1s: 67'"
      ]
     },
     "metadata": {},
     "output_type": "display_data"
    },
    {
     "data": {
      "text/plain": [
       "'Num 0s: 183'"
      ]
     },
     "metadata": {},
     "output_type": "display_data"
    },
    {
     "data": {
      "text/plain": [
       "'compression_1_1'"
      ]
     },
     "metadata": {},
     "output_type": "display_data"
    },
    {
     "data": {
      "text/plain": [
       "'Num 1s: 183'"
      ]
     },
     "metadata": {},
     "output_type": "display_data"
    },
    {
     "data": {
      "text/plain": [
       "'Num 0s: 67'"
      ]
     },
     "metadata": {},
     "output_type": "display_data"
    },
    {
     "data": {
      "text/plain": [
       "'compressionBzip2_0_0'"
      ]
     },
     "metadata": {},
     "output_type": "display_data"
    },
    {
     "data": {
      "text/plain": [
       "'Num 1s: 41'"
      ]
     },
     "metadata": {},
     "output_type": "display_data"
    },
    {
     "data": {
      "text/plain": [
       "'Num 0s: 209'"
      ]
     },
     "metadata": {},
     "output_type": "display_data"
    },
    {
     "data": {
      "text/plain": [
       "'compressionBzip2_0_1'"
      ]
     },
     "metadata": {},
     "output_type": "display_data"
    },
    {
     "data": {
      "text/plain": [
       "'Num 1s: 209'"
      ]
     },
     "metadata": {},
     "output_type": "display_data"
    },
    {
     "data": {
      "text/plain": [
       "'Num 0s: 41'"
      ]
     },
     "metadata": {},
     "output_type": "display_data"
    },
    {
     "data": {
      "text/plain": [
       "'compressionBzip2_1_0'"
      ]
     },
     "metadata": {},
     "output_type": "display_data"
    },
    {
     "data": {
      "text/plain": [
       "'Num 1s: 209'"
      ]
     },
     "metadata": {},
     "output_type": "display_data"
    },
    {
     "data": {
      "text/plain": [
       "'Num 0s: 41'"
      ]
     },
     "metadata": {},
     "output_type": "display_data"
    },
    {
     "data": {
      "text/plain": [
       "'compressionBzip2_1_1'"
      ]
     },
     "metadata": {},
     "output_type": "display_data"
    },
    {
     "data": {
      "text/plain": [
       "'Num 1s: 41'"
      ]
     },
     "metadata": {},
     "output_type": "display_data"
    },
    {
     "data": {
      "text/plain": [
       "'Num 0s: 209'"
      ]
     },
     "metadata": {},
     "output_type": "display_data"
    },
    {
     "data": {
      "text/plain": [
       "'compressionGzip_0_0'"
      ]
     },
     "metadata": {},
     "output_type": "display_data"
    },
    {
     "data": {
      "text/plain": [
       "'Num 1s: 36'"
      ]
     },
     "metadata": {},
     "output_type": "display_data"
    },
    {
     "data": {
      "text/plain": [
       "'Num 0s: 214'"
      ]
     },
     "metadata": {},
     "output_type": "display_data"
    },
    {
     "data": {
      "text/plain": [
       "'compressionGzip_0_1'"
      ]
     },
     "metadata": {},
     "output_type": "display_data"
    },
    {
     "data": {
      "text/plain": [
       "'Num 1s: 214'"
      ]
     },
     "metadata": {},
     "output_type": "display_data"
    },
    {
     "data": {
      "text/plain": [
       "'Num 0s: 36'"
      ]
     },
     "metadata": {},
     "output_type": "display_data"
    },
    {
     "data": {
      "text/plain": [
       "'compressionGzip_1_0'"
      ]
     },
     "metadata": {},
     "output_type": "display_data"
    },
    {
     "data": {
      "text/plain": [
       "'Num 1s: 214'"
      ]
     },
     "metadata": {},
     "output_type": "display_data"
    },
    {
     "data": {
      "text/plain": [
       "'Num 0s: 36'"
      ]
     },
     "metadata": {},
     "output_type": "display_data"
    },
    {
     "data": {
      "text/plain": [
       "'compressionGzip_1_1'"
      ]
     },
     "metadata": {},
     "output_type": "display_data"
    },
    {
     "data": {
      "text/plain": [
       "'Num 1s: 36'"
      ]
     },
     "metadata": {},
     "output_type": "display_data"
    },
    {
     "data": {
      "text/plain": [
       "'Num 0s: 214'"
      ]
     },
     "metadata": {},
     "output_type": "display_data"
    },
    {
     "data": {
      "text/plain": [
       "'compressionLzo_0_0'"
      ]
     },
     "metadata": {},
     "output_type": "display_data"
    },
    {
     "data": {
      "text/plain": [
       "'Num 1s: 38'"
      ]
     },
     "metadata": {},
     "output_type": "display_data"
    },
    {
     "data": {
      "text/plain": [
       "'Num 0s: 212'"
      ]
     },
     "metadata": {},
     "output_type": "display_data"
    },
    {
     "data": {
      "text/plain": [
       "'compressionLzo_0_1'"
      ]
     },
     "metadata": {},
     "output_type": "display_data"
    },
    {
     "data": {
      "text/plain": [
       "'Num 1s: 212'"
      ]
     },
     "metadata": {},
     "output_type": "display_data"
    },
    {
     "data": {
      "text/plain": [
       "'Num 0s: 38'"
      ]
     },
     "metadata": {},
     "output_type": "display_data"
    },
    {
     "data": {
      "text/plain": [
       "'compressionLzo_1_0'"
      ]
     },
     "metadata": {},
     "output_type": "display_data"
    },
    {
     "data": {
      "text/plain": [
       "'Num 1s: 212'"
      ]
     },
     "metadata": {},
     "output_type": "display_data"
    },
    {
     "data": {
      "text/plain": [
       "'Num 0s: 38'"
      ]
     },
     "metadata": {},
     "output_type": "display_data"
    },
    {
     "data": {
      "text/plain": [
       "'compressionLzo_1_1'"
      ]
     },
     "metadata": {},
     "output_type": "display_data"
    },
    {
     "data": {
      "text/plain": [
       "'Num 1s: 38'"
      ]
     },
     "metadata": {},
     "output_type": "display_data"
    },
    {
     "data": {
      "text/plain": [
       "'Num 0s: 212'"
      ]
     },
     "metadata": {},
     "output_type": "display_data"
    },
    {
     "data": {
      "text/plain": [
       "'compressionZpaq_0_0'"
      ]
     },
     "metadata": {},
     "output_type": "display_data"
    },
    {
     "data": {
      "text/plain": [
       "'Num 1s: 32'"
      ]
     },
     "metadata": {},
     "output_type": "display_data"
    },
    {
     "data": {
      "text/plain": [
       "'Num 0s: 218'"
      ]
     },
     "metadata": {},
     "output_type": "display_data"
    },
    {
     "data": {
      "text/plain": [
       "'compressionZpaq_0_1'"
      ]
     },
     "metadata": {},
     "output_type": "display_data"
    },
    {
     "data": {
      "text/plain": [
       "'Num 1s: 218'"
      ]
     },
     "metadata": {},
     "output_type": "display_data"
    },
    {
     "data": {
      "text/plain": [
       "'Num 0s: 32'"
      ]
     },
     "metadata": {},
     "output_type": "display_data"
    },
    {
     "data": {
      "text/plain": [
       "'compressionZpaq_1_0'"
      ]
     },
     "metadata": {},
     "output_type": "display_data"
    },
    {
     "data": {
      "text/plain": [
       "'Num 1s: 218'"
      ]
     },
     "metadata": {},
     "output_type": "display_data"
    },
    {
     "data": {
      "text/plain": [
       "'Num 0s: 32'"
      ]
     },
     "metadata": {},
     "output_type": "display_data"
    },
    {
     "data": {
      "text/plain": [
       "'compressionZpaq_1_1'"
      ]
     },
     "metadata": {},
     "output_type": "display_data"
    },
    {
     "data": {
      "text/plain": [
       "'Num 1s: 32'"
      ]
     },
     "metadata": {},
     "output_type": "display_data"
    },
    {
     "data": {
      "text/plain": [
       "'Num 0s: 218'"
      ]
     },
     "metadata": {},
     "output_type": "display_data"
    },
    {
     "data": {
      "text/plain": [
       "'compressionLrzip_0_0'"
      ]
     },
     "metadata": {},
     "output_type": "display_data"
    },
    {
     "data": {
      "text/plain": [
       "'Num 1s: 36'"
      ]
     },
     "metadata": {},
     "output_type": "display_data"
    },
    {
     "data": {
      "text/plain": [
       "'Num 0s: 214'"
      ]
     },
     "metadata": {},
     "output_type": "display_data"
    },
    {
     "data": {
      "text/plain": [
       "'compressionLrzip_0_1'"
      ]
     },
     "metadata": {},
     "output_type": "display_data"
    },
    {
     "data": {
      "text/plain": [
       "'Num 1s: 214'"
      ]
     },
     "metadata": {},
     "output_type": "display_data"
    },
    {
     "data": {
      "text/plain": [
       "'Num 0s: 36'"
      ]
     },
     "metadata": {},
     "output_type": "display_data"
    },
    {
     "data": {
      "text/plain": [
       "'compressionLrzip_1_0'"
      ]
     },
     "metadata": {},
     "output_type": "display_data"
    },
    {
     "data": {
      "text/plain": [
       "'Num 1s: 214'"
      ]
     },
     "metadata": {},
     "output_type": "display_data"
    },
    {
     "data": {
      "text/plain": [
       "'Num 0s: 36'"
      ]
     },
     "metadata": {},
     "output_type": "display_data"
    },
    {
     "data": {
      "text/plain": [
       "'compressionLrzip_1_1'"
      ]
     },
     "metadata": {},
     "output_type": "display_data"
    },
    {
     "data": {
      "text/plain": [
       "'Num 1s: 36'"
      ]
     },
     "metadata": {},
     "output_type": "display_data"
    },
    {
     "data": {
      "text/plain": [
       "'Num 0s: 214'"
      ]
     },
     "metadata": {},
     "output_type": "display_data"
    },
    {
     "data": {
      "text/plain": [
       "'level1_0_0'"
      ]
     },
     "metadata": {},
     "output_type": "display_data"
    },
    {
     "data": {
      "text/plain": [
       "'Num 1s: 22'"
      ]
     },
     "metadata": {},
     "output_type": "display_data"
    },
    {
     "data": {
      "text/plain": [
       "'Num 0s: 228'"
      ]
     },
     "metadata": {},
     "output_type": "display_data"
    },
    {
     "data": {
      "text/plain": [
       "'level1_0_1'"
      ]
     },
     "metadata": {},
     "output_type": "display_data"
    },
    {
     "data": {
      "text/plain": [
       "'Num 1s: 228'"
      ]
     },
     "metadata": {},
     "output_type": "display_data"
    },
    {
     "data": {
      "text/plain": [
       "'Num 0s: 22'"
      ]
     },
     "metadata": {},
     "output_type": "display_data"
    },
    {
     "data": {
      "text/plain": [
       "'level1_1_0'"
      ]
     },
     "metadata": {},
     "output_type": "display_data"
    },
    {
     "data": {
      "text/plain": [
       "'Num 1s: 228'"
      ]
     },
     "metadata": {},
     "output_type": "display_data"
    },
    {
     "data": {
      "text/plain": [
       "'Num 0s: 22'"
      ]
     },
     "metadata": {},
     "output_type": "display_data"
    },
    {
     "data": {
      "text/plain": [
       "'level1_1_1'"
      ]
     },
     "metadata": {},
     "output_type": "display_data"
    },
    {
     "data": {
      "text/plain": [
       "'Num 1s: 22'"
      ]
     },
     "metadata": {},
     "output_type": "display_data"
    },
    {
     "data": {
      "text/plain": [
       "'Num 0s: 228'"
      ]
     },
     "metadata": {},
     "output_type": "display_data"
    },
    {
     "data": {
      "text/plain": [
       "'level2_0_0'"
      ]
     },
     "metadata": {},
     "output_type": "display_data"
    },
    {
     "data": {
      "text/plain": [
       "'Num 1s: 22'"
      ]
     },
     "metadata": {},
     "output_type": "display_data"
    },
    {
     "data": {
      "text/plain": [
       "'Num 0s: 228'"
      ]
     },
     "metadata": {},
     "output_type": "display_data"
    },
    {
     "data": {
      "text/plain": [
       "'level2_0_1'"
      ]
     },
     "metadata": {},
     "output_type": "display_data"
    },
    {
     "data": {
      "text/plain": [
       "'Num 1s: 228'"
      ]
     },
     "metadata": {},
     "output_type": "display_data"
    },
    {
     "data": {
      "text/plain": [
       "'Num 0s: 22'"
      ]
     },
     "metadata": {},
     "output_type": "display_data"
    },
    {
     "data": {
      "text/plain": [
       "'level2_1_0'"
      ]
     },
     "metadata": {},
     "output_type": "display_data"
    },
    {
     "data": {
      "text/plain": [
       "'Num 1s: 228'"
      ]
     },
     "metadata": {},
     "output_type": "display_data"
    },
    {
     "data": {
      "text/plain": [
       "'Num 0s: 22'"
      ]
     },
     "metadata": {},
     "output_type": "display_data"
    },
    {
     "data": {
      "text/plain": [
       "'level2_1_1'"
      ]
     },
     "metadata": {},
     "output_type": "display_data"
    },
    {
     "data": {
      "text/plain": [
       "'Num 1s: 22'"
      ]
     },
     "metadata": {},
     "output_type": "display_data"
    },
    {
     "data": {
      "text/plain": [
       "'Num 0s: 228'"
      ]
     },
     "metadata": {},
     "output_type": "display_data"
    },
    {
     "data": {
      "text/plain": [
       "'level3_0_0'"
      ]
     },
     "metadata": {},
     "output_type": "display_data"
    },
    {
     "data": {
      "text/plain": [
       "'Num 1s: 37'"
      ]
     },
     "metadata": {},
     "output_type": "display_data"
    },
    {
     "data": {
      "text/plain": [
       "'Num 0s: 213'"
      ]
     },
     "metadata": {},
     "output_type": "display_data"
    },
    {
     "data": {
      "text/plain": [
       "'level3_0_1'"
      ]
     },
     "metadata": {},
     "output_type": "display_data"
    },
    {
     "data": {
      "text/plain": [
       "'Num 1s: 213'"
      ]
     },
     "metadata": {},
     "output_type": "display_data"
    },
    {
     "data": {
      "text/plain": [
       "'Num 0s: 37'"
      ]
     },
     "metadata": {},
     "output_type": "display_data"
    },
    {
     "data": {
      "text/plain": [
       "'level3_1_0'"
      ]
     },
     "metadata": {},
     "output_type": "display_data"
    },
    {
     "data": {
      "text/plain": [
       "'Num 1s: 213'"
      ]
     },
     "metadata": {},
     "output_type": "display_data"
    },
    {
     "data": {
      "text/plain": [
       "'Num 0s: 37'"
      ]
     },
     "metadata": {},
     "output_type": "display_data"
    },
    {
     "data": {
      "text/plain": [
       "'level3_1_1'"
      ]
     },
     "metadata": {},
     "output_type": "display_data"
    },
    {
     "data": {
      "text/plain": [
       "'Num 1s: 37'"
      ]
     },
     "metadata": {},
     "output_type": "display_data"
    },
    {
     "data": {
      "text/plain": [
       "'Num 0s: 213'"
      ]
     },
     "metadata": {},
     "output_type": "display_data"
    },
    {
     "data": {
      "text/plain": [
       "'level4_0_0'"
      ]
     },
     "metadata": {},
     "output_type": "display_data"
    },
    {
     "data": {
      "text/plain": [
       "'Num 1s: 20'"
      ]
     },
     "metadata": {},
     "output_type": "display_data"
    },
    {
     "data": {
      "text/plain": [
       "'Num 0s: 230'"
      ]
     },
     "metadata": {},
     "output_type": "display_data"
    },
    {
     "data": {
      "text/plain": [
       "'level4_0_1'"
      ]
     },
     "metadata": {},
     "output_type": "display_data"
    },
    {
     "data": {
      "text/plain": [
       "'Num 1s: 230'"
      ]
     },
     "metadata": {},
     "output_type": "display_data"
    },
    {
     "data": {
      "text/plain": [
       "'Num 0s: 20'"
      ]
     },
     "metadata": {},
     "output_type": "display_data"
    },
    {
     "data": {
      "text/plain": [
       "'level4_1_0'"
      ]
     },
     "metadata": {},
     "output_type": "display_data"
    },
    {
     "data": {
      "text/plain": [
       "'Num 1s: 230'"
      ]
     },
     "metadata": {},
     "output_type": "display_data"
    },
    {
     "data": {
      "text/plain": [
       "'Num 0s: 20'"
      ]
     },
     "metadata": {},
     "output_type": "display_data"
    },
    {
     "data": {
      "text/plain": [
       "'level4_1_1'"
      ]
     },
     "metadata": {},
     "output_type": "display_data"
    },
    {
     "data": {
      "text/plain": [
       "'Num 1s: 20'"
      ]
     },
     "metadata": {},
     "output_type": "display_data"
    },
    {
     "data": {
      "text/plain": [
       "'Num 0s: 230'"
      ]
     },
     "metadata": {},
     "output_type": "display_data"
    },
    {
     "data": {
      "text/plain": [
       "'level5_0_0'"
      ]
     },
     "metadata": {},
     "output_type": "display_data"
    },
    {
     "data": {
      "text/plain": [
       "'Num 1s: 22'"
      ]
     },
     "metadata": {},
     "output_type": "display_data"
    },
    {
     "data": {
      "text/plain": [
       "'Num 0s: 228'"
      ]
     },
     "metadata": {},
     "output_type": "display_data"
    },
    {
     "data": {
      "text/plain": [
       "'level5_0_1'"
      ]
     },
     "metadata": {},
     "output_type": "display_data"
    },
    {
     "data": {
      "text/plain": [
       "'Num 1s: 228'"
      ]
     },
     "metadata": {},
     "output_type": "display_data"
    },
    {
     "data": {
      "text/plain": [
       "'Num 0s: 22'"
      ]
     },
     "metadata": {},
     "output_type": "display_data"
    },
    {
     "data": {
      "text/plain": [
       "'level5_1_0'"
      ]
     },
     "metadata": {},
     "output_type": "display_data"
    },
    {
     "data": {
      "text/plain": [
       "'Num 1s: 228'"
      ]
     },
     "metadata": {},
     "output_type": "display_data"
    },
    {
     "data": {
      "text/plain": [
       "'Num 0s: 22'"
      ]
     },
     "metadata": {},
     "output_type": "display_data"
    },
    {
     "data": {
      "text/plain": [
       "'level5_1_1'"
      ]
     },
     "metadata": {},
     "output_type": "display_data"
    },
    {
     "data": {
      "text/plain": [
       "'Num 1s: 22'"
      ]
     },
     "metadata": {},
     "output_type": "display_data"
    },
    {
     "data": {
      "text/plain": [
       "'Num 0s: 228'"
      ]
     },
     "metadata": {},
     "output_type": "display_data"
    },
    {
     "data": {
      "text/plain": [
       "'level6_0_0'"
      ]
     },
     "metadata": {},
     "output_type": "display_data"
    },
    {
     "data": {
      "text/plain": [
       "'Num 1s: 43'"
      ]
     },
     "metadata": {},
     "output_type": "display_data"
    },
    {
     "data": {
      "text/plain": [
       "'Num 0s: 207'"
      ]
     },
     "metadata": {},
     "output_type": "display_data"
    },
    {
     "data": {
      "text/plain": [
       "'level6_0_1'"
      ]
     },
     "metadata": {},
     "output_type": "display_data"
    },
    {
     "data": {
      "text/plain": [
       "'Num 1s: 207'"
      ]
     },
     "metadata": {},
     "output_type": "display_data"
    },
    {
     "data": {
      "text/plain": [
       "'Num 0s: 43'"
      ]
     },
     "metadata": {},
     "output_type": "display_data"
    },
    {
     "data": {
      "text/plain": [
       "'level6_1_0'"
      ]
     },
     "metadata": {},
     "output_type": "display_data"
    },
    {
     "data": {
      "text/plain": [
       "'Num 1s: 207'"
      ]
     },
     "metadata": {},
     "output_type": "display_data"
    },
    {
     "data": {
      "text/plain": [
       "'Num 0s: 43'"
      ]
     },
     "metadata": {},
     "output_type": "display_data"
    },
    {
     "data": {
      "text/plain": [
       "'level6_1_1'"
      ]
     },
     "metadata": {},
     "output_type": "display_data"
    },
    {
     "data": {
      "text/plain": [
       "'Num 1s: 43'"
      ]
     },
     "metadata": {},
     "output_type": "display_data"
    },
    {
     "data": {
      "text/plain": [
       "'Num 0s: 207'"
      ]
     },
     "metadata": {},
     "output_type": "display_data"
    },
    {
     "data": {
      "text/plain": [
       "'level7_0_0'"
      ]
     },
     "metadata": {},
     "output_type": "display_data"
    },
    {
     "data": {
      "text/plain": [
       "'Num 1s: 28'"
      ]
     },
     "metadata": {},
     "output_type": "display_data"
    },
    {
     "data": {
      "text/plain": [
       "'Num 0s: 222'"
      ]
     },
     "metadata": {},
     "output_type": "display_data"
    },
    {
     "data": {
      "text/plain": [
       "'level7_0_1'"
      ]
     },
     "metadata": {},
     "output_type": "display_data"
    },
    {
     "data": {
      "text/plain": [
       "'Num 1s: 222'"
      ]
     },
     "metadata": {},
     "output_type": "display_data"
    },
    {
     "data": {
      "text/plain": [
       "'Num 0s: 28'"
      ]
     },
     "metadata": {},
     "output_type": "display_data"
    },
    {
     "data": {
      "text/plain": [
       "'level7_1_0'"
      ]
     },
     "metadata": {},
     "output_type": "display_data"
    },
    {
     "data": {
      "text/plain": [
       "'Num 1s: 222'"
      ]
     },
     "metadata": {},
     "output_type": "display_data"
    },
    {
     "data": {
      "text/plain": [
       "'Num 0s: 28'"
      ]
     },
     "metadata": {},
     "output_type": "display_data"
    },
    {
     "data": {
      "text/plain": [
       "'level7_1_1'"
      ]
     },
     "metadata": {},
     "output_type": "display_data"
    },
    {
     "data": {
      "text/plain": [
       "'Num 1s: 28'"
      ]
     },
     "metadata": {},
     "output_type": "display_data"
    },
    {
     "data": {
      "text/plain": [
       "'Num 0s: 222'"
      ]
     },
     "metadata": {},
     "output_type": "display_data"
    },
    {
     "data": {
      "text/plain": [
       "'level8_0_0'"
      ]
     },
     "metadata": {},
     "output_type": "display_data"
    },
    {
     "data": {
      "text/plain": [
       "'Num 1s: 33'"
      ]
     },
     "metadata": {},
     "output_type": "display_data"
    },
    {
     "data": {
      "text/plain": [
       "'Num 0s: 217'"
      ]
     },
     "metadata": {},
     "output_type": "display_data"
    },
    {
     "data": {
      "text/plain": [
       "'level8_0_1'"
      ]
     },
     "metadata": {},
     "output_type": "display_data"
    },
    {
     "data": {
      "text/plain": [
       "'Num 1s: 217'"
      ]
     },
     "metadata": {},
     "output_type": "display_data"
    },
    {
     "data": {
      "text/plain": [
       "'Num 0s: 33'"
      ]
     },
     "metadata": {},
     "output_type": "display_data"
    },
    {
     "data": {
      "text/plain": [
       "'level8_1_0'"
      ]
     },
     "metadata": {},
     "output_type": "display_data"
    },
    {
     "data": {
      "text/plain": [
       "'Num 1s: 217'"
      ]
     },
     "metadata": {},
     "output_type": "display_data"
    },
    {
     "data": {
      "text/plain": [
       "'Num 0s: 33'"
      ]
     },
     "metadata": {},
     "output_type": "display_data"
    },
    {
     "data": {
      "text/plain": [
       "'level8_1_1'"
      ]
     },
     "metadata": {},
     "output_type": "display_data"
    },
    {
     "data": {
      "text/plain": [
       "'Num 1s: 33'"
      ]
     },
     "metadata": {},
     "output_type": "display_data"
    },
    {
     "data": {
      "text/plain": [
       "'Num 0s: 217'"
      ]
     },
     "metadata": {},
     "output_type": "display_data"
    },
    {
     "data": {
      "text/plain": [
       "'level9_0_0'"
      ]
     },
     "metadata": {},
     "output_type": "display_data"
    },
    {
     "data": {
      "text/plain": [
       "'Num 1s: 23'"
      ]
     },
     "metadata": {},
     "output_type": "display_data"
    },
    {
     "data": {
      "text/plain": [
       "'Num 0s: 227'"
      ]
     },
     "metadata": {},
     "output_type": "display_data"
    },
    {
     "data": {
      "text/plain": [
       "'level9_0_1'"
      ]
     },
     "metadata": {},
     "output_type": "display_data"
    },
    {
     "data": {
      "text/plain": [
       "'Num 1s: 227'"
      ]
     },
     "metadata": {},
     "output_type": "display_data"
    },
    {
     "data": {
      "text/plain": [
       "'Num 0s: 23'"
      ]
     },
     "metadata": {},
     "output_type": "display_data"
    },
    {
     "data": {
      "text/plain": [
       "'level9_1_0'"
      ]
     },
     "metadata": {},
     "output_type": "display_data"
    },
    {
     "data": {
      "text/plain": [
       "'Num 1s: 227'"
      ]
     },
     "metadata": {},
     "output_type": "display_data"
    },
    {
     "data": {
      "text/plain": [
       "'Num 0s: 23'"
      ]
     },
     "metadata": {},
     "output_type": "display_data"
    },
    {
     "data": {
      "text/plain": [
       "'level9_1_1'"
      ]
     },
     "metadata": {},
     "output_type": "display_data"
    },
    {
     "data": {
      "text/plain": [
       "'Num 1s: 23'"
      ]
     },
     "metadata": {},
     "output_type": "display_data"
    },
    {
     "data": {
      "text/plain": [
       "'Num 0s: 227'"
      ]
     },
     "metadata": {},
     "output_type": "display_data"
    },
    {
     "data": {
      "text/plain": [
       "'unlimitedWindowSize_0_0'"
      ]
     },
     "metadata": {},
     "output_type": "display_data"
    },
    {
     "data": {
      "text/plain": [
       "'Num 1s: 137'"
      ]
     },
     "metadata": {},
     "output_type": "display_data"
    },
    {
     "data": {
      "text/plain": [
       "'Num 0s: 113'"
      ]
     },
     "metadata": {},
     "output_type": "display_data"
    },
    {
     "data": {
      "text/plain": [
       "'unlimitedWindowSize_0_1'"
      ]
     },
     "metadata": {},
     "output_type": "display_data"
    },
    {
     "data": {
      "text/plain": [
       "'Num 1s: 113'"
      ]
     },
     "metadata": {},
     "output_type": "display_data"
    },
    {
     "data": {
      "text/plain": [
       "'Num 0s: 137'"
      ]
     },
     "metadata": {},
     "output_type": "display_data"
    },
    {
     "data": {
      "text/plain": [
       "'unlimitedWindowSize_1_0'"
      ]
     },
     "metadata": {},
     "output_type": "display_data"
    },
    {
     "data": {
      "text/plain": [
       "'Num 1s: 113'"
      ]
     },
     "metadata": {},
     "output_type": "display_data"
    },
    {
     "data": {
      "text/plain": [
       "'Num 0s: 137'"
      ]
     },
     "metadata": {},
     "output_type": "display_data"
    },
    {
     "data": {
      "text/plain": [
       "'unlimitedWindowSize_1_1'"
      ]
     },
     "metadata": {},
     "output_type": "display_data"
    },
    {
     "data": {
      "text/plain": [
       "'Num 1s: 137'"
      ]
     },
     "metadata": {},
     "output_type": "display_data"
    },
    {
     "data": {
      "text/plain": [
       "'Num 0s: 113'"
      ]
     },
     "metadata": {},
     "output_type": "display_data"
    },
    {
     "data": {
      "text/plain": [
       "'disableCompressibilityTesting_0_0'"
      ]
     },
     "metadata": {},
     "output_type": "display_data"
    },
    {
     "data": {
      "text/plain": [
       "'Num 1s: 101'"
      ]
     },
     "metadata": {},
     "output_type": "display_data"
    },
    {
     "data": {
      "text/plain": [
       "'Num 0s: 149'"
      ]
     },
     "metadata": {},
     "output_type": "display_data"
    },
    {
     "data": {
      "text/plain": [
       "'disableCompressibilityTesting_0_1'"
      ]
     },
     "metadata": {},
     "output_type": "display_data"
    },
    {
     "data": {
      "text/plain": [
       "'Num 1s: 149'"
      ]
     },
     "metadata": {},
     "output_type": "display_data"
    },
    {
     "data": {
      "text/plain": [
       "'Num 0s: 101'"
      ]
     },
     "metadata": {},
     "output_type": "display_data"
    },
    {
     "data": {
      "text/plain": [
       "'disableCompressibilityTesting_1_0'"
      ]
     },
     "metadata": {},
     "output_type": "display_data"
    },
    {
     "data": {
      "text/plain": [
       "'Num 1s: 149'"
      ]
     },
     "metadata": {},
     "output_type": "display_data"
    },
    {
     "data": {
      "text/plain": [
       "'Num 0s: 101'"
      ]
     },
     "metadata": {},
     "output_type": "display_data"
    },
    {
     "data": {
      "text/plain": [
       "'disableCompressibilityTesting_1_1'"
      ]
     },
     "metadata": {},
     "output_type": "display_data"
    },
    {
     "data": {
      "text/plain": [
       "'Num 1s: 101'"
      ]
     },
     "metadata": {},
     "output_type": "display_data"
    },
    {
     "data": {
      "text/plain": [
       "'Num 0s: 149'"
      ]
     },
     "metadata": {},
     "output_type": "display_data"
    },
    {
     "data": {
      "text/plain": [
       "'#yes_3_0'"
      ]
     },
     "metadata": {},
     "output_type": "display_data"
    },
    {
     "data": {
      "text/plain": [
       "'Num 1s: 241'"
      ]
     },
     "metadata": {},
     "output_type": "display_data"
    },
    {
     "data": {
      "text/plain": [
       "'Num 0s: 9'"
      ]
     },
     "metadata": {},
     "output_type": "display_data"
    },
    {
     "data": {
      "text/plain": [
       "'#yes_3_1'"
      ]
     },
     "metadata": {},
     "output_type": "display_data"
    },
    {
     "data": {
      "text/plain": [
       "'Num 1s: 9'"
      ]
     },
     "metadata": {},
     "output_type": "display_data"
    },
    {
     "data": {
      "text/plain": [
       "'Num 0s: 241'"
      ]
     },
     "metadata": {},
     "output_type": "display_data"
    },
    {
     "data": {
      "text/plain": [
       "'#yes_4_0'"
      ]
     },
     "metadata": {},
     "output_type": "display_data"
    },
    {
     "data": {
      "text/plain": [
       "'Num 1s: 223'"
      ]
     },
     "metadata": {},
     "output_type": "display_data"
    },
    {
     "data": {
      "text/plain": [
       "'Num 0s: 27'"
      ]
     },
     "metadata": {},
     "output_type": "display_data"
    },
    {
     "data": {
      "text/plain": [
       "'#yes_4_1'"
      ]
     },
     "metadata": {},
     "output_type": "display_data"
    },
    {
     "data": {
      "text/plain": [
       "'Num 1s: 27'"
      ]
     },
     "metadata": {},
     "output_type": "display_data"
    },
    {
     "data": {
      "text/plain": [
       "'Num 0s: 223'"
      ]
     },
     "metadata": {},
     "output_type": "display_data"
    },
    {
     "data": {
      "text/plain": [
       "'#yes_5_0'"
      ]
     },
     "metadata": {},
     "output_type": "display_data"
    },
    {
     "data": {
      "text/plain": [
       "'Num 1s: 188'"
      ]
     },
     "metadata": {},
     "output_type": "display_data"
    },
    {
     "data": {
      "text/plain": [
       "'Num 0s: 62'"
      ]
     },
     "metadata": {},
     "output_type": "display_data"
    },
    {
     "data": {
      "text/plain": [
       "'#yes_5_1'"
      ]
     },
     "metadata": {},
     "output_type": "display_data"
    },
    {
     "data": {
      "text/plain": [
       "'Num 1s: 62'"
      ]
     },
     "metadata": {},
     "output_type": "display_data"
    },
    {
     "data": {
      "text/plain": [
       "'Num 0s: 188'"
      ]
     },
     "metadata": {},
     "output_type": "display_data"
    },
    {
     "data": {
      "text/plain": [
       "'#yes_6_0'"
      ]
     },
     "metadata": {},
     "output_type": "display_data"
    },
    {
     "data": {
      "text/plain": [
       "'Num 1s: 191'"
      ]
     },
     "metadata": {},
     "output_type": "display_data"
    },
    {
     "data": {
      "text/plain": [
       "'Num 0s: 59'"
      ]
     },
     "metadata": {},
     "output_type": "display_data"
    },
    {
     "data": {
      "text/plain": [
       "'#yes_6_1'"
      ]
     },
     "metadata": {},
     "output_type": "display_data"
    },
    {
     "data": {
      "text/plain": [
       "'Num 1s: 59'"
      ]
     },
     "metadata": {},
     "output_type": "display_data"
    },
    {
     "data": {
      "text/plain": [
       "'Num 0s: 191'"
      ]
     },
     "metadata": {},
     "output_type": "display_data"
    },
    {
     "data": {
      "text/plain": [
       "'#yes_7_0'"
      ]
     },
     "metadata": {},
     "output_type": "display_data"
    },
    {
     "data": {
      "text/plain": [
       "'Num 1s: 202'"
      ]
     },
     "metadata": {},
     "output_type": "display_data"
    },
    {
     "data": {
      "text/plain": [
       "'Num 0s: 48'"
      ]
     },
     "metadata": {},
     "output_type": "display_data"
    },
    {
     "data": {
      "text/plain": [
       "'#yes_7_1'"
      ]
     },
     "metadata": {},
     "output_type": "display_data"
    },
    {
     "data": {
      "text/plain": [
       "'Num 1s: 48'"
      ]
     },
     "metadata": {},
     "output_type": "display_data"
    },
    {
     "data": {
      "text/plain": [
       "'Num 0s: 202'"
      ]
     },
     "metadata": {},
     "output_type": "display_data"
    },
    {
     "data": {
      "text/plain": [
       "'#yes_8_0'"
      ]
     },
     "metadata": {},
     "output_type": "display_data"
    },
    {
     "data": {
      "text/plain": [
       "'Num 1s: 205'"
      ]
     },
     "metadata": {},
     "output_type": "display_data"
    },
    {
     "data": {
      "text/plain": [
       "'Num 0s: 45'"
      ]
     },
     "metadata": {},
     "output_type": "display_data"
    },
    {
     "data": {
      "text/plain": [
       "'#yes_8_1'"
      ]
     },
     "metadata": {},
     "output_type": "display_data"
    },
    {
     "data": {
      "text/plain": [
       "'Num 1s: 45'"
      ]
     },
     "metadata": {},
     "output_type": "display_data"
    },
    {
     "data": {
      "text/plain": [
       "'Num 0s: 205'"
      ]
     },
     "metadata": {},
     "output_type": "display_data"
    },
    {
     "data": {
      "text/plain": [
       "'#yes_19'"
      ]
     },
     "metadata": {},
     "output_type": "display_data"
    },
    {
     "data": {
      "text/plain": [
       "'Num 1s: 250'"
      ]
     },
     "metadata": {},
     "output_type": "display_data"
    },
    {
     "data": {
      "text/plain": [
       "'Num 0s: 0'"
      ]
     },
     "metadata": {},
     "output_type": "display_data"
    },
    {
     "data": {
      "text/plain": [
       "'#yes'"
      ]
     },
     "metadata": {},
     "output_type": "display_data"
    },
    {
     "data": {
      "text/plain": [
       "'Num 1s: 0'"
      ]
     },
     "metadata": {},
     "output_type": "display_data"
    },
    {
     "data": {
      "text/plain": [
       "'Num 0s: 0'"
      ]
     },
     "metadata": {},
     "output_type": "display_data"
    },
    {
     "data": {
      "text/plain": [
       "['#yes_19']"
      ]
     },
     "metadata": {},
     "output_type": "display_data"
    },
    {
     "name": "stdout",
     "output_type": "stream",
     "text": [
      "                       importance\n",
      "compressionZpaq_0_0  1.993877e-01\n",
      "compressionZpaq_1_1  1.526495e-01\n",
      "compressionZpaq_0_1  1.284416e-01\n",
      "compressionZpaq_1_0  1.173063e-01\n",
      "level8_0_0           5.153693e-02\n",
      "...                           ...\n",
      "#yes_4_0             3.695654e-08\n",
      "#yes_4_1             3.307226e-08\n",
      "#yes_3_0             7.523334e-09\n",
      "#yes_3_1             6.416644e-09\n",
      "#yes                 0.000000e+00\n",
      "\n",
      "[85 rows x 1 columns]\n",
      "                       importance\n",
      "compressionZpaq_1_0  2.463570e-01\n",
      "compressionZpaq_0_1  1.823154e-01\n",
      "compressionZpaq_0_0  1.170445e-01\n",
      "level8_1_1           7.324421e-02\n",
      "compressionZpaq_1_1  6.630148e-02\n",
      "...                           ...\n",
      "#yes_4_0             2.603579e-08\n",
      "#yes_4_1             1.298626e-08\n",
      "#yes_3_1             5.664630e-09\n",
      "#yes_3_0             2.244184e-09\n",
      "#yes                 0.000000e+00\n",
      "\n",
      "[85 rows x 1 columns]\n",
      "Sample features number: 43\n",
      "It doesn't scale\n",
      "It doesn't scale\n"
     ]
    },
    {
     "ename": "KeyboardInterrupt",
     "evalue": "",
     "output_type": "error",
     "traceback": [
      "\u001b[0;31m---------------------------------------------------------------------------\u001b[0m",
      "\u001b[0;31mKeyboardInterrupt\u001b[0m                         Traceback (most recent call last)",
      "\u001b[0;32m/tmp/ipykernel_25182/2699950393.py\u001b[0m in \u001b[0;36m<module>\u001b[0;34m\u001b[0m\n\u001b[0;32m----> 1\u001b[0;31m \u001b[0mdf_result_fi\u001b[0m \u001b[0;34m=\u001b[0m \u001b[0mrun_Algorithms\u001b[0m\u001b[0;34m(\u001b[0m\u001b[0mdf\u001b[0m\u001b[0;34m,\u001b[0m \u001b[0;32mTrue\u001b[0m\u001b[0;34m,\u001b[0m \u001b[0;32mNone\u001b[0m\u001b[0;34m)\u001b[0m\u001b[0;34m\u001b[0m\u001b[0;34m\u001b[0m\u001b[0m\n\u001b[0m\u001b[1;32m      2\u001b[0m \u001b[0mdf_result_nfi\u001b[0m \u001b[0;34m=\u001b[0m \u001b[0mrun_Algorithms\u001b[0m\u001b[0;34m(\u001b[0m\u001b[0mdf\u001b[0m\u001b[0;34m,\u001b[0m \u001b[0;32mFalse\u001b[0m\u001b[0;34m,\u001b[0m \u001b[0;32mNone\u001b[0m\u001b[0;34m)\u001b[0m\u001b[0;34m\u001b[0m\u001b[0;34m\u001b[0m\u001b[0m\n",
      "\u001b[0;32m/tmp/ipykernel_25182/2843222197.py\u001b[0m in \u001b[0;36mrun_Algorithms\u001b[0;34m(df, ft_importance_enable, system)\u001b[0m\n\u001b[1;32m     86\u001b[0m                                          \u001b[0;34m'Lasso'\u001b[0m\u001b[0;34m:\u001b[0m \u001b[0mGridSearchCV\u001b[0m\u001b[0;34m(\u001b[0m\u001b[0mlinear_model\u001b[0m\u001b[0;34m.\u001b[0m\u001b[0mLasso\u001b[0m\u001b[0;34m(\u001b[0m\u001b[0;34m)\u001b[0m\u001b[0;34m,\u001b[0m \u001b[0mparam_grid\u001b[0m\u001b[0;34m=\u001b[0m\u001b[0mparamsLasso\u001b[0m\u001b[0;34m,\u001b[0m \u001b[0mcv\u001b[0m\u001b[0;34m=\u001b[0m\u001b[0;36m3\u001b[0m\u001b[0;34m)\u001b[0m\u001b[0;34m.\u001b[0m\u001b[0mfit\u001b[0m\u001b[0;34m(\u001b[0m\u001b[0mx_train\u001b[0m\u001b[0;34m,\u001b[0m \u001b[0my_train\u001b[0m\u001b[0;34m)\u001b[0m\u001b[0;34m.\u001b[0m\u001b[0mbest_estimator_\u001b[0m\u001b[0;34m,\u001b[0m\u001b[0;34m\u001b[0m\u001b[0;34m\u001b[0m\u001b[0m\n\u001b[1;32m     87\u001b[0m                                          \u001b[0;34m'Ridge'\u001b[0m\u001b[0;34m:\u001b[0m \u001b[0mGridSearchCV\u001b[0m\u001b[0;34m(\u001b[0m\u001b[0mlinear_model\u001b[0m\u001b[0;34m.\u001b[0m\u001b[0mRidge\u001b[0m\u001b[0;34m(\u001b[0m\u001b[0;34m)\u001b[0m\u001b[0;34m,\u001b[0m \u001b[0mparam_grid\u001b[0m\u001b[0;34m=\u001b[0m\u001b[0mparamsRidge\u001b[0m\u001b[0;34m,\u001b[0m \u001b[0mcv\u001b[0m\u001b[0;34m=\u001b[0m\u001b[0;36m3\u001b[0m\u001b[0;34m)\u001b[0m\u001b[0;34m.\u001b[0m\u001b[0mfit\u001b[0m\u001b[0;34m(\u001b[0m\u001b[0mx_train\u001b[0m\u001b[0;34m,\u001b[0m \u001b[0my_train\u001b[0m\u001b[0;34m)\u001b[0m\u001b[0;34m.\u001b[0m\u001b[0mbest_estimator_\u001b[0m\u001b[0;34m,\u001b[0m\u001b[0;34m\u001b[0m\u001b[0;34m\u001b[0m\u001b[0m\n\u001b[0;32m---> 88\u001b[0;31m                                          \u001b[0;34m'ElasticNet'\u001b[0m\u001b[0;34m:\u001b[0m \u001b[0mGridSearchCV\u001b[0m\u001b[0;34m(\u001b[0m\u001b[0mElasticNet\u001b[0m\u001b[0;34m(\u001b[0m\u001b[0;34m)\u001b[0m\u001b[0;34m,\u001b[0m \u001b[0mparam_grid\u001b[0m\u001b[0;34m=\u001b[0m\u001b[0mparamsENet\u001b[0m\u001b[0;34m,\u001b[0m \u001b[0mscoring\u001b[0m\u001b[0;34m=\u001b[0m\u001b[0;34m'r2'\u001b[0m\u001b[0;34m,\u001b[0m \u001b[0mcv\u001b[0m\u001b[0;34m=\u001b[0m\u001b[0;36m3\u001b[0m\u001b[0;34m)\u001b[0m\u001b[0;34m.\u001b[0m\u001b[0mfit\u001b[0m\u001b[0;34m(\u001b[0m\u001b[0mx_train\u001b[0m\u001b[0;34m,\u001b[0m \u001b[0my_train\u001b[0m\u001b[0;34m)\u001b[0m\u001b[0;34m.\u001b[0m\u001b[0mbest_estimator_\u001b[0m\u001b[0;34m,\u001b[0m\u001b[0;34m\u001b[0m\u001b[0;34m\u001b[0m\u001b[0m\n\u001b[0m\u001b[1;32m     89\u001b[0m                                          'PolynomialRegression': LinearRegression()}\n\u001b[1;32m     90\u001b[0m                             \u001b[0;32melse\u001b[0m\u001b[0;34m:\u001b[0m\u001b[0;34m\u001b[0m\u001b[0;34m\u001b[0m\u001b[0m\n",
      "\u001b[0;32m~/anaconda3/lib/python3.9/site-packages/sklearn/model_selection/_search.py\u001b[0m in \u001b[0;36mfit\u001b[0;34m(self, X, y, groups, **fit_params)\u001b[0m\n\u001b[1;32m    889\u001b[0m                 \u001b[0;32mreturn\u001b[0m \u001b[0mresults\u001b[0m\u001b[0;34m\u001b[0m\u001b[0;34m\u001b[0m\u001b[0m\n\u001b[1;32m    890\u001b[0m \u001b[0;34m\u001b[0m\u001b[0m\n\u001b[0;32m--> 891\u001b[0;31m             \u001b[0mself\u001b[0m\u001b[0;34m.\u001b[0m\u001b[0m_run_search\u001b[0m\u001b[0;34m(\u001b[0m\u001b[0mevaluate_candidates\u001b[0m\u001b[0;34m)\u001b[0m\u001b[0;34m\u001b[0m\u001b[0;34m\u001b[0m\u001b[0m\n\u001b[0m\u001b[1;32m    892\u001b[0m \u001b[0;34m\u001b[0m\u001b[0m\n\u001b[1;32m    893\u001b[0m             \u001b[0;31m# multimetric is determined here because in the case of a callable\u001b[0m\u001b[0;34m\u001b[0m\u001b[0;34m\u001b[0m\u001b[0m\n",
      "\u001b[0;32m~/anaconda3/lib/python3.9/site-packages/sklearn/model_selection/_search.py\u001b[0m in \u001b[0;36m_run_search\u001b[0;34m(self, evaluate_candidates)\u001b[0m\n\u001b[1;32m   1390\u001b[0m     \u001b[0;32mdef\u001b[0m \u001b[0m_run_search\u001b[0m\u001b[0;34m(\u001b[0m\u001b[0mself\u001b[0m\u001b[0;34m,\u001b[0m \u001b[0mevaluate_candidates\u001b[0m\u001b[0;34m)\u001b[0m\u001b[0;34m:\u001b[0m\u001b[0;34m\u001b[0m\u001b[0;34m\u001b[0m\u001b[0m\n\u001b[1;32m   1391\u001b[0m         \u001b[0;34m\"\"\"Search all candidates in param_grid\"\"\"\u001b[0m\u001b[0;34m\u001b[0m\u001b[0;34m\u001b[0m\u001b[0m\n\u001b[0;32m-> 1392\u001b[0;31m         \u001b[0mevaluate_candidates\u001b[0m\u001b[0;34m(\u001b[0m\u001b[0mParameterGrid\u001b[0m\u001b[0;34m(\u001b[0m\u001b[0mself\u001b[0m\u001b[0;34m.\u001b[0m\u001b[0mparam_grid\u001b[0m\u001b[0;34m)\u001b[0m\u001b[0;34m)\u001b[0m\u001b[0;34m\u001b[0m\u001b[0;34m\u001b[0m\u001b[0m\n\u001b[0m\u001b[1;32m   1393\u001b[0m \u001b[0;34m\u001b[0m\u001b[0m\n\u001b[1;32m   1394\u001b[0m \u001b[0;34m\u001b[0m\u001b[0m\n",
      "\u001b[0;32m~/anaconda3/lib/python3.9/site-packages/sklearn/model_selection/_search.py\u001b[0m in \u001b[0;36mevaluate_candidates\u001b[0;34m(candidate_params, cv, more_results)\u001b[0m\n\u001b[1;32m    836\u001b[0m                     )\n\u001b[1;32m    837\u001b[0m \u001b[0;34m\u001b[0m\u001b[0m\n\u001b[0;32m--> 838\u001b[0;31m                 out = parallel(\n\u001b[0m\u001b[1;32m    839\u001b[0m                     delayed(_fit_and_score)(\n\u001b[1;32m    840\u001b[0m                         \u001b[0mclone\u001b[0m\u001b[0;34m(\u001b[0m\u001b[0mbase_estimator\u001b[0m\u001b[0;34m)\u001b[0m\u001b[0;34m,\u001b[0m\u001b[0;34m\u001b[0m\u001b[0;34m\u001b[0m\u001b[0m\n",
      "\u001b[0;32m~/anaconda3/lib/python3.9/site-packages/joblib/parallel.py\u001b[0m in \u001b[0;36m__call__\u001b[0;34m(self, iterable)\u001b[0m\n\u001b[1;32m   1044\u001b[0m                 \u001b[0mself\u001b[0m\u001b[0;34m.\u001b[0m\u001b[0m_iterating\u001b[0m \u001b[0;34m=\u001b[0m \u001b[0mself\u001b[0m\u001b[0;34m.\u001b[0m\u001b[0m_original_iterator\u001b[0m \u001b[0;32mis\u001b[0m \u001b[0;32mnot\u001b[0m \u001b[0;32mNone\u001b[0m\u001b[0;34m\u001b[0m\u001b[0;34m\u001b[0m\u001b[0m\n\u001b[1;32m   1045\u001b[0m \u001b[0;34m\u001b[0m\u001b[0m\n\u001b[0;32m-> 1046\u001b[0;31m             \u001b[0;32mwhile\u001b[0m \u001b[0mself\u001b[0m\u001b[0;34m.\u001b[0m\u001b[0mdispatch_one_batch\u001b[0m\u001b[0;34m(\u001b[0m\u001b[0miterator\u001b[0m\u001b[0;34m)\u001b[0m\u001b[0;34m:\u001b[0m\u001b[0;34m\u001b[0m\u001b[0;34m\u001b[0m\u001b[0m\n\u001b[0m\u001b[1;32m   1047\u001b[0m                 \u001b[0;32mpass\u001b[0m\u001b[0;34m\u001b[0m\u001b[0;34m\u001b[0m\u001b[0m\n\u001b[1;32m   1048\u001b[0m \u001b[0;34m\u001b[0m\u001b[0m\n",
      "\u001b[0;32m~/anaconda3/lib/python3.9/site-packages/joblib/parallel.py\u001b[0m in \u001b[0;36mdispatch_one_batch\u001b[0;34m(self, iterator)\u001b[0m\n\u001b[1;32m    859\u001b[0m                 \u001b[0;32mreturn\u001b[0m \u001b[0;32mFalse\u001b[0m\u001b[0;34m\u001b[0m\u001b[0;34m\u001b[0m\u001b[0m\n\u001b[1;32m    860\u001b[0m             \u001b[0;32melse\u001b[0m\u001b[0;34m:\u001b[0m\u001b[0;34m\u001b[0m\u001b[0;34m\u001b[0m\u001b[0m\n\u001b[0;32m--> 861\u001b[0;31m                 \u001b[0mself\u001b[0m\u001b[0;34m.\u001b[0m\u001b[0m_dispatch\u001b[0m\u001b[0;34m(\u001b[0m\u001b[0mtasks\u001b[0m\u001b[0;34m)\u001b[0m\u001b[0;34m\u001b[0m\u001b[0;34m\u001b[0m\u001b[0m\n\u001b[0m\u001b[1;32m    862\u001b[0m                 \u001b[0;32mreturn\u001b[0m \u001b[0;32mTrue\u001b[0m\u001b[0;34m\u001b[0m\u001b[0;34m\u001b[0m\u001b[0m\n\u001b[1;32m    863\u001b[0m \u001b[0;34m\u001b[0m\u001b[0m\n",
      "\u001b[0;32m~/anaconda3/lib/python3.9/site-packages/joblib/parallel.py\u001b[0m in \u001b[0;36m_dispatch\u001b[0;34m(self, batch)\u001b[0m\n\u001b[1;32m    777\u001b[0m         \u001b[0;32mwith\u001b[0m \u001b[0mself\u001b[0m\u001b[0;34m.\u001b[0m\u001b[0m_lock\u001b[0m\u001b[0;34m:\u001b[0m\u001b[0;34m\u001b[0m\u001b[0;34m\u001b[0m\u001b[0m\n\u001b[1;32m    778\u001b[0m             \u001b[0mjob_idx\u001b[0m \u001b[0;34m=\u001b[0m \u001b[0mlen\u001b[0m\u001b[0;34m(\u001b[0m\u001b[0mself\u001b[0m\u001b[0;34m.\u001b[0m\u001b[0m_jobs\u001b[0m\u001b[0;34m)\u001b[0m\u001b[0;34m\u001b[0m\u001b[0;34m\u001b[0m\u001b[0m\n\u001b[0;32m--> 779\u001b[0;31m             \u001b[0mjob\u001b[0m \u001b[0;34m=\u001b[0m \u001b[0mself\u001b[0m\u001b[0;34m.\u001b[0m\u001b[0m_backend\u001b[0m\u001b[0;34m.\u001b[0m\u001b[0mapply_async\u001b[0m\u001b[0;34m(\u001b[0m\u001b[0mbatch\u001b[0m\u001b[0;34m,\u001b[0m \u001b[0mcallback\u001b[0m\u001b[0;34m=\u001b[0m\u001b[0mcb\u001b[0m\u001b[0;34m)\u001b[0m\u001b[0;34m\u001b[0m\u001b[0;34m\u001b[0m\u001b[0m\n\u001b[0m\u001b[1;32m    780\u001b[0m             \u001b[0;31m# A job can complete so quickly than its callback is\u001b[0m\u001b[0;34m\u001b[0m\u001b[0;34m\u001b[0m\u001b[0m\n\u001b[1;32m    781\u001b[0m             \u001b[0;31m# called before we get here, causing self._jobs to\u001b[0m\u001b[0;34m\u001b[0m\u001b[0;34m\u001b[0m\u001b[0m\n",
      "\u001b[0;32m~/anaconda3/lib/python3.9/site-packages/joblib/_parallel_backends.py\u001b[0m in \u001b[0;36mapply_async\u001b[0;34m(self, func, callback)\u001b[0m\n\u001b[1;32m    206\u001b[0m     \u001b[0;32mdef\u001b[0m \u001b[0mapply_async\u001b[0m\u001b[0;34m(\u001b[0m\u001b[0mself\u001b[0m\u001b[0;34m,\u001b[0m \u001b[0mfunc\u001b[0m\u001b[0;34m,\u001b[0m \u001b[0mcallback\u001b[0m\u001b[0;34m=\u001b[0m\u001b[0;32mNone\u001b[0m\u001b[0;34m)\u001b[0m\u001b[0;34m:\u001b[0m\u001b[0;34m\u001b[0m\u001b[0;34m\u001b[0m\u001b[0m\n\u001b[1;32m    207\u001b[0m         \u001b[0;34m\"\"\"Schedule a func to be run\"\"\"\u001b[0m\u001b[0;34m\u001b[0m\u001b[0;34m\u001b[0m\u001b[0m\n\u001b[0;32m--> 208\u001b[0;31m         \u001b[0mresult\u001b[0m \u001b[0;34m=\u001b[0m \u001b[0mImmediateResult\u001b[0m\u001b[0;34m(\u001b[0m\u001b[0mfunc\u001b[0m\u001b[0;34m)\u001b[0m\u001b[0;34m\u001b[0m\u001b[0;34m\u001b[0m\u001b[0m\n\u001b[0m\u001b[1;32m    209\u001b[0m         \u001b[0;32mif\u001b[0m \u001b[0mcallback\u001b[0m\u001b[0;34m:\u001b[0m\u001b[0;34m\u001b[0m\u001b[0;34m\u001b[0m\u001b[0m\n\u001b[1;32m    210\u001b[0m             \u001b[0mcallback\u001b[0m\u001b[0;34m(\u001b[0m\u001b[0mresult\u001b[0m\u001b[0;34m)\u001b[0m\u001b[0;34m\u001b[0m\u001b[0;34m\u001b[0m\u001b[0m\n",
      "\u001b[0;32m~/anaconda3/lib/python3.9/site-packages/joblib/_parallel_backends.py\u001b[0m in \u001b[0;36m__init__\u001b[0;34m(self, batch)\u001b[0m\n\u001b[1;32m    570\u001b[0m         \u001b[0;31m# Don't delay the application, to avoid keeping the input\u001b[0m\u001b[0;34m\u001b[0m\u001b[0;34m\u001b[0m\u001b[0m\n\u001b[1;32m    571\u001b[0m         \u001b[0;31m# arguments in memory\u001b[0m\u001b[0;34m\u001b[0m\u001b[0;34m\u001b[0m\u001b[0m\n\u001b[0;32m--> 572\u001b[0;31m         \u001b[0mself\u001b[0m\u001b[0;34m.\u001b[0m\u001b[0mresults\u001b[0m \u001b[0;34m=\u001b[0m \u001b[0mbatch\u001b[0m\u001b[0;34m(\u001b[0m\u001b[0;34m)\u001b[0m\u001b[0;34m\u001b[0m\u001b[0;34m\u001b[0m\u001b[0m\n\u001b[0m\u001b[1;32m    573\u001b[0m \u001b[0;34m\u001b[0m\u001b[0m\n\u001b[1;32m    574\u001b[0m     \u001b[0;32mdef\u001b[0m \u001b[0mget\u001b[0m\u001b[0;34m(\u001b[0m\u001b[0mself\u001b[0m\u001b[0;34m)\u001b[0m\u001b[0;34m:\u001b[0m\u001b[0;34m\u001b[0m\u001b[0;34m\u001b[0m\u001b[0m\n",
      "\u001b[0;32m~/anaconda3/lib/python3.9/site-packages/joblib/parallel.py\u001b[0m in \u001b[0;36m__call__\u001b[0;34m(self)\u001b[0m\n\u001b[1;32m    260\u001b[0m         \u001b[0;31m# change the default number of processes to -1\u001b[0m\u001b[0;34m\u001b[0m\u001b[0;34m\u001b[0m\u001b[0m\n\u001b[1;32m    261\u001b[0m         \u001b[0;32mwith\u001b[0m \u001b[0mparallel_backend\u001b[0m\u001b[0;34m(\u001b[0m\u001b[0mself\u001b[0m\u001b[0;34m.\u001b[0m\u001b[0m_backend\u001b[0m\u001b[0;34m,\u001b[0m \u001b[0mn_jobs\u001b[0m\u001b[0;34m=\u001b[0m\u001b[0mself\u001b[0m\u001b[0;34m.\u001b[0m\u001b[0m_n_jobs\u001b[0m\u001b[0;34m)\u001b[0m\u001b[0;34m:\u001b[0m\u001b[0;34m\u001b[0m\u001b[0;34m\u001b[0m\u001b[0m\n\u001b[0;32m--> 262\u001b[0;31m             return [func(*args, **kwargs)\n\u001b[0m\u001b[1;32m    263\u001b[0m                     for func, args, kwargs in self.items]\n\u001b[1;32m    264\u001b[0m \u001b[0;34m\u001b[0m\u001b[0m\n",
      "\u001b[0;32m~/anaconda3/lib/python3.9/site-packages/joblib/parallel.py\u001b[0m in \u001b[0;36m<listcomp>\u001b[0;34m(.0)\u001b[0m\n\u001b[1;32m    260\u001b[0m         \u001b[0;31m# change the default number of processes to -1\u001b[0m\u001b[0;34m\u001b[0m\u001b[0;34m\u001b[0m\u001b[0m\n\u001b[1;32m    261\u001b[0m         \u001b[0;32mwith\u001b[0m \u001b[0mparallel_backend\u001b[0m\u001b[0;34m(\u001b[0m\u001b[0mself\u001b[0m\u001b[0;34m.\u001b[0m\u001b[0m_backend\u001b[0m\u001b[0;34m,\u001b[0m \u001b[0mn_jobs\u001b[0m\u001b[0;34m=\u001b[0m\u001b[0mself\u001b[0m\u001b[0;34m.\u001b[0m\u001b[0m_n_jobs\u001b[0m\u001b[0;34m)\u001b[0m\u001b[0;34m:\u001b[0m\u001b[0;34m\u001b[0m\u001b[0;34m\u001b[0m\u001b[0m\n\u001b[0;32m--> 262\u001b[0;31m             return [func(*args, **kwargs)\n\u001b[0m\u001b[1;32m    263\u001b[0m                     for func, args, kwargs in self.items]\n\u001b[1;32m    264\u001b[0m \u001b[0;34m\u001b[0m\u001b[0m\n",
      "\u001b[0;32m~/anaconda3/lib/python3.9/site-packages/sklearn/utils/fixes.py\u001b[0m in \u001b[0;36m__call__\u001b[0;34m(self, *args, **kwargs)\u001b[0m\n\u001b[1;32m    214\u001b[0m     \u001b[0;32mdef\u001b[0m \u001b[0m__call__\u001b[0m\u001b[0;34m(\u001b[0m\u001b[0mself\u001b[0m\u001b[0;34m,\u001b[0m \u001b[0;34m*\u001b[0m\u001b[0margs\u001b[0m\u001b[0;34m,\u001b[0m \u001b[0;34m**\u001b[0m\u001b[0mkwargs\u001b[0m\u001b[0;34m)\u001b[0m\u001b[0;34m:\u001b[0m\u001b[0;34m\u001b[0m\u001b[0;34m\u001b[0m\u001b[0m\n\u001b[1;32m    215\u001b[0m         \u001b[0;32mwith\u001b[0m \u001b[0mconfig_context\u001b[0m\u001b[0;34m(\u001b[0m\u001b[0;34m**\u001b[0m\u001b[0mself\u001b[0m\u001b[0;34m.\u001b[0m\u001b[0mconfig\u001b[0m\u001b[0;34m)\u001b[0m\u001b[0;34m:\u001b[0m\u001b[0;34m\u001b[0m\u001b[0;34m\u001b[0m\u001b[0m\n\u001b[0;32m--> 216\u001b[0;31m             \u001b[0;32mreturn\u001b[0m \u001b[0mself\u001b[0m\u001b[0;34m.\u001b[0m\u001b[0mfunction\u001b[0m\u001b[0;34m(\u001b[0m\u001b[0;34m*\u001b[0m\u001b[0margs\u001b[0m\u001b[0;34m,\u001b[0m \u001b[0;34m**\u001b[0m\u001b[0mkwargs\u001b[0m\u001b[0;34m)\u001b[0m\u001b[0;34m\u001b[0m\u001b[0;34m\u001b[0m\u001b[0m\n\u001b[0m\u001b[1;32m    217\u001b[0m \u001b[0;34m\u001b[0m\u001b[0m\n\u001b[1;32m    218\u001b[0m \u001b[0;34m\u001b[0m\u001b[0m\n",
      "\u001b[0;32m~/anaconda3/lib/python3.9/site-packages/sklearn/model_selection/_validation.py\u001b[0m in \u001b[0;36m_fit_and_score\u001b[0;34m(estimator, X, y, scorer, train, test, verbose, parameters, fit_params, return_train_score, return_parameters, return_n_test_samples, return_times, return_estimator, split_progress, candidate_progress, error_score)\u001b[0m\n\u001b[1;32m    678\u001b[0m             \u001b[0mestimator\u001b[0m\u001b[0;34m.\u001b[0m\u001b[0mfit\u001b[0m\u001b[0;34m(\u001b[0m\u001b[0mX_train\u001b[0m\u001b[0;34m,\u001b[0m \u001b[0;34m**\u001b[0m\u001b[0mfit_params\u001b[0m\u001b[0;34m)\u001b[0m\u001b[0;34m\u001b[0m\u001b[0;34m\u001b[0m\u001b[0m\n\u001b[1;32m    679\u001b[0m         \u001b[0;32melse\u001b[0m\u001b[0;34m:\u001b[0m\u001b[0;34m\u001b[0m\u001b[0;34m\u001b[0m\u001b[0m\n\u001b[0;32m--> 680\u001b[0;31m             \u001b[0mestimator\u001b[0m\u001b[0;34m.\u001b[0m\u001b[0mfit\u001b[0m\u001b[0;34m(\u001b[0m\u001b[0mX_train\u001b[0m\u001b[0;34m,\u001b[0m \u001b[0my_train\u001b[0m\u001b[0;34m,\u001b[0m \u001b[0;34m**\u001b[0m\u001b[0mfit_params\u001b[0m\u001b[0;34m)\u001b[0m\u001b[0;34m\u001b[0m\u001b[0;34m\u001b[0m\u001b[0m\n\u001b[0m\u001b[1;32m    681\u001b[0m \u001b[0;34m\u001b[0m\u001b[0m\n\u001b[1;32m    682\u001b[0m     \u001b[0;32mexcept\u001b[0m \u001b[0mException\u001b[0m\u001b[0;34m:\u001b[0m\u001b[0;34m\u001b[0m\u001b[0;34m\u001b[0m\u001b[0m\n",
      "\u001b[0;32m~/anaconda3/lib/python3.9/site-packages/sklearn/linear_model/_coordinate_descent.py\u001b[0m in \u001b[0;36mfit\u001b[0;34m(self, X, y, sample_weight, check_input)\u001b[0m\n\u001b[1;32m   1037\u001b[0m             \u001b[0;32melse\u001b[0m\u001b[0;34m:\u001b[0m\u001b[0;34m\u001b[0m\u001b[0;34m\u001b[0m\u001b[0m\n\u001b[1;32m   1038\u001b[0m                 \u001b[0mthis_Xy\u001b[0m \u001b[0;34m=\u001b[0m \u001b[0;32mNone\u001b[0m\u001b[0;34m\u001b[0m\u001b[0;34m\u001b[0m\u001b[0m\n\u001b[0;32m-> 1039\u001b[0;31m             _, this_coef, this_dual_gap, this_iter = self.path(\n\u001b[0m\u001b[1;32m   1040\u001b[0m                 \u001b[0mX\u001b[0m\u001b[0;34m,\u001b[0m\u001b[0;34m\u001b[0m\u001b[0;34m\u001b[0m\u001b[0m\n\u001b[1;32m   1041\u001b[0m                 \u001b[0my\u001b[0m\u001b[0;34m[\u001b[0m\u001b[0;34m:\u001b[0m\u001b[0;34m,\u001b[0m \u001b[0mk\u001b[0m\u001b[0;34m]\u001b[0m\u001b[0;34m,\u001b[0m\u001b[0;34m\u001b[0m\u001b[0;34m\u001b[0m\u001b[0m\n",
      "\u001b[0;32m~/anaconda3/lib/python3.9/site-packages/sklearn/linear_model/_coordinate_descent.py\u001b[0m in \u001b[0;36menet_path\u001b[0;34m(X, y, l1_ratio, eps, n_alphas, alphas, precompute, Xy, copy_X, coef_init, verbose, return_n_iter, positive, check_input, **params)\u001b[0m\n\u001b[1;32m    645\u001b[0m             )\n\u001b[1;32m    646\u001b[0m         \u001b[0;32melif\u001b[0m \u001b[0mprecompute\u001b[0m \u001b[0;32mis\u001b[0m \u001b[0;32mFalse\u001b[0m\u001b[0;34m:\u001b[0m\u001b[0;34m\u001b[0m\u001b[0;34m\u001b[0m\u001b[0m\n\u001b[0;32m--> 647\u001b[0;31m             model = cd_fast.enet_coordinate_descent(\n\u001b[0m\u001b[1;32m    648\u001b[0m                 \u001b[0mcoef_\u001b[0m\u001b[0;34m,\u001b[0m \u001b[0ml1_reg\u001b[0m\u001b[0;34m,\u001b[0m \u001b[0ml2_reg\u001b[0m\u001b[0;34m,\u001b[0m \u001b[0mX\u001b[0m\u001b[0;34m,\u001b[0m \u001b[0my\u001b[0m\u001b[0;34m,\u001b[0m \u001b[0mmax_iter\u001b[0m\u001b[0;34m,\u001b[0m \u001b[0mtol\u001b[0m\u001b[0;34m,\u001b[0m \u001b[0mrng\u001b[0m\u001b[0;34m,\u001b[0m \u001b[0mrandom\u001b[0m\u001b[0;34m,\u001b[0m \u001b[0mpositive\u001b[0m\u001b[0;34m\u001b[0m\u001b[0;34m\u001b[0m\u001b[0m\n\u001b[1;32m    649\u001b[0m             )\n",
      "\u001b[0;32msklearn/linear_model/_cd_fast.pyx\u001b[0m in \u001b[0;36msklearn.linear_model._cd_fast.enet_coordinate_descent\u001b[0;34m()\u001b[0m\n",
      "\u001b[0;32m~/anaconda3/lib/python3.9/site-packages/numpy/core/getlimits.py\u001b[0m in \u001b[0;36m__new__\u001b[0;34m(cls, dtype)\u001b[0m\n\u001b[1;32m    381\u001b[0m \u001b[0;34m\u001b[0m\u001b[0m\n\u001b[1;32m    382\u001b[0m     \u001b[0;32mdef\u001b[0m \u001b[0m__new__\u001b[0m\u001b[0;34m(\u001b[0m\u001b[0mcls\u001b[0m\u001b[0;34m,\u001b[0m \u001b[0mdtype\u001b[0m\u001b[0;34m)\u001b[0m\u001b[0;34m:\u001b[0m\u001b[0;34m\u001b[0m\u001b[0;34m\u001b[0m\u001b[0m\n\u001b[0;32m--> 383\u001b[0;31m         \u001b[0;32mtry\u001b[0m\u001b[0;34m:\u001b[0m\u001b[0;34m\u001b[0m\u001b[0;34m\u001b[0m\u001b[0m\n\u001b[0m\u001b[1;32m    384\u001b[0m             \u001b[0mdtype\u001b[0m \u001b[0;34m=\u001b[0m \u001b[0mnumeric\u001b[0m\u001b[0;34m.\u001b[0m\u001b[0mdtype\u001b[0m\u001b[0;34m(\u001b[0m\u001b[0mdtype\u001b[0m\u001b[0;34m)\u001b[0m\u001b[0;34m\u001b[0m\u001b[0;34m\u001b[0m\u001b[0m\n\u001b[1;32m    385\u001b[0m         \u001b[0;32mexcept\u001b[0m \u001b[0mTypeError\u001b[0m\u001b[0;34m:\u001b[0m\u001b[0;34m\u001b[0m\u001b[0;34m\u001b[0m\u001b[0m\n",
      "\u001b[0;31mKeyboardInterrupt\u001b[0m: "
     ]
    }
   ],
   "source": [
    "df_result_fi = run_Algorithms(df, True, None)\n",
    "df_result_nfi = run_Algorithms(df, False, None)"
   ]
  },
  {
   "cell_type": "code",
   "execution_count": null,
   "metadata": {},
   "outputs": [],
   "source": [
    "df_result['accuracy'][0]\n",
    "\n",
    "import matplotlib.pyplot as plt\n",
    "import seaborn as sns\n",
    "import pandas as pd\n",
    "\n",
    "rs = []\n",
    "for i in range(len(df_result_fi['accuracy'])):\n",
    "    rs.append(df_result_fi['accuracy'][i]['mean'])\n",
    "\n",
    "# rs\n",
    "# display (df_result['algorithm_name'], df_result['accuracy'], rs)\n",
    "\n",
    "plt.scatter(df_result_fi['algorithm_name'], rs, color =\"blue\", marker = \"s\")\n",
    "plt.plot(df_result_fi['algorithm_name'], rs, color =\"blue\")\n"
   ]
  },
  {
   "cell_type": "code",
   "execution_count": null,
   "metadata": {},
   "outputs": [],
   "source": [
    "# Boxplot\n",
    "import matplotlib.pyplot as plt\n",
    "import seaborn as sns\n",
    "import pandas as pd\n",
    "\n",
    "\n",
    "data = [model['LinearRegression'].coef_, model['Lasso'].coef_, model['Ridge'].coef_, model['ElasticNet'].coef_, model['PolynomialRegression'].coef_]\n",
    "fig1, ax1 = plt.subplots()\n",
    "ax1.set_title('Coeficient of feature importance for all algorithms')\n",
    "ax1.boxplot(data)\n",
    "plt.show()"
   ]
  },
  {
   "cell_type": "code",
   "execution_count": null,
   "metadata": {},
   "outputs": [],
   "source": []
  }
 ],
 "metadata": {
  "kernelspec": {
   "display_name": "Python 3 (ipykernel)",
   "language": "python",
   "name": "python3"
  },
  "language_info": {
   "codemirror_mode": {
    "name": "ipython",
    "version": 3
   },
   "file_extension": ".py",
   "mimetype": "text/x-python",
   "name": "python",
   "nbconvert_exporter": "python",
   "pygments_lexer": "ipython3",
   "version": "3.9.13"
  }
 },
 "nbformat": 4,
 "nbformat_minor": 2
}
